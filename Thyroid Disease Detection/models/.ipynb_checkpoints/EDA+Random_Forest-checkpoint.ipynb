{
 "cells": [
  {
   "cell_type": "markdown",
   "metadata": {},
   "source": [
    "## Thyroid Disease Detection End to End with Deployment\n"
   ]
  },
  {
   "cell_type": "markdown",
   "metadata": {},
   "source": [
    "#### Importing important libraries"
   ]
  },
  {
   "cell_type": "code",
   "execution_count": 1,
   "metadata": {},
   "outputs": [],
   "source": [
    "import warnings\n",
    "warnings.filterwarnings('ignore')"
   ]
  },
  {
   "cell_type": "code",
   "execution_count": 2,
   "metadata": {},
   "outputs": [],
   "source": [
    "import pandas as pd\n",
    "import numpy as np\n",
    "import matplotlib.pyplot as plt\n",
    "import seaborn as sns\n",
    "sns.set()\n",
    "\n",
    "from sklearn.utils import resample\n",
    "from imblearn.over_sampling import SMOTENC,RandomOverSampler,KMeansSMOTE\n",
    "from sklearn.impute import KNNImputer\n",
    "from sklearn.preprocessing import LabelEncoder\n",
    "from imblearn.over_sampling import SMOTE\n",
    "from imblearn.over_sampling import RandomOverSampler\n",
    "\n",
    "from scipy.stats import skew\n",
    "# from scipy.stats import boxcox\n",
    "from scipy.stats import yeojohnson\n",
    "\n",
    "import pickle\n",
    "\n",
    "from statsmodels.stats.outliers_influence import variance_inflation_factor\n",
    "import statsmodels.api as sm\n",
    "from statsmodels.api import add_constant\n",
    "\n",
    "\n",
    "# import the train_test_split library\n",
    "from sklearn.model_selection import train_test_split\n",
    "\n",
    "# importing the SMOTE library\n",
    "from imblearn.over_sampling import SMOTE\n",
    "\n",
    "# ML classifiers\n",
    "from sklearn.ensemble import RandomForestClassifier\n",
    "\n",
    "from sklearn import metrics\n",
    "\n",
    "\n",
    "# for hyperparameter tuning\n",
    "from sklearn.model_selection import RandomizedSearchCV\n",
    "\n",
    "# performance parameters\n",
    "from sklearn.metrics import confusion_matrix, accuracy_score, classification_report\n"
   ]
  },
  {
   "cell_type": "markdown",
   "metadata": {},
   "source": [
    "#### Reading datasets: allhypo and allhyper"
   ]
  },
  {
   "cell_type": "code",
   "execution_count": 3,
   "metadata": {},
   "outputs": [],
   "source": [
    "df_hypo = pd.read_csv('allhypo.data', header = None, index_col = False)\n",
    "df_hyper = pd.read_csv('allhyper.data', header = None, index_col = False)\n"
   ]
  },
  {
   "cell_type": "code",
   "execution_count": 4,
   "metadata": {},
   "outputs": [],
   "source": [
    "columns = [\"age\",\"sex\",\"on thyroxine\",\"query on thyroxine\",\"on antithyroid medication\",\"sick\",\"pregnant\",\\\n",
    "           \"thyroid surgery\",\"I131 treatment\",\"query hypothyroid\",\"query hyperthyroid\",\"lithium\",\"goitre\",\\\n",
    "           \"tumor\",\"hypopituitary\",\"psych\",\"TSH measured\",\"TSH\",\"T3 measured\",\"T3\",\"TT4 measured\",\"TT4\",\\\n",
    "           \"T4U measured\",\"T4U\",\"FTI measured\",\"FTI\",\"TBG measured\",\"TBG\",\"referral source\",\"labels\"]\n",
    "\n",
    "\n",
    "df_hypo = pd.read_csv('allhypo.data', names = columns, na_values = ['?'], index_col = False)\n",
    "df_hyper = pd.read_csv('allhyper.data', names = columns, na_values = ['?'], index_col = False)\n"
   ]
  },
  {
   "cell_type": "markdown",
   "metadata": {},
   "source": [
    "#### Data Understanding and Data Preparation"
   ]
  },
  {
   "cell_type": "markdown",
   "metadata": {},
   "source": [
    "Splitting the labels column at | into two columns: 'class' and 'id'.\n",
    "\n",
    "After that dropping the labels column."
   ]
  },
  {
   "cell_type": "code",
   "execution_count": 5,
   "metadata": {},
   "outputs": [],
   "source": [
    "df_hypo[['hypo_class','id']] = df_hypo.labels.str.split(\"|\",expand = True)\n",
    "df_hypo.drop('labels', axis = 1, inplace = True)\n",
    "\n",
    "df_hyper[['hyper_class','id']] = df_hyper.labels.str.split(\"|\",expand = True)\n",
    "df_hyper.drop('labels', axis = 1, inplace = True)\n"
   ]
  },
  {
   "cell_type": "markdown",
   "metadata": {},
   "source": [
    "Replacing the '.' in 'class' column with space ('')\n"
   ]
  },
  {
   "cell_type": "code",
   "execution_count": 6,
   "metadata": {},
   "outputs": [],
   "source": [
    "df_hypo['hypo_class'] = df_hypo['hypo_class'].str.replace('.', '')\n",
    "df_hyper['hyper_class'] = df_hyper['hyper_class'].str.replace('.', '')\n"
   ]
  },
  {
   "cell_type": "markdown",
   "metadata": {},
   "source": [
    "Deep copying both the datasets for future reference.\n"
   ]
  },
  {
   "cell_type": "code",
   "execution_count": 7,
   "metadata": {},
   "outputs": [],
   "source": [
    "df_hypo_copy = df_hypo.copy(deep=True)\n",
    "df_hyper_copy = df_hyper.copy(deep=True)\n"
   ]
  },
  {
   "cell_type": "markdown",
   "metadata": {},
   "source": [
    "#### Checking total unique values in both dataset of the class 'hypo_class' and 'hyper_class'\n"
   ]
  },
  {
   "cell_type": "code",
   "execution_count": 8,
   "metadata": {},
   "outputs": [
    {
     "name": "stdout",
     "output_type": "stream",
     "text": [
      "['negative' 'compensated hypothyroid' 'primary hypothyroid'\n",
      " 'secondary hypothyroid']\n",
      "['negative' 'hyperthyroid' 'T3 toxic' 'goitre']\n"
     ]
    }
   ],
   "source": [
    "print(df_hypo['hypo_class'].unique())\n",
    "print(df_hyper['hyper_class'].unique())\n"
   ]
  },
  {
   "cell_type": "markdown",
   "metadata": {},
   "source": [
    "Since we are classifying only in three categories: 'negative', 'hypothyroid', and 'hyperthyroid'.\n",
    "\n",
    "So, let's replace other values with 'negative', 'hypothyroid', and 'hyperthyroid'."
   ]
  },
  {
   "cell_type": "code",
   "execution_count": 9,
   "metadata": {},
   "outputs": [],
   "source": [
    "df_hypo.replace(['compensated hypothyroid', 'primary hypothyroid',\\\n",
    "                 'secondary hypothyroid'], 'hypothyroid', inplace = True)\n",
    "\n",
    "df_hyper.replace(['T3 toxic', 'goitre'], 'hyperthyroid', inplace = True)\n"
   ]
  },
  {
   "cell_type": "markdown",
   "metadata": {},
   "source": [
    "Since all values are common in both the datasets expect 'class'.\n",
    "\n",
    "So, we can concatnate both the datasets."
   ]
  },
  {
   "cell_type": "code",
   "execution_count": 10,
   "metadata": {},
   "outputs": [
    {
     "data": {
      "text/html": [
       "<div>\n",
       "<style scoped>\n",
       "    .dataframe tbody tr th:only-of-type {\n",
       "        vertical-align: middle;\n",
       "    }\n",
       "\n",
       "    .dataframe tbody tr th {\n",
       "        vertical-align: top;\n",
       "    }\n",
       "\n",
       "    .dataframe thead th {\n",
       "        text-align: right;\n",
       "    }\n",
       "</style>\n",
       "<table border=\"1\" class=\"dataframe\">\n",
       "  <thead>\n",
       "    <tr style=\"text-align: right;\">\n",
       "      <th></th>\n",
       "      <th>age</th>\n",
       "      <th>sex</th>\n",
       "      <th>on thyroxine</th>\n",
       "      <th>query on thyroxine</th>\n",
       "      <th>on antithyroid medication</th>\n",
       "      <th>sick</th>\n",
       "      <th>pregnant</th>\n",
       "      <th>thyroid surgery</th>\n",
       "      <th>I131 treatment</th>\n",
       "      <th>query hypothyroid</th>\n",
       "      <th>...</th>\n",
       "      <th>T4U measured</th>\n",
       "      <th>T4U</th>\n",
       "      <th>FTI measured</th>\n",
       "      <th>FTI</th>\n",
       "      <th>TBG measured</th>\n",
       "      <th>TBG</th>\n",
       "      <th>referral source</th>\n",
       "      <th>hypo_class</th>\n",
       "      <th>id</th>\n",
       "      <th>hyper_class</th>\n",
       "    </tr>\n",
       "  </thead>\n",
       "  <tbody>\n",
       "    <tr>\n",
       "      <th>0</th>\n",
       "      <td>41.0</td>\n",
       "      <td>F</td>\n",
       "      <td>f</td>\n",
       "      <td>f</td>\n",
       "      <td>f</td>\n",
       "      <td>f</td>\n",
       "      <td>f</td>\n",
       "      <td>f</td>\n",
       "      <td>f</td>\n",
       "      <td>f</td>\n",
       "      <td>...</td>\n",
       "      <td>t</td>\n",
       "      <td>1.14</td>\n",
       "      <td>t</td>\n",
       "      <td>109.0</td>\n",
       "      <td>f</td>\n",
       "      <td>NaN</td>\n",
       "      <td>SVHC</td>\n",
       "      <td>negative</td>\n",
       "      <td>3733</td>\n",
       "      <td>negative</td>\n",
       "    </tr>\n",
       "    <tr>\n",
       "      <th>1</th>\n",
       "      <td>23.0</td>\n",
       "      <td>F</td>\n",
       "      <td>f</td>\n",
       "      <td>f</td>\n",
       "      <td>f</td>\n",
       "      <td>f</td>\n",
       "      <td>f</td>\n",
       "      <td>f</td>\n",
       "      <td>f</td>\n",
       "      <td>f</td>\n",
       "      <td>...</td>\n",
       "      <td>f</td>\n",
       "      <td>NaN</td>\n",
       "      <td>f</td>\n",
       "      <td>NaN</td>\n",
       "      <td>f</td>\n",
       "      <td>NaN</td>\n",
       "      <td>other</td>\n",
       "      <td>negative</td>\n",
       "      <td>1442</td>\n",
       "      <td>negative</td>\n",
       "    </tr>\n",
       "    <tr>\n",
       "      <th>2</th>\n",
       "      <td>46.0</td>\n",
       "      <td>M</td>\n",
       "      <td>f</td>\n",
       "      <td>f</td>\n",
       "      <td>f</td>\n",
       "      <td>f</td>\n",
       "      <td>f</td>\n",
       "      <td>f</td>\n",
       "      <td>f</td>\n",
       "      <td>f</td>\n",
       "      <td>...</td>\n",
       "      <td>t</td>\n",
       "      <td>0.91</td>\n",
       "      <td>t</td>\n",
       "      <td>120.0</td>\n",
       "      <td>f</td>\n",
       "      <td>NaN</td>\n",
       "      <td>other</td>\n",
       "      <td>negative</td>\n",
       "      <td>2965</td>\n",
       "      <td>negative</td>\n",
       "    </tr>\n",
       "    <tr>\n",
       "      <th>3</th>\n",
       "      <td>70.0</td>\n",
       "      <td>F</td>\n",
       "      <td>t</td>\n",
       "      <td>f</td>\n",
       "      <td>f</td>\n",
       "      <td>f</td>\n",
       "      <td>f</td>\n",
       "      <td>f</td>\n",
       "      <td>f</td>\n",
       "      <td>f</td>\n",
       "      <td>...</td>\n",
       "      <td>f</td>\n",
       "      <td>NaN</td>\n",
       "      <td>f</td>\n",
       "      <td>NaN</td>\n",
       "      <td>f</td>\n",
       "      <td>NaN</td>\n",
       "      <td>other</td>\n",
       "      <td>negative</td>\n",
       "      <td>806</td>\n",
       "      <td>negative</td>\n",
       "    </tr>\n",
       "    <tr>\n",
       "      <th>4</th>\n",
       "      <td>70.0</td>\n",
       "      <td>F</td>\n",
       "      <td>f</td>\n",
       "      <td>f</td>\n",
       "      <td>f</td>\n",
       "      <td>f</td>\n",
       "      <td>f</td>\n",
       "      <td>f</td>\n",
       "      <td>f</td>\n",
       "      <td>f</td>\n",
       "      <td>...</td>\n",
       "      <td>t</td>\n",
       "      <td>0.87</td>\n",
       "      <td>t</td>\n",
       "      <td>70.0</td>\n",
       "      <td>f</td>\n",
       "      <td>NaN</td>\n",
       "      <td>SVI</td>\n",
       "      <td>negative</td>\n",
       "      <td>2807</td>\n",
       "      <td>negative</td>\n",
       "    </tr>\n",
       "  </tbody>\n",
       "</table>\n",
       "<p>5 rows × 32 columns</p>\n",
       "</div>"
      ],
      "text/plain": [
       "    age sex on thyroxine query on thyroxine on antithyroid medication sick  \\\n",
       "0  41.0   F            f                  f                         f    f   \n",
       "1  23.0   F            f                  f                         f    f   \n",
       "2  46.0   M            f                  f                         f    f   \n",
       "3  70.0   F            t                  f                         f    f   \n",
       "4  70.0   F            f                  f                         f    f   \n",
       "\n",
       "  pregnant thyroid surgery I131 treatment query hypothyroid  ... T4U measured  \\\n",
       "0        f               f              f                 f  ...            t   \n",
       "1        f               f              f                 f  ...            f   \n",
       "2        f               f              f                 f  ...            t   \n",
       "3        f               f              f                 f  ...            f   \n",
       "4        f               f              f                 f  ...            t   \n",
       "\n",
       "    T4U FTI measured    FTI TBG measured TBG referral source  hypo_class  \\\n",
       "0  1.14            t  109.0            f NaN            SVHC    negative   \n",
       "1   NaN            f    NaN            f NaN           other    negative   \n",
       "2  0.91            t  120.0            f NaN           other    negative   \n",
       "3   NaN            f    NaN            f NaN           other    negative   \n",
       "4  0.87            t   70.0            f NaN             SVI    negative   \n",
       "\n",
       "     id  hyper_class  \n",
       "0  3733     negative  \n",
       "1  1442     negative  \n",
       "2  2965     negative  \n",
       "3   806     negative  \n",
       "4  2807     negative  \n",
       "\n",
       "[5 rows x 32 columns]"
      ]
     },
     "execution_count": 10,
     "metadata": {},
     "output_type": "execute_result"
    }
   ],
   "source": [
    "df_concat = pd.concat([df_hypo, df_hyper.iloc[:, -2]], axis=1)\n",
    "df_concat.head()\n"
   ]
  },
  {
   "cell_type": "markdown",
   "metadata": {},
   "source": [
    "Deep copying the concatnated dataset for future reference."
   ]
  },
  {
   "cell_type": "code",
   "execution_count": 11,
   "metadata": {},
   "outputs": [],
   "source": [
    "df_new = df_concat.copy(deep = True)\n",
    "\n",
    "# df_concat.replace(['negative', 'hyperthyroid', 'hypothyroid'], [0,1,2], inplace = True)\n"
   ]
  },
  {
   "cell_type": "markdown",
   "metadata": {},
   "source": [
    "Now, the conditions based on which we are replacing the 'class' value with any of the 'class' i.e. 'hypo_class' or 'hyper_class'\n",
    "\n",
    "- neg + neg = neg\n",
    "- hypo + neg = hypo\n",
    "- hyper + neg = hyper"
   ]
  },
  {
   "cell_type": "markdown",
   "metadata": {},
   "source": [
    "Applying the above conditions using 'numpy where' and creating a single column for categories, 'labels'."
   ]
  },
  {
   "cell_type": "code",
   "execution_count": 12,
   "metadata": {},
   "outputs": [],
   "source": [
    "df_concat['labels'] = np.where(((df_concat['hypo_class'] != 'negative') & \\\n",
    "                                (df_concat['hyper_class'] == 'negative')), df_concat['hypo_class'],\\\n",
    "                      np.where((df_concat['hyper_class'] != 'negative'), df_concat['hyper_class'],'negative'))\n"
   ]
  },
  {
   "cell_type": "code",
   "execution_count": 13,
   "metadata": {},
   "outputs": [
    {
     "data": {
      "text/html": [
       "<div>\n",
       "<style scoped>\n",
       "    .dataframe tbody tr th:only-of-type {\n",
       "        vertical-align: middle;\n",
       "    }\n",
       "\n",
       "    .dataframe tbody tr th {\n",
       "        vertical-align: top;\n",
       "    }\n",
       "\n",
       "    .dataframe thead th {\n",
       "        text-align: right;\n",
       "    }\n",
       "</style>\n",
       "<table border=\"1\" class=\"dataframe\">\n",
       "  <thead>\n",
       "    <tr style=\"text-align: right;\">\n",
       "      <th></th>\n",
       "      <th>age</th>\n",
       "      <th>sex</th>\n",
       "      <th>on thyroxine</th>\n",
       "      <th>query on thyroxine</th>\n",
       "      <th>on antithyroid medication</th>\n",
       "      <th>sick</th>\n",
       "      <th>pregnant</th>\n",
       "      <th>thyroid surgery</th>\n",
       "      <th>I131 treatment</th>\n",
       "      <th>query hypothyroid</th>\n",
       "      <th>...</th>\n",
       "      <th>T4U</th>\n",
       "      <th>FTI measured</th>\n",
       "      <th>FTI</th>\n",
       "      <th>TBG measured</th>\n",
       "      <th>TBG</th>\n",
       "      <th>referral source</th>\n",
       "      <th>hypo_class</th>\n",
       "      <th>id</th>\n",
       "      <th>hyper_class</th>\n",
       "      <th>labels</th>\n",
       "    </tr>\n",
       "  </thead>\n",
       "  <tbody>\n",
       "    <tr>\n",
       "      <th>0</th>\n",
       "      <td>41.0</td>\n",
       "      <td>F</td>\n",
       "      <td>f</td>\n",
       "      <td>f</td>\n",
       "      <td>f</td>\n",
       "      <td>f</td>\n",
       "      <td>f</td>\n",
       "      <td>f</td>\n",
       "      <td>f</td>\n",
       "      <td>f</td>\n",
       "      <td>...</td>\n",
       "      <td>1.14</td>\n",
       "      <td>t</td>\n",
       "      <td>109.0</td>\n",
       "      <td>f</td>\n",
       "      <td>NaN</td>\n",
       "      <td>SVHC</td>\n",
       "      <td>negative</td>\n",
       "      <td>3733</td>\n",
       "      <td>negative</td>\n",
       "      <td>negative</td>\n",
       "    </tr>\n",
       "    <tr>\n",
       "      <th>1</th>\n",
       "      <td>23.0</td>\n",
       "      <td>F</td>\n",
       "      <td>f</td>\n",
       "      <td>f</td>\n",
       "      <td>f</td>\n",
       "      <td>f</td>\n",
       "      <td>f</td>\n",
       "      <td>f</td>\n",
       "      <td>f</td>\n",
       "      <td>f</td>\n",
       "      <td>...</td>\n",
       "      <td>NaN</td>\n",
       "      <td>f</td>\n",
       "      <td>NaN</td>\n",
       "      <td>f</td>\n",
       "      <td>NaN</td>\n",
       "      <td>other</td>\n",
       "      <td>negative</td>\n",
       "      <td>1442</td>\n",
       "      <td>negative</td>\n",
       "      <td>negative</td>\n",
       "    </tr>\n",
       "    <tr>\n",
       "      <th>2</th>\n",
       "      <td>46.0</td>\n",
       "      <td>M</td>\n",
       "      <td>f</td>\n",
       "      <td>f</td>\n",
       "      <td>f</td>\n",
       "      <td>f</td>\n",
       "      <td>f</td>\n",
       "      <td>f</td>\n",
       "      <td>f</td>\n",
       "      <td>f</td>\n",
       "      <td>...</td>\n",
       "      <td>0.91</td>\n",
       "      <td>t</td>\n",
       "      <td>120.0</td>\n",
       "      <td>f</td>\n",
       "      <td>NaN</td>\n",
       "      <td>other</td>\n",
       "      <td>negative</td>\n",
       "      <td>2965</td>\n",
       "      <td>negative</td>\n",
       "      <td>negative</td>\n",
       "    </tr>\n",
       "    <tr>\n",
       "      <th>3</th>\n",
       "      <td>70.0</td>\n",
       "      <td>F</td>\n",
       "      <td>t</td>\n",
       "      <td>f</td>\n",
       "      <td>f</td>\n",
       "      <td>f</td>\n",
       "      <td>f</td>\n",
       "      <td>f</td>\n",
       "      <td>f</td>\n",
       "      <td>f</td>\n",
       "      <td>...</td>\n",
       "      <td>NaN</td>\n",
       "      <td>f</td>\n",
       "      <td>NaN</td>\n",
       "      <td>f</td>\n",
       "      <td>NaN</td>\n",
       "      <td>other</td>\n",
       "      <td>negative</td>\n",
       "      <td>806</td>\n",
       "      <td>negative</td>\n",
       "      <td>negative</td>\n",
       "    </tr>\n",
       "    <tr>\n",
       "      <th>4</th>\n",
       "      <td>70.0</td>\n",
       "      <td>F</td>\n",
       "      <td>f</td>\n",
       "      <td>f</td>\n",
       "      <td>f</td>\n",
       "      <td>f</td>\n",
       "      <td>f</td>\n",
       "      <td>f</td>\n",
       "      <td>f</td>\n",
       "      <td>f</td>\n",
       "      <td>...</td>\n",
       "      <td>0.87</td>\n",
       "      <td>t</td>\n",
       "      <td>70.0</td>\n",
       "      <td>f</td>\n",
       "      <td>NaN</td>\n",
       "      <td>SVI</td>\n",
       "      <td>negative</td>\n",
       "      <td>2807</td>\n",
       "      <td>negative</td>\n",
       "      <td>negative</td>\n",
       "    </tr>\n",
       "  </tbody>\n",
       "</table>\n",
       "<p>5 rows × 33 columns</p>\n",
       "</div>"
      ],
      "text/plain": [
       "    age sex on thyroxine query on thyroxine on antithyroid medication sick  \\\n",
       "0  41.0   F            f                  f                         f    f   \n",
       "1  23.0   F            f                  f                         f    f   \n",
       "2  46.0   M            f                  f                         f    f   \n",
       "3  70.0   F            t                  f                         f    f   \n",
       "4  70.0   F            f                  f                         f    f   \n",
       "\n",
       "  pregnant thyroid surgery I131 treatment query hypothyroid  ...   T4U  \\\n",
       "0        f               f              f                 f  ...  1.14   \n",
       "1        f               f              f                 f  ...   NaN   \n",
       "2        f               f              f                 f  ...  0.91   \n",
       "3        f               f              f                 f  ...   NaN   \n",
       "4        f               f              f                 f  ...  0.87   \n",
       "\n",
       "  FTI measured    FTI TBG measured TBG referral source hypo_class    id  \\\n",
       "0            t  109.0            f NaN            SVHC   negative  3733   \n",
       "1            f    NaN            f NaN           other   negative  1442   \n",
       "2            t  120.0            f NaN           other   negative  2965   \n",
       "3            f    NaN            f NaN           other   negative   806   \n",
       "4            t   70.0            f NaN             SVI   negative  2807   \n",
       "\n",
       "  hyper_class    labels  \n",
       "0    negative  negative  \n",
       "1    negative  negative  \n",
       "2    negative  negative  \n",
       "3    negative  negative  \n",
       "4    negative  negative  \n",
       "\n",
       "[5 rows x 33 columns]"
      ]
     },
     "execution_count": 13,
     "metadata": {},
     "output_type": "execute_result"
    }
   ],
   "source": [
    "df_concat.head()"
   ]
  },
  {
   "cell_type": "markdown",
   "metadata": {},
   "source": [
    "Dopping those columns (features) which are not relevant and storing it in a new dataframe."
   ]
  },
  {
   "cell_type": "code",
   "execution_count": 14,
   "metadata": {},
   "outputs": [],
   "source": [
    "df = df_concat.drop(['referral source', 'TBG', 'hypo_class', 'id', 'hyper_class'], axis = 1)\n"
   ]
  },
  {
   "cell_type": "code",
   "execution_count": 15,
   "metadata": {},
   "outputs": [
    {
     "name": "stdout",
     "output_type": "stream",
     "text": [
      "<class 'pandas.core.frame.DataFrame'>\n",
      "RangeIndex: 2800 entries, 0 to 2799\n",
      "Data columns (total 28 columns):\n",
      " #   Column                     Non-Null Count  Dtype  \n",
      "---  ------                     --------------  -----  \n",
      " 0   age                        2799 non-null   float64\n",
      " 1   sex                        2690 non-null   object \n",
      " 2   on thyroxine               2800 non-null   object \n",
      " 3   query on thyroxine         2800 non-null   object \n",
      " 4   on antithyroid medication  2800 non-null   object \n",
      " 5   sick                       2800 non-null   object \n",
      " 6   pregnant                   2800 non-null   object \n",
      " 7   thyroid surgery            2800 non-null   object \n",
      " 8   I131 treatment             2800 non-null   object \n",
      " 9   query hypothyroid          2800 non-null   object \n",
      " 10  query hyperthyroid         2800 non-null   object \n",
      " 11  lithium                    2800 non-null   object \n",
      " 12  goitre                     2800 non-null   object \n",
      " 13  tumor                      2800 non-null   object \n",
      " 14  hypopituitary              2800 non-null   object \n",
      " 15  psych                      2800 non-null   object \n",
      " 16  TSH measured               2800 non-null   object \n",
      " 17  TSH                        2516 non-null   float64\n",
      " 18  T3 measured                2800 non-null   object \n",
      " 19  T3                         2215 non-null   float64\n",
      " 20  TT4 measured               2800 non-null   object \n",
      " 21  TT4                        2616 non-null   float64\n",
      " 22  T4U measured               2800 non-null   object \n",
      " 23  T4U                        2503 non-null   float64\n",
      " 24  FTI measured               2800 non-null   object \n",
      " 25  FTI                        2505 non-null   float64\n",
      " 26  TBG measured               2800 non-null   object \n",
      " 27  labels                     2800 non-null   object \n",
      "dtypes: float64(6), object(22)\n",
      "memory usage: 612.6+ KB\n"
     ]
    }
   ],
   "source": [
    "df.info()\n"
   ]
  },
  {
   "cell_type": "markdown",
   "metadata": {},
   "source": [
    "#### Let's deep dive into few feature columns"
   ]
  },
  {
   "cell_type": "code",
   "execution_count": 16,
   "metadata": {},
   "outputs": [
    {
     "data": {
      "text/html": [
       "<div>\n",
       "<style scoped>\n",
       "    .dataframe tbody tr th:only-of-type {\n",
       "        vertical-align: middle;\n",
       "    }\n",
       "\n",
       "    .dataframe tbody tr th {\n",
       "        vertical-align: top;\n",
       "    }\n",
       "\n",
       "    .dataframe thead th {\n",
       "        text-align: right;\n",
       "    }\n",
       "</style>\n",
       "<table border=\"1\" class=\"dataframe\">\n",
       "  <thead>\n",
       "    <tr style=\"text-align: right;\">\n",
       "      <th></th>\n",
       "      <th>TSH measured</th>\n",
       "      <th>TSH</th>\n",
       "    </tr>\n",
       "  </thead>\n",
       "  <tbody>\n",
       "    <tr>\n",
       "      <th>2790</th>\n",
       "      <td>t</td>\n",
       "      <td>2.10</td>\n",
       "    </tr>\n",
       "    <tr>\n",
       "      <th>2791</th>\n",
       "      <td>t</td>\n",
       "      <td>1.00</td>\n",
       "    </tr>\n",
       "    <tr>\n",
       "      <th>2792</th>\n",
       "      <td>f</td>\n",
       "      <td>NaN</td>\n",
       "    </tr>\n",
       "    <tr>\n",
       "      <th>2793</th>\n",
       "      <td>t</td>\n",
       "      <td>0.03</td>\n",
       "    </tr>\n",
       "    <tr>\n",
       "      <th>2794</th>\n",
       "      <td>t</td>\n",
       "      <td>1.90</td>\n",
       "    </tr>\n",
       "    <tr>\n",
       "      <th>2795</th>\n",
       "      <td>t</td>\n",
       "      <td>2.70</td>\n",
       "    </tr>\n",
       "    <tr>\n",
       "      <th>2796</th>\n",
       "      <td>f</td>\n",
       "      <td>NaN</td>\n",
       "    </tr>\n",
       "    <tr>\n",
       "      <th>2797</th>\n",
       "      <td>f</td>\n",
       "      <td>NaN</td>\n",
       "    </tr>\n",
       "    <tr>\n",
       "      <th>2798</th>\n",
       "      <td>t</td>\n",
       "      <td>1.40</td>\n",
       "    </tr>\n",
       "    <tr>\n",
       "      <th>2799</th>\n",
       "      <td>t</td>\n",
       "      <td>1.20</td>\n",
       "    </tr>\n",
       "  </tbody>\n",
       "</table>\n",
       "</div>"
      ],
      "text/plain": [
       "     TSH measured   TSH\n",
       "2790            t  2.10\n",
       "2791            t  1.00\n",
       "2792            f   NaN\n",
       "2793            t  0.03\n",
       "2794            t  1.90\n",
       "2795            t  2.70\n",
       "2796            f   NaN\n",
       "2797            f   NaN\n",
       "2798            t  1.40\n",
       "2799            t  1.20"
      ]
     },
     "execution_count": 16,
     "metadata": {},
     "output_type": "execute_result"
    }
   ],
   "source": [
    "df[['TSH measured', 'TSH']].tail(10)\n"
   ]
  },
  {
   "cell_type": "markdown",
   "metadata": {},
   "source": [
    "Some columns are just indicating whether next column in the same row has some value or not. Like 'TSH measured' have 'true' & 'false' value. \n",
    "\n",
    "The 'true' means, the next column in the same row has some value and 'false' means, next column in the same row has 'NaN'. So, we are any ways going to handle the missing values, there is no point of having such columns in our dataset.\n",
    "\n",
    "Let's drop these feature columns."
   ]
  },
  {
   "cell_type": "code",
   "execution_count": 17,
   "metadata": {},
   "outputs": [],
   "source": [
    "df = df.drop(['TSH measured','T3 measured','TT4 measured','T4U measured',\\\n",
    "              'FTI measured','TBG measured'], axis = 1)\n"
   ]
  },
  {
   "cell_type": "code",
   "execution_count": 18,
   "metadata": {},
   "outputs": [
    {
     "data": {
      "text/plain": [
       "['sex',\n",
       " 'on thyroxine',\n",
       " 'query on thyroxine',\n",
       " 'on antithyroid medication',\n",
       " 'sick',\n",
       " 'pregnant',\n",
       " 'thyroid surgery',\n",
       " 'I131 treatment',\n",
       " 'query hypothyroid',\n",
       " 'query hyperthyroid',\n",
       " 'lithium',\n",
       " 'goitre',\n",
       " 'tumor',\n",
       " 'hypopituitary',\n",
       " 'psych',\n",
       " 'labels']"
      ]
     },
     "execution_count": 18,
     "metadata": {},
     "output_type": "execute_result"
    }
   ],
   "source": [
    "cat_features = [i for i in df.columns if (df[i].dtype == 'O')]\n",
    "cat_features"
   ]
  },
  {
   "cell_type": "code",
   "execution_count": 19,
   "metadata": {},
   "outputs": [
    {
     "data": {
      "text/plain": [
       "16"
      ]
     },
     "execution_count": 19,
     "metadata": {},
     "output_type": "execute_result"
    }
   ],
   "source": [
    "len(cat_features)"
   ]
  },
  {
   "cell_type": "code",
   "execution_count": 20,
   "metadata": {},
   "outputs": [
    {
     "data": {
      "text/plain": [
       "['age', 'TSH', 'T3', 'TT4', 'T4U', 'FTI']"
      ]
     },
     "execution_count": 20,
     "metadata": {},
     "output_type": "execute_result"
    }
   ],
   "source": [
    "num_features = [i for i in df.columns if (df[i].dtype != 'O')]\n",
    "num_features"
   ]
  },
  {
   "cell_type": "code",
   "execution_count": 21,
   "metadata": {},
   "outputs": [
    {
     "data": {
      "text/plain": [
       "6"
      ]
     },
     "execution_count": 21,
     "metadata": {},
     "output_type": "execute_result"
    }
   ],
   "source": [
    "len(num_features)"
   ]
  },
  {
   "cell_type": "code",
   "execution_count": 22,
   "metadata": {},
   "outputs": [
    {
     "name": "stdout",
     "output_type": "stream",
     "text": [
      "------------------------------------------------------------\n",
      "sex feature: unique values:  ['F' 'M' nan]\n",
      "------------------------------------------------------------\n",
      "on thyroxine feature: unique values:  ['f' 't']\n",
      "------------------------------------------------------------\n",
      "query on thyroxine feature: unique values:  ['f' 't']\n",
      "------------------------------------------------------------\n",
      "on antithyroid medication feature: unique values:  ['f' 't']\n",
      "------------------------------------------------------------\n",
      "sick feature: unique values:  ['f' 't']\n",
      "------------------------------------------------------------\n",
      "pregnant feature: unique values:  ['f' 't']\n",
      "------------------------------------------------------------\n",
      "thyroid surgery feature: unique values:  ['f' 't']\n",
      "------------------------------------------------------------\n",
      "I131 treatment feature: unique values:  ['f' 't']\n",
      "------------------------------------------------------------\n",
      "query hypothyroid feature: unique values:  ['f' 't']\n",
      "------------------------------------------------------------\n",
      "query hyperthyroid feature: unique values:  ['f' 't']\n",
      "------------------------------------------------------------\n",
      "lithium feature: unique values:  ['f' 't']\n",
      "------------------------------------------------------------\n",
      "goitre feature: unique values:  ['f' 't']\n",
      "------------------------------------------------------------\n",
      "tumor feature: unique values:  ['f' 't']\n",
      "------------------------------------------------------------\n",
      "hypopituitary feature: unique values:  ['f' 't']\n",
      "------------------------------------------------------------\n",
      "psych feature: unique values:  ['f' 't']\n",
      "------------------------------------------------------------\n",
      "labels feature: unique values:  ['negative' 'hypothyroid' 'hyperthyroid']\n",
      "------------------------------------------------------------\n"
     ]
    }
   ],
   "source": [
    "for i in cat_features:\n",
    "    print('---'*20)\n",
    "    print(i, 'feature: unique values: ', df[i].unique())\n",
    "    \n",
    "print('---'*20)\n"
   ]
  },
  {
   "cell_type": "code",
   "execution_count": 23,
   "metadata": {},
   "outputs": [
    {
     "name": "stdout",
     "output_type": "stream",
     "text": [
      "------------------------------------\n",
      "age feature: unique values:  94\n",
      "------------------------------------\n",
      "TSH feature: unique values:  264\n",
      "------------------------------------\n",
      "T3 feature: unique values:  65\n",
      "------------------------------------\n",
      "TT4 feature: unique values:  218\n",
      "------------------------------------\n",
      "T4U feature: unique values:  139\n",
      "------------------------------------\n",
      "FTI feature: unique values:  210\n",
      "------------------------------------\n"
     ]
    }
   ],
   "source": [
    "for i in num_features:\n",
    "    print('---'*12)\n",
    "    print(i, 'feature: unique values: ', len(df[i].unique()))\n",
    "    \n",
    "print('---'*12)\n"
   ]
  },
  {
   "cell_type": "code",
   "execution_count": 24,
   "metadata": {},
   "outputs": [
    {
     "name": "stdout",
     "output_type": "stream",
     "text": [
      "------------------------------------\n",
      "age feature: minimum value:  1.0\n",
      "age feature: maximum value:  455.0\n",
      "------------------------------------\n",
      "TSH feature: minimum value:  0.005\n",
      "TSH feature: maximum value:  478.0\n",
      "------------------------------------\n",
      "T3 feature: minimum value:  0.05\n",
      "T3 feature: maximum value:  10.6\n",
      "------------------------------------\n",
      "TT4 feature: minimum value:  2.0\n",
      "TT4 feature: maximum value:  430.0\n",
      "------------------------------------\n",
      "T4U feature: minimum value:  0.31\n",
      "T4U feature: maximum value:  2.12\n",
      "------------------------------------\n",
      "FTI feature: minimum value:  2.0\n",
      "FTI feature: maximum value:  395.0\n",
      "------------------------------------\n"
     ]
    }
   ],
   "source": [
    "for i in num_features:\n",
    "    print('---'*12)\n",
    "    print(i, 'feature: minimum value: ', min(df[i].unique()))\n",
    "    print(i, 'feature: maximum value: ', max(df[i].unique()))\n",
    "    \n",
    "print('---'*12)\n"
   ]
  },
  {
   "cell_type": "markdown",
   "metadata": {},
   "source": [
    "#### Obeservations:\n",
    "Categorical features: 15\n",
    "- all are nominal data\n",
    "\n",
    "Numerical features: 6\n",
    "- discrete data: 1\n",
    "- continous data: 5"
   ]
  },
  {
   "cell_type": "markdown",
   "metadata": {},
   "source": [
    "#### Let's see some more insights of Categorical and Numerical Data"
   ]
  },
  {
   "cell_type": "code",
   "execution_count": 25,
   "metadata": {},
   "outputs": [
    {
     "data": {
      "text/html": [
       "<div>\n",
       "<style scoped>\n",
       "    .dataframe tbody tr th:only-of-type {\n",
       "        vertical-align: middle;\n",
       "    }\n",
       "\n",
       "    .dataframe tbody tr th {\n",
       "        vertical-align: top;\n",
       "    }\n",
       "\n",
       "    .dataframe thead th {\n",
       "        text-align: right;\n",
       "    }\n",
       "</style>\n",
       "<table border=\"1\" class=\"dataframe\">\n",
       "  <thead>\n",
       "    <tr style=\"text-align: right;\">\n",
       "      <th></th>\n",
       "      <th>age</th>\n",
       "      <th>TSH</th>\n",
       "      <th>T3</th>\n",
       "      <th>TT4</th>\n",
       "      <th>T4U</th>\n",
       "      <th>FTI</th>\n",
       "    </tr>\n",
       "  </thead>\n",
       "  <tbody>\n",
       "    <tr>\n",
       "      <th>count</th>\n",
       "      <td>2799.00000</td>\n",
       "      <td>2516.000000</td>\n",
       "      <td>2215.000000</td>\n",
       "      <td>2616.000000</td>\n",
       "      <td>2503.000000</td>\n",
       "      <td>2505.000000</td>\n",
       "    </tr>\n",
       "    <tr>\n",
       "      <th>mean</th>\n",
       "      <td>51.84423</td>\n",
       "      <td>4.672150</td>\n",
       "      <td>2.024966</td>\n",
       "      <td>109.072401</td>\n",
       "      <td>0.997912</td>\n",
       "      <td>110.787984</td>\n",
       "    </tr>\n",
       "    <tr>\n",
       "      <th>std</th>\n",
       "      <td>20.46116</td>\n",
       "      <td>21.449453</td>\n",
       "      <td>0.824600</td>\n",
       "      <td>35.392443</td>\n",
       "      <td>0.194390</td>\n",
       "      <td>32.883986</td>\n",
       "    </tr>\n",
       "    <tr>\n",
       "      <th>min</th>\n",
       "      <td>1.00000</td>\n",
       "      <td>0.005000</td>\n",
       "      <td>0.050000</td>\n",
       "      <td>2.000000</td>\n",
       "      <td>0.310000</td>\n",
       "      <td>2.000000</td>\n",
       "    </tr>\n",
       "    <tr>\n",
       "      <th>25%</th>\n",
       "      <td>36.00000</td>\n",
       "      <td>0.440000</td>\n",
       "      <td>1.600000</td>\n",
       "      <td>88.000000</td>\n",
       "      <td>0.880000</td>\n",
       "      <td>93.000000</td>\n",
       "    </tr>\n",
       "    <tr>\n",
       "      <th>50%</th>\n",
       "      <td>54.00000</td>\n",
       "      <td>1.400000</td>\n",
       "      <td>2.000000</td>\n",
       "      <td>104.000000</td>\n",
       "      <td>0.980000</td>\n",
       "      <td>107.000000</td>\n",
       "    </tr>\n",
       "    <tr>\n",
       "      <th>75%</th>\n",
       "      <td>67.00000</td>\n",
       "      <td>2.600000</td>\n",
       "      <td>2.400000</td>\n",
       "      <td>125.000000</td>\n",
       "      <td>1.080000</td>\n",
       "      <td>124.000000</td>\n",
       "    </tr>\n",
       "    <tr>\n",
       "      <th>max</th>\n",
       "      <td>455.00000</td>\n",
       "      <td>478.000000</td>\n",
       "      <td>10.600000</td>\n",
       "      <td>430.000000</td>\n",
       "      <td>2.120000</td>\n",
       "      <td>395.000000</td>\n",
       "    </tr>\n",
       "  </tbody>\n",
       "</table>\n",
       "</div>"
      ],
      "text/plain": [
       "              age          TSH           T3          TT4          T4U  \\\n",
       "count  2799.00000  2516.000000  2215.000000  2616.000000  2503.000000   \n",
       "mean     51.84423     4.672150     2.024966   109.072401     0.997912   \n",
       "std      20.46116    21.449453     0.824600    35.392443     0.194390   \n",
       "min       1.00000     0.005000     0.050000     2.000000     0.310000   \n",
       "25%      36.00000     0.440000     1.600000    88.000000     0.880000   \n",
       "50%      54.00000     1.400000     2.000000   104.000000     0.980000   \n",
       "75%      67.00000     2.600000     2.400000   125.000000     1.080000   \n",
       "max     455.00000   478.000000    10.600000   430.000000     2.120000   \n",
       "\n",
       "               FTI  \n",
       "count  2505.000000  \n",
       "mean    110.787984  \n",
       "std      32.883986  \n",
       "min       2.000000  \n",
       "25%      93.000000  \n",
       "50%     107.000000  \n",
       "75%     124.000000  \n",
       "max     395.000000  "
      ]
     },
     "execution_count": 25,
     "metadata": {},
     "output_type": "execute_result"
    }
   ],
   "source": [
    "# numerical data\n",
    "df.describe()\n"
   ]
  },
  {
   "cell_type": "code",
   "execution_count": 26,
   "metadata": {},
   "outputs": [
    {
     "data": {
      "text/html": [
       "<div>\n",
       "<style scoped>\n",
       "    .dataframe tbody tr th:only-of-type {\n",
       "        vertical-align: middle;\n",
       "    }\n",
       "\n",
       "    .dataframe tbody tr th {\n",
       "        vertical-align: top;\n",
       "    }\n",
       "\n",
       "    .dataframe thead th {\n",
       "        text-align: right;\n",
       "    }\n",
       "</style>\n",
       "<table border=\"1\" class=\"dataframe\">\n",
       "  <thead>\n",
       "    <tr style=\"text-align: right;\">\n",
       "      <th></th>\n",
       "      <th>sex</th>\n",
       "      <th>on thyroxine</th>\n",
       "      <th>query on thyroxine</th>\n",
       "      <th>on antithyroid medication</th>\n",
       "      <th>sick</th>\n",
       "      <th>pregnant</th>\n",
       "      <th>thyroid surgery</th>\n",
       "      <th>I131 treatment</th>\n",
       "      <th>query hypothyroid</th>\n",
       "      <th>query hyperthyroid</th>\n",
       "      <th>lithium</th>\n",
       "      <th>goitre</th>\n",
       "      <th>tumor</th>\n",
       "      <th>hypopituitary</th>\n",
       "      <th>psych</th>\n",
       "      <th>labels</th>\n",
       "    </tr>\n",
       "  </thead>\n",
       "  <tbody>\n",
       "    <tr>\n",
       "      <th>count</th>\n",
       "      <td>2690</td>\n",
       "      <td>2800</td>\n",
       "      <td>2800</td>\n",
       "      <td>2800</td>\n",
       "      <td>2800</td>\n",
       "      <td>2800</td>\n",
       "      <td>2800</td>\n",
       "      <td>2800</td>\n",
       "      <td>2800</td>\n",
       "      <td>2800</td>\n",
       "      <td>2800</td>\n",
       "      <td>2800</td>\n",
       "      <td>2800</td>\n",
       "      <td>2800</td>\n",
       "      <td>2800</td>\n",
       "      <td>2800</td>\n",
       "    </tr>\n",
       "    <tr>\n",
       "      <th>unique</th>\n",
       "      <td>2</td>\n",
       "      <td>2</td>\n",
       "      <td>2</td>\n",
       "      <td>2</td>\n",
       "      <td>2</td>\n",
       "      <td>2</td>\n",
       "      <td>2</td>\n",
       "      <td>2</td>\n",
       "      <td>2</td>\n",
       "      <td>2</td>\n",
       "      <td>2</td>\n",
       "      <td>2</td>\n",
       "      <td>2</td>\n",
       "      <td>2</td>\n",
       "      <td>2</td>\n",
       "      <td>3</td>\n",
       "    </tr>\n",
       "    <tr>\n",
       "      <th>top</th>\n",
       "      <td>F</td>\n",
       "      <td>f</td>\n",
       "      <td>f</td>\n",
       "      <td>f</td>\n",
       "      <td>f</td>\n",
       "      <td>f</td>\n",
       "      <td>f</td>\n",
       "      <td>f</td>\n",
       "      <td>f</td>\n",
       "      <td>f</td>\n",
       "      <td>f</td>\n",
       "      <td>f</td>\n",
       "      <td>f</td>\n",
       "      <td>f</td>\n",
       "      <td>f</td>\n",
       "      <td>negative</td>\n",
       "    </tr>\n",
       "    <tr>\n",
       "      <th>freq</th>\n",
       "      <td>1830</td>\n",
       "      <td>2470</td>\n",
       "      <td>2760</td>\n",
       "      <td>2766</td>\n",
       "      <td>2690</td>\n",
       "      <td>2759</td>\n",
       "      <td>2761</td>\n",
       "      <td>2752</td>\n",
       "      <td>2637</td>\n",
       "      <td>2627</td>\n",
       "      <td>2786</td>\n",
       "      <td>2775</td>\n",
       "      <td>2729</td>\n",
       "      <td>2799</td>\n",
       "      <td>2665</td>\n",
       "      <td>2503</td>\n",
       "    </tr>\n",
       "  </tbody>\n",
       "</table>\n",
       "</div>"
      ],
      "text/plain": [
       "         sex on thyroxine query on thyroxine on antithyroid medication  sick  \\\n",
       "count   2690         2800               2800                      2800  2800   \n",
       "unique     2            2                  2                         2     2   \n",
       "top        F            f                  f                         f     f   \n",
       "freq    1830         2470               2760                      2766  2690   \n",
       "\n",
       "       pregnant thyroid surgery I131 treatment query hypothyroid  \\\n",
       "count      2800            2800           2800              2800   \n",
       "unique        2               2              2                 2   \n",
       "top           f               f              f                 f   \n",
       "freq       2759            2761           2752              2637   \n",
       "\n",
       "       query hyperthyroid lithium goitre tumor hypopituitary psych    labels  \n",
       "count                2800    2800   2800  2800          2800  2800      2800  \n",
       "unique                  2       2      2     2             2     2         3  \n",
       "top                     f       f      f     f             f     f  negative  \n",
       "freq                 2627    2786   2775  2729          2799  2665      2503  "
      ]
     },
     "execution_count": 26,
     "metadata": {},
     "output_type": "execute_result"
    }
   ],
   "source": [
    "# categorical data\n",
    "df.describe(include = 'object')\n"
   ]
  },
  {
   "cell_type": "code",
   "execution_count": 27,
   "metadata": {},
   "outputs": [
    {
     "data": {
      "text/plain": [
       "age                            1\n",
       "sex                          110\n",
       "on thyroxine                   0\n",
       "query on thyroxine             0\n",
       "on antithyroid medication      0\n",
       "sick                           0\n",
       "pregnant                       0\n",
       "thyroid surgery                0\n",
       "I131 treatment                 0\n",
       "query hypothyroid              0\n",
       "query hyperthyroid             0\n",
       "lithium                        0\n",
       "goitre                         0\n",
       "tumor                          0\n",
       "hypopituitary                  0\n",
       "psych                          0\n",
       "TSH                          284\n",
       "T3                           585\n",
       "TT4                          184\n",
       "T4U                          297\n",
       "FTI                          295\n",
       "labels                         0\n",
       "dtype: int64"
      ]
     },
     "execution_count": 27,
     "metadata": {},
     "output_type": "execute_result"
    }
   ],
   "source": [
    "df.isnull().sum()\n"
   ]
  },
  {
   "cell_type": "markdown",
   "metadata": {},
   "source": [
    "#### Observations:\n",
    "- age has maximum value 455 which is not possible (an outlier)\n",
    "- each categorical features has two unique value except labels which has three unique values\n",
    "- NULL values:\n",
    "    - age: 1\n",
    "    - sex: 110\n",
    "    - TSH: 284\n",
    "    - T3: 585\n",
    "    - TT4: 184\n",
    "    - T4U: 297\n",
    "    - FTI: 295\n",
    "    "
   ]
  },
  {
   "cell_type": "code",
   "execution_count": 28,
   "metadata": {},
   "outputs": [
    {
     "data": {
      "text/plain": [
       "['age', 'TSH', 'T3', 'TT4', 'T4U', 'FTI']"
      ]
     },
     "execution_count": 28,
     "metadata": {},
     "output_type": "execute_result"
    }
   ],
   "source": [
    "numerical_all = [i for i in df.columns if (df[i].dtype != 'O')]\n",
    "numerical_all\n"
   ]
  },
  {
   "cell_type": "markdown",
   "metadata": {},
   "source": [
    "#### Let's handle NaN value in numerical column(s)"
   ]
  },
  {
   "cell_type": "code",
   "execution_count": 29,
   "metadata": {},
   "outputs": [
    {
     "data": {
      "text/plain": [
       "['age', 'TSH', 'T3', 'TT4', 'T4U', 'FTI']"
      ]
     },
     "execution_count": 29,
     "metadata": {},
     "output_type": "execute_result"
    }
   ],
   "source": [
    "numerical_null = [i for i in df.columns if (df[i].dtype != 'O' and df[i].isnull().sum() != 0)]\n",
    "numerical_null\n"
   ]
  },
  {
   "cell_type": "markdown",
   "metadata": {},
   "source": [
    "#### Now, let's deep dive into 'age' column.\n"
   ]
  },
  {
   "cell_type": "code",
   "execution_count": 30,
   "metadata": {},
   "outputs": [
    {
     "data": {
      "text/html": [
       "<div>\n",
       "<style scoped>\n",
       "    .dataframe tbody tr th:only-of-type {\n",
       "        vertical-align: middle;\n",
       "    }\n",
       "\n",
       "    .dataframe tbody tr th {\n",
       "        vertical-align: top;\n",
       "    }\n",
       "\n",
       "    .dataframe thead th {\n",
       "        text-align: right;\n",
       "    }\n",
       "</style>\n",
       "<table border=\"1\" class=\"dataframe\">\n",
       "  <thead>\n",
       "    <tr style=\"text-align: right;\">\n",
       "      <th></th>\n",
       "      <th>age</th>\n",
       "      <th>sex</th>\n",
       "      <th>on thyroxine</th>\n",
       "      <th>query on thyroxine</th>\n",
       "      <th>on antithyroid medication</th>\n",
       "      <th>sick</th>\n",
       "      <th>pregnant</th>\n",
       "      <th>thyroid surgery</th>\n",
       "      <th>I131 treatment</th>\n",
       "      <th>query hypothyroid</th>\n",
       "      <th>...</th>\n",
       "      <th>goitre</th>\n",
       "      <th>tumor</th>\n",
       "      <th>hypopituitary</th>\n",
       "      <th>psych</th>\n",
       "      <th>TSH</th>\n",
       "      <th>T3</th>\n",
       "      <th>TT4</th>\n",
       "      <th>T4U</th>\n",
       "      <th>FTI</th>\n",
       "      <th>labels</th>\n",
       "    </tr>\n",
       "  </thead>\n",
       "  <tbody>\n",
       "    <tr>\n",
       "      <th>1985</th>\n",
       "      <td>NaN</td>\n",
       "      <td>F</td>\n",
       "      <td>t</td>\n",
       "      <td>f</td>\n",
       "      <td>f</td>\n",
       "      <td>f</td>\n",
       "      <td>f</td>\n",
       "      <td>f</td>\n",
       "      <td>t</td>\n",
       "      <td>f</td>\n",
       "      <td>...</td>\n",
       "      <td>f</td>\n",
       "      <td>f</td>\n",
       "      <td>f</td>\n",
       "      <td>f</td>\n",
       "      <td>0.6</td>\n",
       "      <td>1.5</td>\n",
       "      <td>120.0</td>\n",
       "      <td>0.82</td>\n",
       "      <td>146.0</td>\n",
       "      <td>negative</td>\n",
       "    </tr>\n",
       "  </tbody>\n",
       "</table>\n",
       "<p>1 rows × 22 columns</p>\n",
       "</div>"
      ],
      "text/plain": [
       "      age sex on thyroxine query on thyroxine on antithyroid medication sick  \\\n",
       "1985  NaN   F            t                  f                         f    f   \n",
       "\n",
       "     pregnant thyroid surgery I131 treatment query hypothyroid  ... goitre  \\\n",
       "1985        f               f              t                 f  ...      f   \n",
       "\n",
       "     tumor hypopituitary psych  TSH   T3    TT4   T4U    FTI    labels  \n",
       "1985     f             f     f  0.6  1.5  120.0  0.82  146.0  negative  \n",
       "\n",
       "[1 rows x 22 columns]"
      ]
     },
     "execution_count": 30,
     "metadata": {},
     "output_type": "execute_result"
    }
   ],
   "source": [
    "df[df['age'].isnull()]\n"
   ]
  },
  {
   "cell_type": "markdown",
   "metadata": {},
   "source": [
    "We have only one 'NaN' value in 'age' column.\n",
    "\n",
    "We can either drop this, or replace with the median value of the 'age' column."
   ]
  },
  {
   "cell_type": "code",
   "execution_count": 31,
   "metadata": {},
   "outputs": [
    {
     "data": {
      "text/plain": [
       "54.0"
      ]
     },
     "execution_count": 31,
     "metadata": {},
     "output_type": "execute_result"
    }
   ],
   "source": [
    "# median value of 'age' column\n",
    "\n",
    "df['age'].median()\n"
   ]
  },
  {
   "cell_type": "markdown",
   "metadata": {},
   "source": [
    "Replacing 'NaN' value withe median of the 'age' column\n"
   ]
  },
  {
   "cell_type": "code",
   "execution_count": 32,
   "metadata": {},
   "outputs": [],
   "source": [
    "df['age'].replace([np.nan],df['age'].median(), inplace = True)\n"
   ]
  },
  {
   "cell_type": "code",
   "execution_count": 33,
   "metadata": {},
   "outputs": [
    {
     "data": {
      "text/plain": [
       "array([ 41.,  23.,  46.,  70.,  18.,  59.,  80.,  66.,  68.,  84.,  67.,\n",
       "        71.,  28.,  65.,  42.,  63.,  51.,  81.,  54.,  55.,  60.,  25.,\n",
       "        73.,  34.,  78.,  37.,  85.,  26.,  58.,  64.,  44.,  48.,  61.,\n",
       "        35.,  83.,  21.,  87.,  53.,  77.,  27.,  69.,  74.,  38.,  76.,\n",
       "        45.,  36.,  22.,  43.,  72.,  82.,  31.,  39.,  49.,  62.,  57.,\n",
       "         1.,  50.,  30.,  29.,  75.,  19.,   7.,  79.,  17.,  24.,  15.,\n",
       "        32.,  47.,  16.,  52.,  33.,  13.,  10.,  89.,  56.,  20.,  90.,\n",
       "        40.,  88.,  14.,  86.,  94.,  12.,   4.,  11.,   8.,   5., 455.,\n",
       "         2.,  91.,   6.,  93.,  92.])"
      ]
     },
     "execution_count": 33,
     "metadata": {},
     "output_type": "execute_result"
    }
   ],
   "source": [
    "df.age.unique()\n"
   ]
  },
  {
   "cell_type": "markdown",
   "metadata": {},
   "source": [
    "Let's check the numerical columns again.\n"
   ]
  },
  {
   "cell_type": "code",
   "execution_count": 34,
   "metadata": {},
   "outputs": [
    {
     "data": {
      "text/plain": [
       "['TSH', 'T3', 'TT4', 'T4U', 'FTI']"
      ]
     },
     "execution_count": 34,
     "metadata": {},
     "output_type": "execute_result"
    }
   ],
   "source": [
    "numerical_null = [i for i in df.columns if (df[i].dtype != 'O' and df[i].isnull().sum() != 0)]\n",
    "numerical_null\n",
    "\n",
    "# we can see 'age' column has no more null values\n"
   ]
  },
  {
   "cell_type": "markdown",
   "metadata": {},
   "source": [
    "Let's deep dive into other numerical columns.\n"
   ]
  },
  {
   "cell_type": "code",
   "execution_count": 35,
   "metadata": {},
   "outputs": [
    {
     "data": {
      "text/plain": [
       "age                            0\n",
       "sex                          110\n",
       "on thyroxine                   0\n",
       "query on thyroxine             0\n",
       "on antithyroid medication      0\n",
       "sick                           0\n",
       "pregnant                       0\n",
       "thyroid surgery                0\n",
       "I131 treatment                 0\n",
       "query hypothyroid              0\n",
       "query hyperthyroid             0\n",
       "lithium                        0\n",
       "goitre                         0\n",
       "tumor                          0\n",
       "hypopituitary                  0\n",
       "psych                          0\n",
       "TSH                          284\n",
       "T3                           585\n",
       "TT4                          184\n",
       "T4U                          297\n",
       "FTI                          295\n",
       "labels                         0\n",
       "dtype: int64"
      ]
     },
     "execution_count": 35,
     "metadata": {},
     "output_type": "execute_result"
    }
   ],
   "source": [
    "df.isnull().sum()"
   ]
  },
  {
   "cell_type": "markdown",
   "metadata": {},
   "source": [
    "Filling the 'NaN' values with 'median' of that column in all the numerical columns.\n"
   ]
  },
  {
   "cell_type": "code",
   "execution_count": 36,
   "metadata": {},
   "outputs": [],
   "source": [
    "for i in numerical_null:\n",
    "   df[i].fillna(df[i].median(),inplace = True)\n"
   ]
  },
  {
   "cell_type": "code",
   "execution_count": 37,
   "metadata": {},
   "outputs": [
    {
     "data": {
      "text/plain": [
       "age                            0\n",
       "sex                          110\n",
       "on thyroxine                   0\n",
       "query on thyroxine             0\n",
       "on antithyroid medication      0\n",
       "sick                           0\n",
       "pregnant                       0\n",
       "thyroid surgery                0\n",
       "I131 treatment                 0\n",
       "query hypothyroid              0\n",
       "query hyperthyroid             0\n",
       "lithium                        0\n",
       "goitre                         0\n",
       "tumor                          0\n",
       "hypopituitary                  0\n",
       "psych                          0\n",
       "TSH                            0\n",
       "T3                             0\n",
       "TT4                            0\n",
       "T4U                            0\n",
       "FTI                            0\n",
       "labels                         0\n",
       "dtype: int64"
      ]
     },
     "execution_count": 37,
     "metadata": {},
     "output_type": "execute_result"
    }
   ],
   "source": [
    "df.isnull().sum()\n",
    "\n",
    "# now we can see, no more null values in the numerical"
   ]
  },
  {
   "cell_type": "code",
   "execution_count": null,
   "metadata": {},
   "outputs": [],
   "source": []
  },
  {
   "cell_type": "markdown",
   "metadata": {},
   "source": [
    "#### Let's handle NaN value in categorical column(s)"
   ]
  },
  {
   "cell_type": "markdown",
   "metadata": {},
   "source": [
    "Seperating the 'object' and 'int' or 'float' columns and storing 'object' into 'categorical'.\n"
   ]
  },
  {
   "cell_type": "code",
   "execution_count": 38,
   "metadata": {},
   "outputs": [
    {
     "data": {
      "text/plain": [
       "['sex',\n",
       " 'on thyroxine',\n",
       " 'query on thyroxine',\n",
       " 'on antithyroid medication',\n",
       " 'sick',\n",
       " 'pregnant',\n",
       " 'thyroid surgery',\n",
       " 'I131 treatment',\n",
       " 'query hypothyroid',\n",
       " 'query hyperthyroid',\n",
       " 'lithium',\n",
       " 'goitre',\n",
       " 'tumor',\n",
       " 'hypopituitary',\n",
       " 'psych',\n",
       " 'labels']"
      ]
     },
     "execution_count": 38,
     "metadata": {},
     "output_type": "execute_result"
    }
   ],
   "source": [
    "categorical = [i for i in df.columns if df[i].dtype == 'O']\n",
    "categorical\n"
   ]
  },
  {
   "cell_type": "markdown",
   "metadata": {},
   "source": [
    "Let's find the categorical column which have NaN value.\n"
   ]
  },
  {
   "cell_type": "code",
   "execution_count": 39,
   "metadata": {},
   "outputs": [
    {
     "data": {
      "text/plain": [
       "['sex']"
      ]
     },
     "execution_count": 39,
     "metadata": {},
     "output_type": "execute_result"
    }
   ],
   "source": [
    "categorical_null = [i for i in df.columns if (df[i].dtype == 'O' and df[i].isnull().sum() != 0)]\n",
    "categorical_null\n"
   ]
  },
  {
   "cell_type": "markdown",
   "metadata": {},
   "source": [
    "Replace missing values with the most frequent value, called 'mode'.\n"
   ]
  },
  {
   "cell_type": "code",
   "execution_count": 40,
   "metadata": {},
   "outputs": [
    {
     "data": {
      "text/plain": [
       "sex    False\n",
       "dtype: bool"
      ]
     },
     "execution_count": 40,
     "metadata": {},
     "output_type": "execute_result"
    }
   ],
   "source": [
    "for i in categorical_null:\n",
    "    df[i].fillna(df[i].mode()[0], inplace = True)\n",
    "    \n",
    "\n",
    "df[categorical_null].isnull().any()\n"
   ]
  },
  {
   "cell_type": "code",
   "execution_count": 41,
   "metadata": {},
   "outputs": [
    {
     "data": {
      "text/plain": [
       "Index(['age', 'sex', 'on thyroxine', 'query on thyroxine',\n",
       "       'on antithyroid medication', 'sick', 'pregnant', 'thyroid surgery',\n",
       "       'I131 treatment', 'query hypothyroid', 'query hyperthyroid', 'lithium',\n",
       "       'goitre', 'tumor', 'hypopituitary', 'psych', 'TSH', 'T3', 'TT4', 'T4U',\n",
       "       'FTI', 'labels'],\n",
       "      dtype='object')"
      ]
     },
     "execution_count": 41,
     "metadata": {},
     "output_type": "execute_result"
    }
   ],
   "source": [
    "df.columns"
   ]
  },
  {
   "cell_type": "code",
   "execution_count": 42,
   "metadata": {},
   "outputs": [
    {
     "data": {
      "text/plain": [
       "False"
      ]
     },
     "execution_count": 42,
     "metadata": {},
     "output_type": "execute_result"
    }
   ],
   "source": [
    "df.isnull().sum().any()"
   ]
  },
  {
   "cell_type": "code",
   "execution_count": 43,
   "metadata": {},
   "outputs": [
    {
     "data": {
      "text/plain": [
       "['age', 'TSH', 'T3', 'TT4', 'T4U', 'FTI']"
      ]
     },
     "execution_count": 43,
     "metadata": {},
     "output_type": "execute_result"
    }
   ],
   "source": [
    "numerical_all = [i for i in df.columns if (df[i].dtype != 'O')]\n",
    "numerical_all"
   ]
  },
  {
   "cell_type": "code",
   "execution_count": 44,
   "metadata": {},
   "outputs": [
    {
     "data": {
      "text/plain": [
       "age    False\n",
       "TSH    False\n",
       "T3     False\n",
       "TT4    False\n",
       "T4U    False\n",
       "FTI    False\n",
       "dtype: bool"
      ]
     },
     "execution_count": 44,
     "metadata": {},
     "output_type": "execute_result"
    }
   ],
   "source": [
    "df[numerical_all].isnull().any()"
   ]
  },
  {
   "cell_type": "code",
   "execution_count": 45,
   "metadata": {},
   "outputs": [],
   "source": [
    "df_filled = df.copy(deep = True)\n",
    "\n",
    "# df --> filled all the null values\n",
    "# df_filled --> just storing the df (filled all the null values)"
   ]
  },
  {
   "cell_type": "markdown",
   "metadata": {},
   "source": [
    "##### NULL values handled - END"
   ]
  },
  {
   "cell_type": "markdown",
   "metadata": {},
   "source": [
    "### Transformation Part Starts"
   ]
  },
  {
   "cell_type": "code",
   "execution_count": null,
   "metadata": {},
   "outputs": [],
   "source": []
  },
  {
   "cell_type": "code",
   "execution_count": null,
   "metadata": {},
   "outputs": [],
   "source": []
  },
  {
   "cell_type": "code",
   "execution_count": null,
   "metadata": {},
   "outputs": [],
   "source": []
  },
  {
   "cell_type": "code",
   "execution_count": null,
   "metadata": {},
   "outputs": [],
   "source": []
  },
  {
   "cell_type": "code",
   "execution_count": 469,
   "metadata": {},
   "outputs": [],
   "source": [
    "df_filled.insert(df_filled.columns.get_loc(\"age\"),'df_age',df_age.values)\n",
    "df_filled.insert(df_filled.columns.get_loc(\"TSH\"),'df_TSH',df_TSH.values)\n",
    "df_filled.insert(df_filled.columns.get_loc(\"T4U\"),'df_T4U',df_T4U.values)"
   ]
  },
  {
   "cell_type": "code",
   "execution_count": null,
   "metadata": {},
   "outputs": [],
   "source": []
  },
  {
   "cell_type": "code",
   "execution_count": 470,
   "metadata": {},
   "outputs": [],
   "source": [
    "df_filled.drop(['age','TSH','T4U'], axis = 1, inplace = True)"
   ]
  },
  {
   "cell_type": "code",
   "execution_count": null,
   "metadata": {},
   "outputs": [],
   "source": []
  },
  {
   "cell_type": "code",
   "execution_count": 471,
   "metadata": {},
   "outputs": [],
   "source": [
    "sqrrt_T3 = df_filled['T3']**(1/2)\n",
    "df_T3 = pd.DataFrame(sqrrt_T3, columns = ['T3'])"
   ]
  },
  {
   "cell_type": "code",
   "execution_count": 472,
   "metadata": {},
   "outputs": [],
   "source": [
    "sqrrt_TT4 = df_filled['TT4']**(1/2)\n",
    "df_TT4 = pd.DataFrame(sqrrt_TT4, columns = ['TT4'])"
   ]
  },
  {
   "cell_type": "code",
   "execution_count": 473,
   "metadata": {},
   "outputs": [],
   "source": [
    "sqrrt_FTI = df_filled['FTI']**(1/2)\n",
    "df_FTI = pd.DataFrame(sqrrt_FTI, columns = ['FTI'])"
   ]
  },
  {
   "cell_type": "code",
   "execution_count": null,
   "metadata": {},
   "outputs": [],
   "source": []
  },
  {
   "cell_type": "code",
   "execution_count": 474,
   "metadata": {},
   "outputs": [],
   "source": [
    "df_filled.insert(df_filled.columns.get_loc(\"T3\"),'df_T3',df_T3.values)\n",
    "df_filled.insert(df_filled.columns.get_loc(\"TT4\"),'df_TT4',df_TT4.values)\n",
    "df_filled.insert(df_filled.columns.get_loc(\"FTI\"),'df_FTI',df_FTI.values)"
   ]
  },
  {
   "cell_type": "code",
   "execution_count": null,
   "metadata": {},
   "outputs": [],
   "source": []
  },
  {
   "cell_type": "code",
   "execution_count": 475,
   "metadata": {},
   "outputs": [],
   "source": [
    "df_filled.drop(['T3','TT4','FTI'], axis = 1, inplace = True)"
   ]
  },
  {
   "cell_type": "code",
   "execution_count": 476,
   "metadata": {},
   "outputs": [
    {
     "data": {
      "text/plain": [
       "(2800, 22)"
      ]
     },
     "execution_count": 476,
     "metadata": {},
     "output_type": "execute_result"
    }
   ],
   "source": [
    "df_filled.shape"
   ]
  },
  {
   "cell_type": "code",
   "execution_count": null,
   "metadata": {},
   "outputs": [],
   "source": []
  },
  {
   "cell_type": "code",
   "execution_count": null,
   "metadata": {},
   "outputs": [],
   "source": []
  },
  {
   "cell_type": "markdown",
   "metadata": {},
   "source": [
    "#### Observations:\n",
    "\n",
    "- After Applying Transforamtion and Calculating the Skewness, we found best result for numeical columns:\n",
    "- Age: 0.3108 : Y-J Transformation\n",
    "- TSH: 0.0754 : Y-J Transformation\n",
    "- T3: -0.0556 : Sqaure Root\n",
    "- TT4: -0.0814 : Sqaure Root\n",
    "- T4U: -0.0184 : Y-J Transformation\n",
    "- FTI: -0.1901 : Square Root\n"
   ]
  },
  {
   "cell_type": "code",
   "execution_count": 481,
   "metadata": {},
   "outputs": [],
   "source": [
    "df_transformed = df_filled.copy(deep = True)\n"
   ]
  },
  {
   "cell_type": "code",
   "execution_count": null,
   "metadata": {},
   "outputs": [],
   "source": []
  },
  {
   "cell_type": "markdown",
   "metadata": {},
   "source": [
    "#### Let's check first whether transformed columns are add in our dataset or not!!!"
   ]
  },
  {
   "cell_type": "code",
   "execution_count": 482,
   "metadata": {},
   "outputs": [
    {
     "data": {
      "text/plain": [
       "Index(['df_age', 'sex', 'on thyroxine', 'query on thyroxine',\n",
       "       'on antithyroid medication', 'sick', 'pregnant', 'thyroid surgery',\n",
       "       'I131 treatment', 'query hypothyroid', 'query hyperthyroid', 'lithium',\n",
       "       'goitre', 'tumor', 'hypopituitary', 'psych', 'df_TSH', 'df_T3',\n",
       "       'df_TT4', 'df_T4U', 'df_FTI', 'labels'],\n",
       "      dtype='object')"
      ]
     },
     "execution_count": 482,
     "metadata": {},
     "output_type": "execute_result"
    }
   ],
   "source": [
    "df_transformed.columns\n",
    "\n",
    "# new column added in our dataset"
   ]
  },
  {
   "cell_type": "code",
   "execution_count": 483,
   "metadata": {},
   "outputs": [
    {
     "data": {
      "text/plain": [
       "(2800, 22)"
      ]
     },
     "execution_count": 483,
     "metadata": {},
     "output_type": "execute_result"
    }
   ],
   "source": [
    "df_transformed.shape"
   ]
  },
  {
   "cell_type": "markdown",
   "metadata": {},
   "source": [
    "#### Since, only the above transforamtion are useful in our case, we will drop below transformed columns:\n",
    "\n",
    "- 'age','TSH', 'T3', 'TT4', 'T4U','FTI',\n",
    "- 'log_age', 'sqrroot_age', 'reciprocal_age', \n",
    "- 'log_TSH', 'sqrroot_TSH', 'reciprocal_TSH',\n",
    "- 'log_T3', 'reciprocal_T3', 'yeojohn_T3', \n",
    "- 'log_TT4', 'reciprocal_TT4', 'yeojohn_TT4', \n",
    "- 'log_T4U', 'sqrroot_T4U', 'reciprocal_T4U',\n",
    "- 'log_FTI', 'reciprocal_FTI','boccox_FTI', 'yeojohn_FTI'"
   ]
  },
  {
   "cell_type": "markdown",
   "metadata": {},
   "source": [
    "#### Now Dropping transformed columns which are not useful in our case"
   ]
  },
  {
   "cell_type": "code",
   "execution_count": 484,
   "metadata": {},
   "outputs": [],
   "source": [
    "# df_transformed.drop(['age','TSH', 'T3', 'TT4', 'T4U','FTI',\\\n",
    "#                      'log_age', 'sqrroot_age', 'reciprocal_age', \\\n",
    "#                      'log_TSH', 'sqrroot_TSH', 'reciprocal_TSH', \\\n",
    "#                      'log_T3', 'reciprocal_T3', 'yeojohn_T3', \\\n",
    "#                      'log_TT4', 'reciprocal_TT4', 'yeojohn_TT4', \\\n",
    "#                      'log_T4U', 'sqrroot_T4U', 'reciprocal_T4U', \\\n",
    "#                      'log_FTI', 'reciprocal_FTI','yeojohn_FTI'], axis = 1, inplace = True)\n"
   ]
  },
  {
   "cell_type": "code",
   "execution_count": 485,
   "metadata": {},
   "outputs": [
    {
     "data": {
      "text/plain": [
       "Index(['df_age', 'sex', 'on thyroxine', 'query on thyroxine',\n",
       "       'on antithyroid medication', 'sick', 'pregnant', 'thyroid surgery',\n",
       "       'I131 treatment', 'query hypothyroid', 'query hyperthyroid', 'lithium',\n",
       "       'goitre', 'tumor', 'hypopituitary', 'psych', 'df_TSH', 'df_T3',\n",
       "       'df_TT4', 'df_T4U', 'df_FTI', 'labels'],\n",
       "      dtype='object')"
      ]
     },
     "execution_count": 485,
     "metadata": {},
     "output_type": "execute_result"
    }
   ],
   "source": [
    "df_transformed.columns"
   ]
  },
  {
   "cell_type": "code",
   "execution_count": 486,
   "metadata": {},
   "outputs": [
    {
     "data": {
      "text/plain": [
       "(2800, 22)"
      ]
     },
     "execution_count": 486,
     "metadata": {},
     "output_type": "execute_result"
    }
   ],
   "source": [
    "df_transformed.shape"
   ]
  },
  {
   "cell_type": "markdown",
   "metadata": {},
   "source": [
    "##### Transformation END"
   ]
  },
  {
   "cell_type": "code",
   "execution_count": 487,
   "metadata": {},
   "outputs": [
    {
     "data": {
      "text/plain": [
       "df_age                           23.7918\n",
       "sex                                    M\n",
       "on thyroxine                           f\n",
       "query on thyroxine                     f\n",
       "on antithyroid medication              f\n",
       "sick                                   t\n",
       "pregnant                               f\n",
       "thyroid surgery                        f\n",
       "I131 treatment                         f\n",
       "query hypothyroid                      t\n",
       "query hyperthyroid                     f\n",
       "lithium                                f\n",
       "goitre                                 f\n",
       "tumor                                  f\n",
       "hypopituitary                          f\n",
       "psych                                  t\n",
       "df_TSH                            1.3111\n",
       "df_T3                           0.894427\n",
       "df_TT4                           9.11043\n",
       "df_T4U                          0.399872\n",
       "df_FTI                           10.1489\n",
       "labels                       hypothyroid\n",
       "Name: 850, dtype: object"
      ]
     },
     "execution_count": 487,
     "metadata": {},
     "output_type": "execute_result"
    }
   ],
   "source": [
    "df_transformed.iloc[850]"
   ]
  },
  {
   "cell_type": "code",
   "execution_count": null,
   "metadata": {},
   "outputs": [],
   "source": []
  },
  {
   "cell_type": "markdown",
   "metadata": {},
   "source": [
    "### So, Let's explore the Encoding part first\n"
   ]
  },
  {
   "cell_type": "code",
   "execution_count": 336,
   "metadata": {},
   "outputs": [],
   "source": [
    "df_transformed_cat = df_transformed.select_dtypes(include = ['object','category'])\n",
    "\n",
    "# Sometimes we get object and category variables as well."
   ]
  },
  {
   "cell_type": "code",
   "execution_count": 337,
   "metadata": {},
   "outputs": [
    {
     "data": {
      "text/plain": [
       "Index(['sex', 'on thyroxine', 'query on thyroxine',\n",
       "       'on antithyroid medication', 'sick', 'pregnant', 'thyroid surgery',\n",
       "       'I131 treatment', 'query hypothyroid', 'query hyperthyroid', 'lithium',\n",
       "       'goitre', 'tumor', 'hypopituitary', 'psych', 'labels'],\n",
       "      dtype='object')"
      ]
     },
     "execution_count": 337,
     "metadata": {},
     "output_type": "execute_result"
    }
   ],
   "source": [
    "df_transformed_cat.columns\n"
   ]
  },
  {
   "cell_type": "code",
   "execution_count": 338,
   "metadata": {},
   "outputs": [
    {
     "data": {
      "text/plain": [
       "(2800, 16)"
      ]
     },
     "execution_count": 338,
     "metadata": {},
     "output_type": "execute_result"
    }
   ],
   "source": [
    "df_transformed_cat.shape\n"
   ]
  },
  {
   "cell_type": "code",
   "execution_count": null,
   "metadata": {},
   "outputs": [],
   "source": []
  },
  {
   "cell_type": "markdown",
   "metadata": {},
   "source": [
    "#### Apply the One Hot Encoding"
   ]
  },
  {
   "cell_type": "code",
   "execution_count": 341,
   "metadata": {},
   "outputs": [],
   "source": [
    "df_onehot_encoded = pd.get_dummies(df_transformed_cat.iloc[:,:-1], drop_first = True)\n"
   ]
  },
  {
   "cell_type": "code",
   "execution_count": 342,
   "metadata": {},
   "outputs": [
    {
     "data": {
      "text/plain": [
       "Index(['sex_M', 'on thyroxine_t', 'query on thyroxine_t',\n",
       "       'on antithyroid medication_t', 'sick_t', 'pregnant_t',\n",
       "       'thyroid surgery_t', 'I131 treatment_t', 'query hypothyroid_t',\n",
       "       'query hyperthyroid_t', 'lithium_t', 'goitre_t', 'tumor_t',\n",
       "       'hypopituitary_t', 'psych_t'],\n",
       "      dtype='object')"
      ]
     },
     "execution_count": 342,
     "metadata": {},
     "output_type": "execute_result"
    }
   ],
   "source": [
    "df_onehot_encoded.columns"
   ]
  },
  {
   "cell_type": "code",
   "execution_count": 343,
   "metadata": {},
   "outputs": [
    {
     "data": {
      "text/plain": [
       "(2800, 15)"
      ]
     },
     "execution_count": 343,
     "metadata": {},
     "output_type": "execute_result"
    }
   ],
   "source": [
    "df_onehot_encoded.shape"
   ]
  },
  {
   "cell_type": "code",
   "execution_count": 345,
   "metadata": {},
   "outputs": [
    {
     "data": {
      "text/html": [
       "<div>\n",
       "<style scoped>\n",
       "    .dataframe tbody tr th:only-of-type {\n",
       "        vertical-align: middle;\n",
       "    }\n",
       "\n",
       "    .dataframe tbody tr th {\n",
       "        vertical-align: top;\n",
       "    }\n",
       "\n",
       "    .dataframe thead th {\n",
       "        text-align: right;\n",
       "    }\n",
       "</style>\n",
       "<table border=\"1\" class=\"dataframe\">\n",
       "  <thead>\n",
       "    <tr style=\"text-align: right;\">\n",
       "      <th></th>\n",
       "      <th>sex_M</th>\n",
       "      <th>on thyroxine_t</th>\n",
       "      <th>query on thyroxine_t</th>\n",
       "      <th>on antithyroid medication_t</th>\n",
       "      <th>sick_t</th>\n",
       "      <th>pregnant_t</th>\n",
       "      <th>thyroid surgery_t</th>\n",
       "      <th>I131 treatment_t</th>\n",
       "      <th>query hypothyroid_t</th>\n",
       "      <th>query hyperthyroid_t</th>\n",
       "      <th>lithium_t</th>\n",
       "      <th>goitre_t</th>\n",
       "      <th>tumor_t</th>\n",
       "      <th>hypopituitary_t</th>\n",
       "      <th>psych_t</th>\n",
       "    </tr>\n",
       "  </thead>\n",
       "  <tbody>\n",
       "    <tr>\n",
       "      <th>0</th>\n",
       "      <td>0</td>\n",
       "      <td>0</td>\n",
       "      <td>0</td>\n",
       "      <td>0</td>\n",
       "      <td>0</td>\n",
       "      <td>0</td>\n",
       "      <td>0</td>\n",
       "      <td>0</td>\n",
       "      <td>0</td>\n",
       "      <td>0</td>\n",
       "      <td>0</td>\n",
       "      <td>0</td>\n",
       "      <td>0</td>\n",
       "      <td>0</td>\n",
       "      <td>0</td>\n",
       "    </tr>\n",
       "    <tr>\n",
       "      <th>1</th>\n",
       "      <td>0</td>\n",
       "      <td>0</td>\n",
       "      <td>0</td>\n",
       "      <td>0</td>\n",
       "      <td>0</td>\n",
       "      <td>0</td>\n",
       "      <td>0</td>\n",
       "      <td>0</td>\n",
       "      <td>0</td>\n",
       "      <td>0</td>\n",
       "      <td>0</td>\n",
       "      <td>0</td>\n",
       "      <td>0</td>\n",
       "      <td>0</td>\n",
       "      <td>0</td>\n",
       "    </tr>\n",
       "    <tr>\n",
       "      <th>2</th>\n",
       "      <td>1</td>\n",
       "      <td>0</td>\n",
       "      <td>0</td>\n",
       "      <td>0</td>\n",
       "      <td>0</td>\n",
       "      <td>0</td>\n",
       "      <td>0</td>\n",
       "      <td>0</td>\n",
       "      <td>0</td>\n",
       "      <td>0</td>\n",
       "      <td>0</td>\n",
       "      <td>0</td>\n",
       "      <td>0</td>\n",
       "      <td>0</td>\n",
       "      <td>0</td>\n",
       "    </tr>\n",
       "    <tr>\n",
       "      <th>3</th>\n",
       "      <td>0</td>\n",
       "      <td>1</td>\n",
       "      <td>0</td>\n",
       "      <td>0</td>\n",
       "      <td>0</td>\n",
       "      <td>0</td>\n",
       "      <td>0</td>\n",
       "      <td>0</td>\n",
       "      <td>0</td>\n",
       "      <td>0</td>\n",
       "      <td>0</td>\n",
       "      <td>0</td>\n",
       "      <td>0</td>\n",
       "      <td>0</td>\n",
       "      <td>0</td>\n",
       "    </tr>\n",
       "    <tr>\n",
       "      <th>4</th>\n",
       "      <td>0</td>\n",
       "      <td>0</td>\n",
       "      <td>0</td>\n",
       "      <td>0</td>\n",
       "      <td>0</td>\n",
       "      <td>0</td>\n",
       "      <td>0</td>\n",
       "      <td>0</td>\n",
       "      <td>0</td>\n",
       "      <td>0</td>\n",
       "      <td>0</td>\n",
       "      <td>0</td>\n",
       "      <td>0</td>\n",
       "      <td>0</td>\n",
       "      <td>0</td>\n",
       "    </tr>\n",
       "    <tr>\n",
       "      <th>...</th>\n",
       "      <td>...</td>\n",
       "      <td>...</td>\n",
       "      <td>...</td>\n",
       "      <td>...</td>\n",
       "      <td>...</td>\n",
       "      <td>...</td>\n",
       "      <td>...</td>\n",
       "      <td>...</td>\n",
       "      <td>...</td>\n",
       "      <td>...</td>\n",
       "      <td>...</td>\n",
       "      <td>...</td>\n",
       "      <td>...</td>\n",
       "      <td>...</td>\n",
       "      <td>...</td>\n",
       "    </tr>\n",
       "    <tr>\n",
       "      <th>2795</th>\n",
       "      <td>1</td>\n",
       "      <td>0</td>\n",
       "      <td>0</td>\n",
       "      <td>0</td>\n",
       "      <td>0</td>\n",
       "      <td>0</td>\n",
       "      <td>0</td>\n",
       "      <td>0</td>\n",
       "      <td>0</td>\n",
       "      <td>0</td>\n",
       "      <td>0</td>\n",
       "      <td>0</td>\n",
       "      <td>0</td>\n",
       "      <td>0</td>\n",
       "      <td>0</td>\n",
       "    </tr>\n",
       "    <tr>\n",
       "      <th>2796</th>\n",
       "      <td>1</td>\n",
       "      <td>0</td>\n",
       "      <td>1</td>\n",
       "      <td>0</td>\n",
       "      <td>0</td>\n",
       "      <td>0</td>\n",
       "      <td>0</td>\n",
       "      <td>0</td>\n",
       "      <td>0</td>\n",
       "      <td>0</td>\n",
       "      <td>0</td>\n",
       "      <td>0</td>\n",
       "      <td>0</td>\n",
       "      <td>0</td>\n",
       "      <td>0</td>\n",
       "    </tr>\n",
       "    <tr>\n",
       "      <th>2797</th>\n",
       "      <td>1</td>\n",
       "      <td>0</td>\n",
       "      <td>0</td>\n",
       "      <td>0</td>\n",
       "      <td>0</td>\n",
       "      <td>0</td>\n",
       "      <td>0</td>\n",
       "      <td>0</td>\n",
       "      <td>0</td>\n",
       "      <td>1</td>\n",
       "      <td>0</td>\n",
       "      <td>0</td>\n",
       "      <td>0</td>\n",
       "      <td>0</td>\n",
       "      <td>0</td>\n",
       "    </tr>\n",
       "    <tr>\n",
       "      <th>2798</th>\n",
       "      <td>0</td>\n",
       "      <td>0</td>\n",
       "      <td>0</td>\n",
       "      <td>0</td>\n",
       "      <td>0</td>\n",
       "      <td>0</td>\n",
       "      <td>0</td>\n",
       "      <td>0</td>\n",
       "      <td>0</td>\n",
       "      <td>0</td>\n",
       "      <td>0</td>\n",
       "      <td>0</td>\n",
       "      <td>0</td>\n",
       "      <td>0</td>\n",
       "      <td>0</td>\n",
       "    </tr>\n",
       "    <tr>\n",
       "      <th>2799</th>\n",
       "      <td>0</td>\n",
       "      <td>0</td>\n",
       "      <td>0</td>\n",
       "      <td>0</td>\n",
       "      <td>0</td>\n",
       "      <td>0</td>\n",
       "      <td>0</td>\n",
       "      <td>0</td>\n",
       "      <td>0</td>\n",
       "      <td>0</td>\n",
       "      <td>0</td>\n",
       "      <td>0</td>\n",
       "      <td>0</td>\n",
       "      <td>0</td>\n",
       "      <td>0</td>\n",
       "    </tr>\n",
       "  </tbody>\n",
       "</table>\n",
       "<p>2800 rows × 15 columns</p>\n",
       "</div>"
      ],
      "text/plain": [
       "      sex_M  on thyroxine_t  query on thyroxine_t  \\\n",
       "0         0               0                     0   \n",
       "1         0               0                     0   \n",
       "2         1               0                     0   \n",
       "3         0               1                     0   \n",
       "4         0               0                     0   \n",
       "...     ...             ...                   ...   \n",
       "2795      1               0                     0   \n",
       "2796      1               0                     1   \n",
       "2797      1               0                     0   \n",
       "2798      0               0                     0   \n",
       "2799      0               0                     0   \n",
       "\n",
       "      on antithyroid medication_t  sick_t  pregnant_t  thyroid surgery_t  \\\n",
       "0                               0       0           0                  0   \n",
       "1                               0       0           0                  0   \n",
       "2                               0       0           0                  0   \n",
       "3                               0       0           0                  0   \n",
       "4                               0       0           0                  0   \n",
       "...                           ...     ...         ...                ...   \n",
       "2795                            0       0           0                  0   \n",
       "2796                            0       0           0                  0   \n",
       "2797                            0       0           0                  0   \n",
       "2798                            0       0           0                  0   \n",
       "2799                            0       0           0                  0   \n",
       "\n",
       "      I131 treatment_t  query hypothyroid_t  query hyperthyroid_t  lithium_t  \\\n",
       "0                    0                    0                     0          0   \n",
       "1                    0                    0                     0          0   \n",
       "2                    0                    0                     0          0   \n",
       "3                    0                    0                     0          0   \n",
       "4                    0                    0                     0          0   \n",
       "...                ...                  ...                   ...        ...   \n",
       "2795                 0                    0                     0          0   \n",
       "2796                 0                    0                     0          0   \n",
       "2797                 0                    0                     1          0   \n",
       "2798                 0                    0                     0          0   \n",
       "2799                 0                    0                     0          0   \n",
       "\n",
       "      goitre_t  tumor_t  hypopituitary_t  psych_t  \n",
       "0            0        0                0        0  \n",
       "1            0        0                0        0  \n",
       "2            0        0                0        0  \n",
       "3            0        0                0        0  \n",
       "4            0        0                0        0  \n",
       "...        ...      ...              ...      ...  \n",
       "2795         0        0                0        0  \n",
       "2796         0        0                0        0  \n",
       "2797         0        0                0        0  \n",
       "2798         0        0                0        0  \n",
       "2799         0        0                0        0  \n",
       "\n",
       "[2800 rows x 15 columns]"
      ]
     },
     "execution_count": 345,
     "metadata": {},
     "output_type": "execute_result"
    }
   ],
   "source": [
    "df_onehot_encoded"
   ]
  },
  {
   "cell_type": "markdown",
   "metadata": {},
   "source": [
    "Now, let's do the label encoding on the target/labels columns (dependent feature)"
   ]
  },
  {
   "cell_type": "code",
   "execution_count": 348,
   "metadata": {},
   "outputs": [],
   "source": [
    "df_transformed_label = pd.DataFrame(df_transformed_cat.iloc[:,-1])\n"
   ]
  },
  {
   "cell_type": "code",
   "execution_count": 349,
   "metadata": {},
   "outputs": [
    {
     "data": {
      "text/html": [
       "<div>\n",
       "<style scoped>\n",
       "    .dataframe tbody tr th:only-of-type {\n",
       "        vertical-align: middle;\n",
       "    }\n",
       "\n",
       "    .dataframe tbody tr th {\n",
       "        vertical-align: top;\n",
       "    }\n",
       "\n",
       "    .dataframe thead th {\n",
       "        text-align: right;\n",
       "    }\n",
       "</style>\n",
       "<table border=\"1\" class=\"dataframe\">\n",
       "  <thead>\n",
       "    <tr style=\"text-align: right;\">\n",
       "      <th></th>\n",
       "      <th>labels</th>\n",
       "    </tr>\n",
       "  </thead>\n",
       "  <tbody>\n",
       "    <tr>\n",
       "      <th>0</th>\n",
       "      <td>negative</td>\n",
       "    </tr>\n",
       "    <tr>\n",
       "      <th>1</th>\n",
       "      <td>negative</td>\n",
       "    </tr>\n",
       "    <tr>\n",
       "      <th>2</th>\n",
       "      <td>negative</td>\n",
       "    </tr>\n",
       "    <tr>\n",
       "      <th>3</th>\n",
       "      <td>negative</td>\n",
       "    </tr>\n",
       "    <tr>\n",
       "      <th>4</th>\n",
       "      <td>negative</td>\n",
       "    </tr>\n",
       "  </tbody>\n",
       "</table>\n",
       "</div>"
      ],
      "text/plain": [
       "     labels\n",
       "0  negative\n",
       "1  negative\n",
       "2  negative\n",
       "3  negative\n",
       "4  negative"
      ]
     },
     "execution_count": 349,
     "metadata": {},
     "output_type": "execute_result"
    }
   ],
   "source": [
    "df_transformed_label.head()"
   ]
  },
  {
   "cell_type": "code",
   "execution_count": 350,
   "metadata": {},
   "outputs": [],
   "source": [
    "from sklearn import preprocessing\n",
    " \n",
    "# label_encoder object knows how to understand word labels.\n",
    "label_encoder = preprocessing.LabelEncoder()\n",
    " \n",
    "# Encode labels in column 'labels'.\n",
    "df_transformed_label['labels']= label_encoder.fit_transform(df_transformed_label)\n",
    "\n",
    "# we will save the encoder as pickle to use when we do the prediction. We will need to decode the predcited values\n",
    "# back to original\n",
    "\n",
    "# file = \"label_encoder.pickle\"\n",
    "# pickle.dump(label_encoder, open(file, \"wb\"))\n",
    "\n"
   ]
  },
  {
   "cell_type": "code",
   "execution_count": 351,
   "metadata": {},
   "outputs": [
    {
     "data": {
      "text/plain": [
       "array([2, 1, 0])"
      ]
     },
     "execution_count": 351,
     "metadata": {},
     "output_type": "execute_result"
    }
   ],
   "source": [
    "df_transformed_label['labels'].unique()\n"
   ]
  },
  {
   "cell_type": "code",
   "execution_count": 69,
   "metadata": {},
   "outputs": [],
   "source": [
    "# list(label_encoder.inverse_transform([2, 1, 0]))\n",
    "\n",
    "# ['negative', 'hypothyroid', 'hyperthyroid']"
   ]
  },
  {
   "cell_type": "code",
   "execution_count": 352,
   "metadata": {},
   "outputs": [
    {
     "data": {
      "text/html": [
       "<div>\n",
       "<style scoped>\n",
       "    .dataframe tbody tr th:only-of-type {\n",
       "        vertical-align: middle;\n",
       "    }\n",
       "\n",
       "    .dataframe tbody tr th {\n",
       "        vertical-align: top;\n",
       "    }\n",
       "\n",
       "    .dataframe thead th {\n",
       "        text-align: right;\n",
       "    }\n",
       "</style>\n",
       "<table border=\"1\" class=\"dataframe\">\n",
       "  <thead>\n",
       "    <tr style=\"text-align: right;\">\n",
       "      <th></th>\n",
       "      <th>labels</th>\n",
       "    </tr>\n",
       "  </thead>\n",
       "  <tbody>\n",
       "    <tr>\n",
       "      <th>0</th>\n",
       "      <td>2</td>\n",
       "    </tr>\n",
       "    <tr>\n",
       "      <th>1</th>\n",
       "      <td>2</td>\n",
       "    </tr>\n",
       "    <tr>\n",
       "      <th>2</th>\n",
       "      <td>2</td>\n",
       "    </tr>\n",
       "    <tr>\n",
       "      <th>3</th>\n",
       "      <td>2</td>\n",
       "    </tr>\n",
       "    <tr>\n",
       "      <th>4</th>\n",
       "      <td>2</td>\n",
       "    </tr>\n",
       "  </tbody>\n",
       "</table>\n",
       "</div>"
      ],
      "text/plain": [
       "   labels\n",
       "0       2\n",
       "1       2\n",
       "2       2\n",
       "3       2\n",
       "4       2"
      ]
     },
     "execution_count": 352,
     "metadata": {},
     "output_type": "execute_result"
    }
   ],
   "source": [
    "df_transformed_label.head()"
   ]
  },
  {
   "cell_type": "code",
   "execution_count": 353,
   "metadata": {},
   "outputs": [
    {
     "data": {
      "text/html": [
       "<div>\n",
       "<style scoped>\n",
       "    .dataframe tbody tr th:only-of-type {\n",
       "        vertical-align: middle;\n",
       "    }\n",
       "\n",
       "    .dataframe tbody tr th {\n",
       "        vertical-align: top;\n",
       "    }\n",
       "\n",
       "    .dataframe thead th {\n",
       "        text-align: right;\n",
       "    }\n",
       "</style>\n",
       "<table border=\"1\" class=\"dataframe\">\n",
       "  <thead>\n",
       "    <tr style=\"text-align: right;\">\n",
       "      <th></th>\n",
       "      <th>sex_M</th>\n",
       "      <th>on thyroxine_t</th>\n",
       "      <th>query on thyroxine_t</th>\n",
       "      <th>on antithyroid medication_t</th>\n",
       "      <th>sick_t</th>\n",
       "      <th>pregnant_t</th>\n",
       "      <th>thyroid surgery_t</th>\n",
       "      <th>I131 treatment_t</th>\n",
       "      <th>query hypothyroid_t</th>\n",
       "      <th>query hyperthyroid_t</th>\n",
       "      <th>lithium_t</th>\n",
       "      <th>goitre_t</th>\n",
       "      <th>tumor_t</th>\n",
       "      <th>hypopituitary_t</th>\n",
       "      <th>psych_t</th>\n",
       "    </tr>\n",
       "  </thead>\n",
       "  <tbody>\n",
       "    <tr>\n",
       "      <th>0</th>\n",
       "      <td>0</td>\n",
       "      <td>0</td>\n",
       "      <td>0</td>\n",
       "      <td>0</td>\n",
       "      <td>0</td>\n",
       "      <td>0</td>\n",
       "      <td>0</td>\n",
       "      <td>0</td>\n",
       "      <td>0</td>\n",
       "      <td>0</td>\n",
       "      <td>0</td>\n",
       "      <td>0</td>\n",
       "      <td>0</td>\n",
       "      <td>0</td>\n",
       "      <td>0</td>\n",
       "    </tr>\n",
       "    <tr>\n",
       "      <th>1</th>\n",
       "      <td>0</td>\n",
       "      <td>0</td>\n",
       "      <td>0</td>\n",
       "      <td>0</td>\n",
       "      <td>0</td>\n",
       "      <td>0</td>\n",
       "      <td>0</td>\n",
       "      <td>0</td>\n",
       "      <td>0</td>\n",
       "      <td>0</td>\n",
       "      <td>0</td>\n",
       "      <td>0</td>\n",
       "      <td>0</td>\n",
       "      <td>0</td>\n",
       "      <td>0</td>\n",
       "    </tr>\n",
       "    <tr>\n",
       "      <th>2</th>\n",
       "      <td>1</td>\n",
       "      <td>0</td>\n",
       "      <td>0</td>\n",
       "      <td>0</td>\n",
       "      <td>0</td>\n",
       "      <td>0</td>\n",
       "      <td>0</td>\n",
       "      <td>0</td>\n",
       "      <td>0</td>\n",
       "      <td>0</td>\n",
       "      <td>0</td>\n",
       "      <td>0</td>\n",
       "      <td>0</td>\n",
       "      <td>0</td>\n",
       "      <td>0</td>\n",
       "    </tr>\n",
       "    <tr>\n",
       "      <th>3</th>\n",
       "      <td>0</td>\n",
       "      <td>1</td>\n",
       "      <td>0</td>\n",
       "      <td>0</td>\n",
       "      <td>0</td>\n",
       "      <td>0</td>\n",
       "      <td>0</td>\n",
       "      <td>0</td>\n",
       "      <td>0</td>\n",
       "      <td>0</td>\n",
       "      <td>0</td>\n",
       "      <td>0</td>\n",
       "      <td>0</td>\n",
       "      <td>0</td>\n",
       "      <td>0</td>\n",
       "    </tr>\n",
       "    <tr>\n",
       "      <th>4</th>\n",
       "      <td>0</td>\n",
       "      <td>0</td>\n",
       "      <td>0</td>\n",
       "      <td>0</td>\n",
       "      <td>0</td>\n",
       "      <td>0</td>\n",
       "      <td>0</td>\n",
       "      <td>0</td>\n",
       "      <td>0</td>\n",
       "      <td>0</td>\n",
       "      <td>0</td>\n",
       "      <td>0</td>\n",
       "      <td>0</td>\n",
       "      <td>0</td>\n",
       "      <td>0</td>\n",
       "    </tr>\n",
       "  </tbody>\n",
       "</table>\n",
       "</div>"
      ],
      "text/plain": [
       "   sex_M  on thyroxine_t  query on thyroxine_t  on antithyroid medication_t  \\\n",
       "0      0               0                     0                            0   \n",
       "1      0               0                     0                            0   \n",
       "2      1               0                     0                            0   \n",
       "3      0               1                     0                            0   \n",
       "4      0               0                     0                            0   \n",
       "\n",
       "   sick_t  pregnant_t  thyroid surgery_t  I131 treatment_t  \\\n",
       "0       0           0                  0                 0   \n",
       "1       0           0                  0                 0   \n",
       "2       0           0                  0                 0   \n",
       "3       0           0                  0                 0   \n",
       "4       0           0                  0                 0   \n",
       "\n",
       "   query hypothyroid_t  query hyperthyroid_t  lithium_t  goitre_t  tumor_t  \\\n",
       "0                    0                     0          0         0        0   \n",
       "1                    0                     0          0         0        0   \n",
       "2                    0                     0          0         0        0   \n",
       "3                    0                     0          0         0        0   \n",
       "4                    0                     0          0         0        0   \n",
       "\n",
       "   hypopituitary_t  psych_t  \n",
       "0                0        0  \n",
       "1                0        0  \n",
       "2                0        0  \n",
       "3                0        0  \n",
       "4                0        0  "
      ]
     },
     "execution_count": 353,
     "metadata": {},
     "output_type": "execute_result"
    }
   ],
   "source": [
    "df_onehot_encoded.head()"
   ]
  },
  {
   "cell_type": "code",
   "execution_count": 354,
   "metadata": {},
   "outputs": [],
   "source": [
    "df_encoded_cat = pd.concat([df_onehot_encoded, df_transformed_label], axis=1)\n"
   ]
  },
  {
   "cell_type": "code",
   "execution_count": 355,
   "metadata": {},
   "outputs": [
    {
     "data": {
      "text/html": [
       "<div>\n",
       "<style scoped>\n",
       "    .dataframe tbody tr th:only-of-type {\n",
       "        vertical-align: middle;\n",
       "    }\n",
       "\n",
       "    .dataframe tbody tr th {\n",
       "        vertical-align: top;\n",
       "    }\n",
       "\n",
       "    .dataframe thead th {\n",
       "        text-align: right;\n",
       "    }\n",
       "</style>\n",
       "<table border=\"1\" class=\"dataframe\">\n",
       "  <thead>\n",
       "    <tr style=\"text-align: right;\">\n",
       "      <th></th>\n",
       "      <th>sex_M</th>\n",
       "      <th>on thyroxine_t</th>\n",
       "      <th>query on thyroxine_t</th>\n",
       "      <th>on antithyroid medication_t</th>\n",
       "      <th>sick_t</th>\n",
       "      <th>pregnant_t</th>\n",
       "      <th>thyroid surgery_t</th>\n",
       "      <th>I131 treatment_t</th>\n",
       "      <th>query hypothyroid_t</th>\n",
       "      <th>query hyperthyroid_t</th>\n",
       "      <th>lithium_t</th>\n",
       "      <th>goitre_t</th>\n",
       "      <th>tumor_t</th>\n",
       "      <th>hypopituitary_t</th>\n",
       "      <th>psych_t</th>\n",
       "      <th>labels</th>\n",
       "    </tr>\n",
       "  </thead>\n",
       "  <tbody>\n",
       "    <tr>\n",
       "      <th>0</th>\n",
       "      <td>0</td>\n",
       "      <td>0</td>\n",
       "      <td>0</td>\n",
       "      <td>0</td>\n",
       "      <td>0</td>\n",
       "      <td>0</td>\n",
       "      <td>0</td>\n",
       "      <td>0</td>\n",
       "      <td>0</td>\n",
       "      <td>0</td>\n",
       "      <td>0</td>\n",
       "      <td>0</td>\n",
       "      <td>0</td>\n",
       "      <td>0</td>\n",
       "      <td>0</td>\n",
       "      <td>2</td>\n",
       "    </tr>\n",
       "    <tr>\n",
       "      <th>1</th>\n",
       "      <td>0</td>\n",
       "      <td>0</td>\n",
       "      <td>0</td>\n",
       "      <td>0</td>\n",
       "      <td>0</td>\n",
       "      <td>0</td>\n",
       "      <td>0</td>\n",
       "      <td>0</td>\n",
       "      <td>0</td>\n",
       "      <td>0</td>\n",
       "      <td>0</td>\n",
       "      <td>0</td>\n",
       "      <td>0</td>\n",
       "      <td>0</td>\n",
       "      <td>0</td>\n",
       "      <td>2</td>\n",
       "    </tr>\n",
       "    <tr>\n",
       "      <th>2</th>\n",
       "      <td>1</td>\n",
       "      <td>0</td>\n",
       "      <td>0</td>\n",
       "      <td>0</td>\n",
       "      <td>0</td>\n",
       "      <td>0</td>\n",
       "      <td>0</td>\n",
       "      <td>0</td>\n",
       "      <td>0</td>\n",
       "      <td>0</td>\n",
       "      <td>0</td>\n",
       "      <td>0</td>\n",
       "      <td>0</td>\n",
       "      <td>0</td>\n",
       "      <td>0</td>\n",
       "      <td>2</td>\n",
       "    </tr>\n",
       "    <tr>\n",
       "      <th>3</th>\n",
       "      <td>0</td>\n",
       "      <td>1</td>\n",
       "      <td>0</td>\n",
       "      <td>0</td>\n",
       "      <td>0</td>\n",
       "      <td>0</td>\n",
       "      <td>0</td>\n",
       "      <td>0</td>\n",
       "      <td>0</td>\n",
       "      <td>0</td>\n",
       "      <td>0</td>\n",
       "      <td>0</td>\n",
       "      <td>0</td>\n",
       "      <td>0</td>\n",
       "      <td>0</td>\n",
       "      <td>2</td>\n",
       "    </tr>\n",
       "    <tr>\n",
       "      <th>4</th>\n",
       "      <td>0</td>\n",
       "      <td>0</td>\n",
       "      <td>0</td>\n",
       "      <td>0</td>\n",
       "      <td>0</td>\n",
       "      <td>0</td>\n",
       "      <td>0</td>\n",
       "      <td>0</td>\n",
       "      <td>0</td>\n",
       "      <td>0</td>\n",
       "      <td>0</td>\n",
       "      <td>0</td>\n",
       "      <td>0</td>\n",
       "      <td>0</td>\n",
       "      <td>0</td>\n",
       "      <td>2</td>\n",
       "    </tr>\n",
       "  </tbody>\n",
       "</table>\n",
       "</div>"
      ],
      "text/plain": [
       "   sex_M  on thyroxine_t  query on thyroxine_t  on antithyroid medication_t  \\\n",
       "0      0               0                     0                            0   \n",
       "1      0               0                     0                            0   \n",
       "2      1               0                     0                            0   \n",
       "3      0               1                     0                            0   \n",
       "4      0               0                     0                            0   \n",
       "\n",
       "   sick_t  pregnant_t  thyroid surgery_t  I131 treatment_t  \\\n",
       "0       0           0                  0                 0   \n",
       "1       0           0                  0                 0   \n",
       "2       0           0                  0                 0   \n",
       "3       0           0                  0                 0   \n",
       "4       0           0                  0                 0   \n",
       "\n",
       "   query hypothyroid_t  query hyperthyroid_t  lithium_t  goitre_t  tumor_t  \\\n",
       "0                    0                     0          0         0        0   \n",
       "1                    0                     0          0         0        0   \n",
       "2                    0                     0          0         0        0   \n",
       "3                    0                     0          0         0        0   \n",
       "4                    0                     0          0         0        0   \n",
       "\n",
       "   hypopituitary_t  psych_t  labels  \n",
       "0                0        0       2  \n",
       "1                0        0       2  \n",
       "2                0        0       2  \n",
       "3                0        0       2  \n",
       "4                0        0       2  "
      ]
     },
     "execution_count": 355,
     "metadata": {},
     "output_type": "execute_result"
    }
   ],
   "source": [
    "df_encoded_cat.head()"
   ]
  },
  {
   "cell_type": "markdown",
   "metadata": {},
   "source": [
    "##### Encoding END"
   ]
  },
  {
   "cell_type": "code",
   "execution_count": null,
   "metadata": {},
   "outputs": [],
   "source": []
  },
  {
   "cell_type": "code",
   "execution_count": null,
   "metadata": {},
   "outputs": [],
   "source": []
  },
  {
   "cell_type": "markdown",
   "metadata": {},
   "source": [
    "### Multi-collinearity\n",
    "\n"
   ]
  },
  {
   "cell_type": "markdown",
   "metadata": {},
   "source": [
    "Multi-collinearlity: One independent feature is **depend** on another independent feature.\n",
    "\n",
    "So, it's a problem because independent feature should be independent **only** (not dependent)"
   ]
  },
  {
   "cell_type": "markdown",
   "metadata": {},
   "source": [
    "Few suggestions from people:\n",
    "\n",
    "- If we are using linear Model to solve problem, we have to deal with Multicollinearity\n",
    "- And Linear models are Model which creates a line to predict or separate\n",
    "- Example Linear Models: SVM, Logistic Regression, Linear Regression\n",
    "\n",
    "- If you're going to solve using decision tree or any other tree model then no need to deal with Multicollinearity\n",
    "\n",
    "- And to check Multicollinearity - Scatter plot, correlation and VIF (between independent features)\n",
    "\n",
    "- For classification problems - checking independent vs dependent feature is not useful\n",
    "\n",
    "- Multicollinearity is entirely for independent features\n"
   ]
  },
  {
   "cell_type": "markdown",
   "metadata": {},
   "source": [
    "**Inferences:** We need to handle the Multi-collinearity in Numerical and Categorical feature seperately "
   ]
  },
  {
   "cell_type": "markdown",
   "metadata": {},
   "source": [
    "#### Let's check and handle the Multi-collinearity in Numerical first"
   ]
  },
  {
   "cell_type": "code",
   "execution_count": 356,
   "metadata": {},
   "outputs": [],
   "source": [
    "df_numerical = df_transformed.select_dtypes(include = np.number)\n"
   ]
  },
  {
   "cell_type": "code",
   "execution_count": 357,
   "metadata": {},
   "outputs": [
    {
     "data": {
      "text/html": [
       "<div>\n",
       "<style scoped>\n",
       "    .dataframe tbody tr th:only-of-type {\n",
       "        vertical-align: middle;\n",
       "    }\n",
       "\n",
       "    .dataframe tbody tr th {\n",
       "        vertical-align: top;\n",
       "    }\n",
       "\n",
       "    .dataframe thead th {\n",
       "        text-align: right;\n",
       "    }\n",
       "</style>\n",
       "<table border=\"1\" class=\"dataframe\">\n",
       "  <thead>\n",
       "    <tr style=\"text-align: right;\">\n",
       "      <th></th>\n",
       "      <th>df_age</th>\n",
       "      <th>df_TSH</th>\n",
       "      <th>df_T3</th>\n",
       "      <th>df_TT4</th>\n",
       "      <th>df_T4U</th>\n",
       "      <th>df_FTI</th>\n",
       "    </tr>\n",
       "  </thead>\n",
       "  <tbody>\n",
       "    <tr>\n",
       "      <th>0</th>\n",
       "      <td>17.635405</td>\n",
       "      <td>0.652931</td>\n",
       "      <td>1.581139</td>\n",
       "      <td>11.180340</td>\n",
       "      <td>0.463594</td>\n",
       "      <td>10.440307</td>\n",
       "    </tr>\n",
       "    <tr>\n",
       "      <th>1</th>\n",
       "      <td>11.525391</td>\n",
       "      <td>1.032261</td>\n",
       "      <td>1.414214</td>\n",
       "      <td>10.099505</td>\n",
       "      <td>0.435919</td>\n",
       "      <td>10.344080</td>\n",
       "    </tr>\n",
       "    <tr>\n",
       "      <th>2</th>\n",
       "      <td>19.174507</td>\n",
       "      <td>0.558577</td>\n",
       "      <td>1.414214</td>\n",
       "      <td>10.440307</td>\n",
       "      <td>0.422019</td>\n",
       "      <td>10.954451</td>\n",
       "    </tr>\n",
       "    <tr>\n",
       "      <th>3</th>\n",
       "      <td>25.960596</td>\n",
       "      <td>0.141896</td>\n",
       "      <td>1.378405</td>\n",
       "      <td>13.228757</td>\n",
       "      <td>0.435919</td>\n",
       "      <td>10.344080</td>\n",
       "    </tr>\n",
       "    <tr>\n",
       "      <th>4</th>\n",
       "      <td>25.960596</td>\n",
       "      <td>0.461698</td>\n",
       "      <td>1.095445</td>\n",
       "      <td>7.810250</td>\n",
       "      <td>0.413505</td>\n",
       "      <td>8.366600</td>\n",
       "    </tr>\n",
       "  </tbody>\n",
       "</table>\n",
       "</div>"
      ],
      "text/plain": [
       "      df_age    df_TSH     df_T3     df_TT4    df_T4U     df_FTI\n",
       "0  17.635405  0.652931  1.581139  11.180340  0.463594  10.440307\n",
       "1  11.525391  1.032261  1.414214  10.099505  0.435919  10.344080\n",
       "2  19.174507  0.558577  1.414214  10.440307  0.422019  10.954451\n",
       "3  25.960596  0.141896  1.378405  13.228757  0.435919  10.344080\n",
       "4  25.960596  0.461698  1.095445   7.810250  0.413505   8.366600"
      ]
     },
     "execution_count": 357,
     "metadata": {},
     "output_type": "execute_result"
    }
   ],
   "source": [
    "df_numerical.head()"
   ]
  },
  {
   "cell_type": "markdown",
   "metadata": {},
   "source": [
    "**Ways to check Multi-collinearity:** Scatter plot, Correlation and Variance Inflation Factor (VIF) - between independent features\n",
    "\n",
    "**Can you calculate VIF for categorical variables?**\n",
    "- VIF cannot be used on categorical data. Statistically speaking, it wouldn't make sense.\n",
    "- If you want to check independence between 2 categorical variables you can however run a Chi-square test."
   ]
  },
  {
   "cell_type": "code",
   "execution_count": 358,
   "metadata": {},
   "outputs": [],
   "source": [
    "def calculate_vif(X):\n",
    "\n",
    "    # Calculating VIF\n",
    "    \n",
    "    vif = pd.DataFrame()\n",
    "    vif[\"variables\"] = X.columns\n",
    "    vif[\"VIF\"] = [ variance_inflation_factor(X.values, i) for i in range(X.shape[1]) ]\n",
    "\n",
    "    return(vif)"
   ]
  },
  {
   "cell_type": "markdown",
   "metadata": {},
   "source": [
    "#### Some VIF Rules:\n",
    "\n",
    "- VIF starts at 1 and has no upper limit\n",
    "\n",
    "- VIF = 1, no correlation between the independent variable and the other variables\n",
    "\n",
    "- VIF exceeding 5 or 10 indicates high multicollinearity between this independent variable and the others\n",
    "\n",
    "- VIF = 1 → No correlation\n",
    "\n",
    "- VIF = 1 to 5 → Moderate correlation\n",
    "\n",
    "- VIF > 10 → High correlation"
   ]
  },
  {
   "cell_type": "code",
   "execution_count": 359,
   "metadata": {},
   "outputs": [
    {
     "data": {
      "text/html": [
       "<div>\n",
       "<style scoped>\n",
       "    .dataframe tbody tr th:only-of-type {\n",
       "        vertical-align: middle;\n",
       "    }\n",
       "\n",
       "    .dataframe tbody tr th {\n",
       "        vertical-align: top;\n",
       "    }\n",
       "\n",
       "    .dataframe thead th {\n",
       "        text-align: right;\n",
       "    }\n",
       "</style>\n",
       "<table border=\"1\" class=\"dataframe\">\n",
       "  <thead>\n",
       "    <tr style=\"text-align: right;\">\n",
       "      <th></th>\n",
       "      <th>variables</th>\n",
       "      <th>VIF</th>\n",
       "    </tr>\n",
       "  </thead>\n",
       "  <tbody>\n",
       "    <tr>\n",
       "      <th>0</th>\n",
       "      <td>df_age</td>\n",
       "      <td>13.580378</td>\n",
       "    </tr>\n",
       "    <tr>\n",
       "      <th>1</th>\n",
       "      <td>df_TSH</td>\n",
       "      <td>5.325966</td>\n",
       "    </tr>\n",
       "    <tr>\n",
       "      <th>2</th>\n",
       "      <td>df_T3</td>\n",
       "      <td>49.180023</td>\n",
       "    </tr>\n",
       "    <tr>\n",
       "      <th>3</th>\n",
       "      <td>df_TT4</td>\n",
       "      <td>186.175601</td>\n",
       "    </tr>\n",
       "    <tr>\n",
       "      <th>4</th>\n",
       "      <td>df_T4U</td>\n",
       "      <td>115.134163</td>\n",
       "    </tr>\n",
       "    <tr>\n",
       "      <th>5</th>\n",
       "      <td>df_FTI</td>\n",
       "      <td>124.309155</td>\n",
       "    </tr>\n",
       "  </tbody>\n",
       "</table>\n",
       "</div>"
      ],
      "text/plain": [
       "  variables         VIF\n",
       "0    df_age   13.580378\n",
       "1    df_TSH    5.325966\n",
       "2     df_T3   49.180023\n",
       "3    df_TT4  186.175601\n",
       "4    df_T4U  115.134163\n",
       "5    df_FTI  124.309155"
      ]
     },
     "execution_count": 359,
     "metadata": {},
     "output_type": "execute_result"
    }
   ],
   "source": [
    "calculate_vif(df_numerical)\n"
   ]
  },
  {
   "cell_type": "markdown",
   "metadata": {},
   "source": [
    "#### Observations:\n",
    "    \n",
    "These features are having high correlation:\n",
    "- yeojohn_age\n",
    "- sqrroot_T3\n",
    "- sqrroot_TT4\n",
    "- yeojohn_T4U\n",
    "- sqrroot_FTI"
   ]
  },
  {
   "cell_type": "markdown",
   "metadata": {},
   "source": [
    "#### Now, let's handle this carefully. Explore what is happening in back-end of the VIF!\n",
    "\n",
    "After googling, we found on article and it's mentioned:\n",
    "- variance_inflation_factor expects the presence of a constant in the matrix of explanatory variables\n",
    "\n",
    "\n",
    "URL: https://stackoverflow.com/questions/42658379/variance-inflation-factor-in-python"
   ]
  },
  {
   "cell_type": "markdown",
   "metadata": {},
   "source": [
    "#### Let's deep dive what does it means?\n",
    "\n",
    "First understood this:\n",
    "\n",
    "- The statsmodel API assumes line passes through origin. Hence intercept is 0.\n",
    "\n",
    "- In that case If we try to build a linear regression model using statsmodel model our intercept will always be 0.\n",
    "\n",
    "- So, we externally have to tell statsmodel API that our intercept should not be 0. And that's why we have to add constant in our dataset.\n",
    "\n",
    "- If we do linear regression via SKlib, then it internally add constant. But in statsmodel, we have to do this externally.\n"
   ]
  },
  {
   "cell_type": "markdown",
   "metadata": {},
   "source": [
    "Now coming to VIF.\n",
    "\n",
    "- Internally VIF is nothing but a Linear regression.\n",
    "\n",
    "- So, in the backend, each independent model is predicted using other independent model.\n",
    "\n",
    "- E.g. if we have X, Y, Z columns in the dataset.\n",
    "\n",
    "- Y & Z are used as independent features and X become dependent feature.\n",
    "\n",
    "- Similarly, X & Y will act as independent features. This 2 will predict Z.\n",
    "\n",
    "- And similarly, X & Z will act as independent features. They 2 will predict Y.\n",
    "\n",
    "- This means VIF is using Linear Regression and this VIF is present in statsmodel API.\n",
    "\n",
    "- And in statsmodel API, we need to externally add a constant variable in the dataset.\n"
   ]
  },
  {
   "cell_type": "markdown",
   "metadata": {},
   "source": [
    "**We are adding 1**, so that it can work as a linear regression and the intercept should be not be 0.\n",
    "\n",
    "##### Read above paragraphs for more clarification."
   ]
  },
  {
   "cell_type": "code",
   "execution_count": 360,
   "metadata": {},
   "outputs": [],
   "source": [
    "df_numerical_constant = df_numerical.copy(deep = True)\n"
   ]
  },
  {
   "cell_type": "code",
   "execution_count": 361,
   "metadata": {},
   "outputs": [],
   "source": [
    "df_numerical_constant['constant'] = 1\n",
    "\n",
    "## adding 1 constant in our dataset."
   ]
  },
  {
   "cell_type": "code",
   "execution_count": 362,
   "metadata": {},
   "outputs": [
    {
     "data": {
      "text/html": [
       "<div>\n",
       "<style scoped>\n",
       "    .dataframe tbody tr th:only-of-type {\n",
       "        vertical-align: middle;\n",
       "    }\n",
       "\n",
       "    .dataframe tbody tr th {\n",
       "        vertical-align: top;\n",
       "    }\n",
       "\n",
       "    .dataframe thead th {\n",
       "        text-align: right;\n",
       "    }\n",
       "</style>\n",
       "<table border=\"1\" class=\"dataframe\">\n",
       "  <thead>\n",
       "    <tr style=\"text-align: right;\">\n",
       "      <th></th>\n",
       "      <th>df_age</th>\n",
       "      <th>df_TSH</th>\n",
       "      <th>df_T3</th>\n",
       "      <th>df_TT4</th>\n",
       "      <th>df_T4U</th>\n",
       "      <th>df_FTI</th>\n",
       "      <th>constant</th>\n",
       "    </tr>\n",
       "  </thead>\n",
       "  <tbody>\n",
       "    <tr>\n",
       "      <th>0</th>\n",
       "      <td>17.635405</td>\n",
       "      <td>0.652931</td>\n",
       "      <td>1.581139</td>\n",
       "      <td>11.180340</td>\n",
       "      <td>0.463594</td>\n",
       "      <td>10.440307</td>\n",
       "      <td>1</td>\n",
       "    </tr>\n",
       "    <tr>\n",
       "      <th>1</th>\n",
       "      <td>11.525391</td>\n",
       "      <td>1.032261</td>\n",
       "      <td>1.414214</td>\n",
       "      <td>10.099505</td>\n",
       "      <td>0.435919</td>\n",
       "      <td>10.344080</td>\n",
       "      <td>1</td>\n",
       "    </tr>\n",
       "    <tr>\n",
       "      <th>2</th>\n",
       "      <td>19.174507</td>\n",
       "      <td>0.558577</td>\n",
       "      <td>1.414214</td>\n",
       "      <td>10.440307</td>\n",
       "      <td>0.422019</td>\n",
       "      <td>10.954451</td>\n",
       "      <td>1</td>\n",
       "    </tr>\n",
       "    <tr>\n",
       "      <th>3</th>\n",
       "      <td>25.960596</td>\n",
       "      <td>0.141896</td>\n",
       "      <td>1.378405</td>\n",
       "      <td>13.228757</td>\n",
       "      <td>0.435919</td>\n",
       "      <td>10.344080</td>\n",
       "      <td>1</td>\n",
       "    </tr>\n",
       "    <tr>\n",
       "      <th>4</th>\n",
       "      <td>25.960596</td>\n",
       "      <td>0.461698</td>\n",
       "      <td>1.095445</td>\n",
       "      <td>7.810250</td>\n",
       "      <td>0.413505</td>\n",
       "      <td>8.366600</td>\n",
       "      <td>1</td>\n",
       "    </tr>\n",
       "  </tbody>\n",
       "</table>\n",
       "</div>"
      ],
      "text/plain": [
       "      df_age    df_TSH     df_T3     df_TT4    df_T4U     df_FTI  constant\n",
       "0  17.635405  0.652931  1.581139  11.180340  0.463594  10.440307         1\n",
       "1  11.525391  1.032261  1.414214  10.099505  0.435919  10.344080         1\n",
       "2  19.174507  0.558577  1.414214  10.440307  0.422019  10.954451         1\n",
       "3  25.960596  0.141896  1.378405  13.228757  0.435919  10.344080         1\n",
       "4  25.960596  0.461698  1.095445   7.810250  0.413505   8.366600         1"
      ]
     },
     "execution_count": 362,
     "metadata": {},
     "output_type": "execute_result"
    }
   ],
   "source": [
    "df_numerical_constant.head()\n"
   ]
  },
  {
   "cell_type": "code",
   "execution_count": 365,
   "metadata": {},
   "outputs": [
    {
     "data": {
      "text/html": [
       "<div>\n",
       "<style scoped>\n",
       "    .dataframe tbody tr th:only-of-type {\n",
       "        vertical-align: middle;\n",
       "    }\n",
       "\n",
       "    .dataframe tbody tr th {\n",
       "        vertical-align: top;\n",
       "    }\n",
       "\n",
       "    .dataframe thead th {\n",
       "        text-align: right;\n",
       "    }\n",
       "</style>\n",
       "<table border=\"1\" class=\"dataframe\">\n",
       "  <thead>\n",
       "    <tr style=\"text-align: right;\">\n",
       "      <th></th>\n",
       "      <th>variables</th>\n",
       "      <th>VIF</th>\n",
       "    </tr>\n",
       "  </thead>\n",
       "  <tbody>\n",
       "    <tr>\n",
       "      <th>0</th>\n",
       "      <td>df_age</td>\n",
       "      <td>1.078665</td>\n",
       "    </tr>\n",
       "    <tr>\n",
       "      <th>1</th>\n",
       "      <td>df_TSH</td>\n",
       "      <td>1.315304</td>\n",
       "    </tr>\n",
       "    <tr>\n",
       "      <th>2</th>\n",
       "      <td>df_T3</td>\n",
       "      <td>1.609166</td>\n",
       "    </tr>\n",
       "    <tr>\n",
       "      <th>3</th>\n",
       "      <td>df_TT4</td>\n",
       "      <td>16.406287</td>\n",
       "    </tr>\n",
       "    <tr>\n",
       "      <th>4</th>\n",
       "      <td>df_T4U</td>\n",
       "      <td>6.481149</td>\n",
       "    </tr>\n",
       "    <tr>\n",
       "      <th>5</th>\n",
       "      <td>df_FTI</td>\n",
       "      <td>14.311422</td>\n",
       "    </tr>\n",
       "    <tr>\n",
       "      <th>6</th>\n",
       "      <td>constant</td>\n",
       "      <td>1256.554641</td>\n",
       "    </tr>\n",
       "  </tbody>\n",
       "</table>\n",
       "</div>"
      ],
      "text/plain": [
       "  variables          VIF\n",
       "0    df_age     1.078665\n",
       "1    df_TSH     1.315304\n",
       "2     df_T3     1.609166\n",
       "3    df_TT4    16.406287\n",
       "4    df_T4U     6.481149\n",
       "5    df_FTI    14.311422\n",
       "6  constant  1256.554641"
      ]
     },
     "execution_count": 365,
     "metadata": {},
     "output_type": "execute_result"
    }
   ],
   "source": [
    "calculate_vif(df_numerical_constant)\n"
   ]
  },
  {
   "cell_type": "markdown",
   "metadata": {},
   "source": [
    "We can see the VIF is significantly reduced after adding the constant value.\n",
    "\n",
    "Now, let's analyze the above one by dropping the highest VIF value first."
   ]
  },
  {
   "cell_type": "code",
   "execution_count": 367,
   "metadata": {},
   "outputs": [],
   "source": [
    "df_numerical_constant.drop('df_TT4', axis = 1, inplace = True)\n"
   ]
  },
  {
   "cell_type": "code",
   "execution_count": 368,
   "metadata": {},
   "outputs": [
    {
     "data": {
      "text/html": [
       "<div>\n",
       "<style scoped>\n",
       "    .dataframe tbody tr th:only-of-type {\n",
       "        vertical-align: middle;\n",
       "    }\n",
       "\n",
       "    .dataframe tbody tr th {\n",
       "        vertical-align: top;\n",
       "    }\n",
       "\n",
       "    .dataframe thead th {\n",
       "        text-align: right;\n",
       "    }\n",
       "</style>\n",
       "<table border=\"1\" class=\"dataframe\">\n",
       "  <thead>\n",
       "    <tr style=\"text-align: right;\">\n",
       "      <th></th>\n",
       "      <th>variables</th>\n",
       "      <th>VIF</th>\n",
       "    </tr>\n",
       "  </thead>\n",
       "  <tbody>\n",
       "    <tr>\n",
       "      <th>0</th>\n",
       "      <td>df_age</td>\n",
       "      <td>1.078313</td>\n",
       "    </tr>\n",
       "    <tr>\n",
       "      <th>1</th>\n",
       "      <td>df_TSH</td>\n",
       "      <td>1.306187</td>\n",
       "    </tr>\n",
       "    <tr>\n",
       "      <th>2</th>\n",
       "      <td>df_T3</td>\n",
       "      <td>1.608048</td>\n",
       "    </tr>\n",
       "    <tr>\n",
       "      <th>3</th>\n",
       "      <td>df_T4U</td>\n",
       "      <td>1.415301</td>\n",
       "    </tr>\n",
       "    <tr>\n",
       "      <th>4</th>\n",
       "      <td>df_FTI</td>\n",
       "      <td>1.487098</td>\n",
       "    </tr>\n",
       "    <tr>\n",
       "      <th>5</th>\n",
       "      <td>constant</td>\n",
       "      <td>352.397008</td>\n",
       "    </tr>\n",
       "  </tbody>\n",
       "</table>\n",
       "</div>"
      ],
      "text/plain": [
       "  variables         VIF\n",
       "0    df_age    1.078313\n",
       "1    df_TSH    1.306187\n",
       "2     df_T3    1.608048\n",
       "3    df_T4U    1.415301\n",
       "4    df_FTI    1.487098\n",
       "5  constant  352.397008"
      ]
     },
     "execution_count": 368,
     "metadata": {},
     "output_type": "execute_result"
    }
   ],
   "source": [
    "calculate_vif(df_numerical_constant)\n"
   ]
  },
  {
   "cell_type": "markdown",
   "metadata": {},
   "source": [
    "#### Observations:\n",
    "- Now we can see the VIF is significantly reduced after dropping the sqrroot_TT4 feature with highest VIF.\n",
    "- And none of the features are correlated now.\n",
    "\n",
    "This looks good."
   ]
  },
  {
   "cell_type": "code",
   "execution_count": null,
   "metadata": {},
   "outputs": [],
   "source": []
  },
  {
   "cell_type": "markdown",
   "metadata": {},
   "source": [
    "#### Now, let's create the final dataset with numerical features by dropping the constant column"
   ]
  },
  {
   "cell_type": "code",
   "execution_count": 369,
   "metadata": {},
   "outputs": [],
   "source": [
    "df_numerical_final = df_numerical_constant.drop('constant', axis = 1)\n"
   ]
  },
  {
   "cell_type": "code",
   "execution_count": 370,
   "metadata": {},
   "outputs": [
    {
     "data": {
      "text/html": [
       "<div>\n",
       "<style scoped>\n",
       "    .dataframe tbody tr th:only-of-type {\n",
       "        vertical-align: middle;\n",
       "    }\n",
       "\n",
       "    .dataframe tbody tr th {\n",
       "        vertical-align: top;\n",
       "    }\n",
       "\n",
       "    .dataframe thead th {\n",
       "        text-align: right;\n",
       "    }\n",
       "</style>\n",
       "<table border=\"1\" class=\"dataframe\">\n",
       "  <thead>\n",
       "    <tr style=\"text-align: right;\">\n",
       "      <th></th>\n",
       "      <th>df_age</th>\n",
       "      <th>df_TSH</th>\n",
       "      <th>df_T3</th>\n",
       "      <th>df_T4U</th>\n",
       "      <th>df_FTI</th>\n",
       "    </tr>\n",
       "  </thead>\n",
       "  <tbody>\n",
       "    <tr>\n",
       "      <th>0</th>\n",
       "      <td>17.635405</td>\n",
       "      <td>0.652931</td>\n",
       "      <td>1.581139</td>\n",
       "      <td>0.463594</td>\n",
       "      <td>10.440307</td>\n",
       "    </tr>\n",
       "    <tr>\n",
       "      <th>1</th>\n",
       "      <td>11.525391</td>\n",
       "      <td>1.032261</td>\n",
       "      <td>1.414214</td>\n",
       "      <td>0.435919</td>\n",
       "      <td>10.344080</td>\n",
       "    </tr>\n",
       "    <tr>\n",
       "      <th>2</th>\n",
       "      <td>19.174507</td>\n",
       "      <td>0.558577</td>\n",
       "      <td>1.414214</td>\n",
       "      <td>0.422019</td>\n",
       "      <td>10.954451</td>\n",
       "    </tr>\n",
       "    <tr>\n",
       "      <th>3</th>\n",
       "      <td>25.960596</td>\n",
       "      <td>0.141896</td>\n",
       "      <td>1.378405</td>\n",
       "      <td>0.435919</td>\n",
       "      <td>10.344080</td>\n",
       "    </tr>\n",
       "    <tr>\n",
       "      <th>4</th>\n",
       "      <td>25.960596</td>\n",
       "      <td>0.461698</td>\n",
       "      <td>1.095445</td>\n",
       "      <td>0.413505</td>\n",
       "      <td>8.366600</td>\n",
       "    </tr>\n",
       "  </tbody>\n",
       "</table>\n",
       "</div>"
      ],
      "text/plain": [
       "      df_age    df_TSH     df_T3    df_T4U     df_FTI\n",
       "0  17.635405  0.652931  1.581139  0.463594  10.440307\n",
       "1  11.525391  1.032261  1.414214  0.435919  10.344080\n",
       "2  19.174507  0.558577  1.414214  0.422019  10.954451\n",
       "3  25.960596  0.141896  1.378405  0.435919  10.344080\n",
       "4  25.960596  0.461698  1.095445  0.413505   8.366600"
      ]
     },
     "execution_count": 370,
     "metadata": {},
     "output_type": "execute_result"
    }
   ],
   "source": [
    "df_numerical_final.head()\n",
    "\n",
    "# final dataset with numerical features"
   ]
  },
  {
   "cell_type": "markdown",
   "metadata": {},
   "source": [
    "#### Now, let's create the final dataset with categorical features"
   ]
  },
  {
   "cell_type": "code",
   "execution_count": 371,
   "metadata": {},
   "outputs": [],
   "source": [
    "df_categorical_final = df_encoded_cat.copy(deep = True)\n"
   ]
  },
  {
   "cell_type": "code",
   "execution_count": 372,
   "metadata": {},
   "outputs": [
    {
     "data": {
      "text/html": [
       "<div>\n",
       "<style scoped>\n",
       "    .dataframe tbody tr th:only-of-type {\n",
       "        vertical-align: middle;\n",
       "    }\n",
       "\n",
       "    .dataframe tbody tr th {\n",
       "        vertical-align: top;\n",
       "    }\n",
       "\n",
       "    .dataframe thead th {\n",
       "        text-align: right;\n",
       "    }\n",
       "</style>\n",
       "<table border=\"1\" class=\"dataframe\">\n",
       "  <thead>\n",
       "    <tr style=\"text-align: right;\">\n",
       "      <th></th>\n",
       "      <th>sex_M</th>\n",
       "      <th>on thyroxine_t</th>\n",
       "      <th>query on thyroxine_t</th>\n",
       "      <th>on antithyroid medication_t</th>\n",
       "      <th>sick_t</th>\n",
       "      <th>pregnant_t</th>\n",
       "      <th>thyroid surgery_t</th>\n",
       "      <th>I131 treatment_t</th>\n",
       "      <th>query hypothyroid_t</th>\n",
       "      <th>query hyperthyroid_t</th>\n",
       "      <th>lithium_t</th>\n",
       "      <th>goitre_t</th>\n",
       "      <th>tumor_t</th>\n",
       "      <th>hypopituitary_t</th>\n",
       "      <th>psych_t</th>\n",
       "      <th>labels</th>\n",
       "    </tr>\n",
       "  </thead>\n",
       "  <tbody>\n",
       "    <tr>\n",
       "      <th>0</th>\n",
       "      <td>0</td>\n",
       "      <td>0</td>\n",
       "      <td>0</td>\n",
       "      <td>0</td>\n",
       "      <td>0</td>\n",
       "      <td>0</td>\n",
       "      <td>0</td>\n",
       "      <td>0</td>\n",
       "      <td>0</td>\n",
       "      <td>0</td>\n",
       "      <td>0</td>\n",
       "      <td>0</td>\n",
       "      <td>0</td>\n",
       "      <td>0</td>\n",
       "      <td>0</td>\n",
       "      <td>2</td>\n",
       "    </tr>\n",
       "    <tr>\n",
       "      <th>1</th>\n",
       "      <td>0</td>\n",
       "      <td>0</td>\n",
       "      <td>0</td>\n",
       "      <td>0</td>\n",
       "      <td>0</td>\n",
       "      <td>0</td>\n",
       "      <td>0</td>\n",
       "      <td>0</td>\n",
       "      <td>0</td>\n",
       "      <td>0</td>\n",
       "      <td>0</td>\n",
       "      <td>0</td>\n",
       "      <td>0</td>\n",
       "      <td>0</td>\n",
       "      <td>0</td>\n",
       "      <td>2</td>\n",
       "    </tr>\n",
       "    <tr>\n",
       "      <th>2</th>\n",
       "      <td>1</td>\n",
       "      <td>0</td>\n",
       "      <td>0</td>\n",
       "      <td>0</td>\n",
       "      <td>0</td>\n",
       "      <td>0</td>\n",
       "      <td>0</td>\n",
       "      <td>0</td>\n",
       "      <td>0</td>\n",
       "      <td>0</td>\n",
       "      <td>0</td>\n",
       "      <td>0</td>\n",
       "      <td>0</td>\n",
       "      <td>0</td>\n",
       "      <td>0</td>\n",
       "      <td>2</td>\n",
       "    </tr>\n",
       "    <tr>\n",
       "      <th>3</th>\n",
       "      <td>0</td>\n",
       "      <td>1</td>\n",
       "      <td>0</td>\n",
       "      <td>0</td>\n",
       "      <td>0</td>\n",
       "      <td>0</td>\n",
       "      <td>0</td>\n",
       "      <td>0</td>\n",
       "      <td>0</td>\n",
       "      <td>0</td>\n",
       "      <td>0</td>\n",
       "      <td>0</td>\n",
       "      <td>0</td>\n",
       "      <td>0</td>\n",
       "      <td>0</td>\n",
       "      <td>2</td>\n",
       "    </tr>\n",
       "    <tr>\n",
       "      <th>4</th>\n",
       "      <td>0</td>\n",
       "      <td>0</td>\n",
       "      <td>0</td>\n",
       "      <td>0</td>\n",
       "      <td>0</td>\n",
       "      <td>0</td>\n",
       "      <td>0</td>\n",
       "      <td>0</td>\n",
       "      <td>0</td>\n",
       "      <td>0</td>\n",
       "      <td>0</td>\n",
       "      <td>0</td>\n",
       "      <td>0</td>\n",
       "      <td>0</td>\n",
       "      <td>0</td>\n",
       "      <td>2</td>\n",
       "    </tr>\n",
       "  </tbody>\n",
       "</table>\n",
       "</div>"
      ],
      "text/plain": [
       "   sex_M  on thyroxine_t  query on thyroxine_t  on antithyroid medication_t  \\\n",
       "0      0               0                     0                            0   \n",
       "1      0               0                     0                            0   \n",
       "2      1               0                     0                            0   \n",
       "3      0               1                     0                            0   \n",
       "4      0               0                     0                            0   \n",
       "\n",
       "   sick_t  pregnant_t  thyroid surgery_t  I131 treatment_t  \\\n",
       "0       0           0                  0                 0   \n",
       "1       0           0                  0                 0   \n",
       "2       0           0                  0                 0   \n",
       "3       0           0                  0                 0   \n",
       "4       0           0                  0                 0   \n",
       "\n",
       "   query hypothyroid_t  query hyperthyroid_t  lithium_t  goitre_t  tumor_t  \\\n",
       "0                    0                     0          0         0        0   \n",
       "1                    0                     0          0         0        0   \n",
       "2                    0                     0          0         0        0   \n",
       "3                    0                     0          0         0        0   \n",
       "4                    0                     0          0         0        0   \n",
       "\n",
       "   hypopituitary_t  psych_t  labels  \n",
       "0                0        0       2  \n",
       "1                0        0       2  \n",
       "2                0        0       2  \n",
       "3                0        0       2  \n",
       "4                0        0       2  "
      ]
     },
     "execution_count": 372,
     "metadata": {},
     "output_type": "execute_result"
    }
   ],
   "source": [
    "df_categorical_final.head()\n",
    "\n",
    "# final dataset with categorical features"
   ]
  },
  {
   "cell_type": "markdown",
   "metadata": {},
   "source": [
    "#### Cancatenate the numerical and categorical features and create a final dataset"
   ]
  },
  {
   "cell_type": "code",
   "execution_count": 373,
   "metadata": {},
   "outputs": [],
   "source": [
    "df_final = pd.concat([df_numerical_final, df_categorical_final], axis = 1)\n",
    "\n",
    "# final dataset - 2800x21"
   ]
  },
  {
   "cell_type": "code",
   "execution_count": 374,
   "metadata": {},
   "outputs": [
    {
     "data": {
      "text/html": [
       "<div>\n",
       "<style scoped>\n",
       "    .dataframe tbody tr th:only-of-type {\n",
       "        vertical-align: middle;\n",
       "    }\n",
       "\n",
       "    .dataframe tbody tr th {\n",
       "        vertical-align: top;\n",
       "    }\n",
       "\n",
       "    .dataframe thead th {\n",
       "        text-align: right;\n",
       "    }\n",
       "</style>\n",
       "<table border=\"1\" class=\"dataframe\">\n",
       "  <thead>\n",
       "    <tr style=\"text-align: right;\">\n",
       "      <th></th>\n",
       "      <th>df_age</th>\n",
       "      <th>df_TSH</th>\n",
       "      <th>df_T3</th>\n",
       "      <th>df_T4U</th>\n",
       "      <th>df_FTI</th>\n",
       "      <th>sex_M</th>\n",
       "      <th>on thyroxine_t</th>\n",
       "      <th>query on thyroxine_t</th>\n",
       "      <th>on antithyroid medication_t</th>\n",
       "      <th>sick_t</th>\n",
       "      <th>...</th>\n",
       "      <th>thyroid surgery_t</th>\n",
       "      <th>I131 treatment_t</th>\n",
       "      <th>query hypothyroid_t</th>\n",
       "      <th>query hyperthyroid_t</th>\n",
       "      <th>lithium_t</th>\n",
       "      <th>goitre_t</th>\n",
       "      <th>tumor_t</th>\n",
       "      <th>hypopituitary_t</th>\n",
       "      <th>psych_t</th>\n",
       "      <th>labels</th>\n",
       "    </tr>\n",
       "  </thead>\n",
       "  <tbody>\n",
       "    <tr>\n",
       "      <th>0</th>\n",
       "      <td>17.635405</td>\n",
       "      <td>0.652931</td>\n",
       "      <td>1.581139</td>\n",
       "      <td>0.463594</td>\n",
       "      <td>10.440307</td>\n",
       "      <td>0</td>\n",
       "      <td>0</td>\n",
       "      <td>0</td>\n",
       "      <td>0</td>\n",
       "      <td>0</td>\n",
       "      <td>...</td>\n",
       "      <td>0</td>\n",
       "      <td>0</td>\n",
       "      <td>0</td>\n",
       "      <td>0</td>\n",
       "      <td>0</td>\n",
       "      <td>0</td>\n",
       "      <td>0</td>\n",
       "      <td>0</td>\n",
       "      <td>0</td>\n",
       "      <td>2</td>\n",
       "    </tr>\n",
       "    <tr>\n",
       "      <th>1</th>\n",
       "      <td>11.525391</td>\n",
       "      <td>1.032261</td>\n",
       "      <td>1.414214</td>\n",
       "      <td>0.435919</td>\n",
       "      <td>10.344080</td>\n",
       "      <td>0</td>\n",
       "      <td>0</td>\n",
       "      <td>0</td>\n",
       "      <td>0</td>\n",
       "      <td>0</td>\n",
       "      <td>...</td>\n",
       "      <td>0</td>\n",
       "      <td>0</td>\n",
       "      <td>0</td>\n",
       "      <td>0</td>\n",
       "      <td>0</td>\n",
       "      <td>0</td>\n",
       "      <td>0</td>\n",
       "      <td>0</td>\n",
       "      <td>0</td>\n",
       "      <td>2</td>\n",
       "    </tr>\n",
       "    <tr>\n",
       "      <th>2</th>\n",
       "      <td>19.174507</td>\n",
       "      <td>0.558577</td>\n",
       "      <td>1.414214</td>\n",
       "      <td>0.422019</td>\n",
       "      <td>10.954451</td>\n",
       "      <td>1</td>\n",
       "      <td>0</td>\n",
       "      <td>0</td>\n",
       "      <td>0</td>\n",
       "      <td>0</td>\n",
       "      <td>...</td>\n",
       "      <td>0</td>\n",
       "      <td>0</td>\n",
       "      <td>0</td>\n",
       "      <td>0</td>\n",
       "      <td>0</td>\n",
       "      <td>0</td>\n",
       "      <td>0</td>\n",
       "      <td>0</td>\n",
       "      <td>0</td>\n",
       "      <td>2</td>\n",
       "    </tr>\n",
       "    <tr>\n",
       "      <th>3</th>\n",
       "      <td>25.960596</td>\n",
       "      <td>0.141896</td>\n",
       "      <td>1.378405</td>\n",
       "      <td>0.435919</td>\n",
       "      <td>10.344080</td>\n",
       "      <td>0</td>\n",
       "      <td>1</td>\n",
       "      <td>0</td>\n",
       "      <td>0</td>\n",
       "      <td>0</td>\n",
       "      <td>...</td>\n",
       "      <td>0</td>\n",
       "      <td>0</td>\n",
       "      <td>0</td>\n",
       "      <td>0</td>\n",
       "      <td>0</td>\n",
       "      <td>0</td>\n",
       "      <td>0</td>\n",
       "      <td>0</td>\n",
       "      <td>0</td>\n",
       "      <td>2</td>\n",
       "    </tr>\n",
       "    <tr>\n",
       "      <th>4</th>\n",
       "      <td>25.960596</td>\n",
       "      <td>0.461698</td>\n",
       "      <td>1.095445</td>\n",
       "      <td>0.413505</td>\n",
       "      <td>8.366600</td>\n",
       "      <td>0</td>\n",
       "      <td>0</td>\n",
       "      <td>0</td>\n",
       "      <td>0</td>\n",
       "      <td>0</td>\n",
       "      <td>...</td>\n",
       "      <td>0</td>\n",
       "      <td>0</td>\n",
       "      <td>0</td>\n",
       "      <td>0</td>\n",
       "      <td>0</td>\n",
       "      <td>0</td>\n",
       "      <td>0</td>\n",
       "      <td>0</td>\n",
       "      <td>0</td>\n",
       "      <td>2</td>\n",
       "    </tr>\n",
       "  </tbody>\n",
       "</table>\n",
       "<p>5 rows × 21 columns</p>\n",
       "</div>"
      ],
      "text/plain": [
       "      df_age    df_TSH     df_T3    df_T4U     df_FTI  sex_M  on thyroxine_t  \\\n",
       "0  17.635405  0.652931  1.581139  0.463594  10.440307      0               0   \n",
       "1  11.525391  1.032261  1.414214  0.435919  10.344080      0               0   \n",
       "2  19.174507  0.558577  1.414214  0.422019  10.954451      1               0   \n",
       "3  25.960596  0.141896  1.378405  0.435919  10.344080      0               1   \n",
       "4  25.960596  0.461698  1.095445  0.413505   8.366600      0               0   \n",
       "\n",
       "   query on thyroxine_t  on antithyroid medication_t  sick_t  ...  \\\n",
       "0                     0                            0       0  ...   \n",
       "1                     0                            0       0  ...   \n",
       "2                     0                            0       0  ...   \n",
       "3                     0                            0       0  ...   \n",
       "4                     0                            0       0  ...   \n",
       "\n",
       "   thyroid surgery_t  I131 treatment_t  query hypothyroid_t  \\\n",
       "0                  0                 0                    0   \n",
       "1                  0                 0                    0   \n",
       "2                  0                 0                    0   \n",
       "3                  0                 0                    0   \n",
       "4                  0                 0                    0   \n",
       "\n",
       "   query hyperthyroid_t  lithium_t  goitre_t  tumor_t  hypopituitary_t  \\\n",
       "0                     0          0         0        0                0   \n",
       "1                     0          0         0        0                0   \n",
       "2                     0          0         0        0                0   \n",
       "3                     0          0         0        0                0   \n",
       "4                     0          0         0        0                0   \n",
       "\n",
       "   psych_t  labels  \n",
       "0        0       2  \n",
       "1        0       2  \n",
       "2        0       2  \n",
       "3        0       2  \n",
       "4        0       2  \n",
       "\n",
       "[5 rows x 21 columns]"
      ]
     },
     "execution_count": 374,
     "metadata": {},
     "output_type": "execute_result"
    }
   ],
   "source": [
    "df_final.head()"
   ]
  },
  {
   "cell_type": "code",
   "execution_count": 375,
   "metadata": {},
   "outputs": [
    {
     "data": {
      "text/plain": [
       "Index(['df_age', 'df_TSH', 'df_T3', 'df_T4U', 'df_FTI', 'sex_M',\n",
       "       'on thyroxine_t', 'query on thyroxine_t', 'on antithyroid medication_t',\n",
       "       'sick_t', 'pregnant_t', 'thyroid surgery_t', 'I131 treatment_t',\n",
       "       'query hypothyroid_t', 'query hyperthyroid_t', 'lithium_t', 'goitre_t',\n",
       "       'tumor_t', 'hypopituitary_t', 'psych_t', 'labels'],\n",
       "      dtype='object')"
      ]
     },
     "execution_count": 375,
     "metadata": {},
     "output_type": "execute_result"
    }
   ],
   "source": [
    "df_final.columns"
   ]
  },
  {
   "cell_type": "code",
   "execution_count": 91,
   "metadata": {},
   "outputs": [],
   "source": [
    "# df_final.rename(columns = {'yeojohn_age':'Age', 'yeojohn_TSH':'TSH', 'sqrroot_T3':'T3',\\\n",
    "#                            'yeojohn_T4U':'T4U', 'sqrroot_FTI':'FTI','sex_M':'Sex',\\\n",
    "#                            'on thyroxine_t':'On_thyroxine', 'query on thyroxine_t':'Query_on_thyroxine',\\\n",
    "#                            'on antithyroid medication_t':'On_antithyroid_medication', 'sick_t':'Sick',\\\n",
    "#                            'pregnant_t':'Pregnant', 'thyroid surgery_t':'Thyroid_surgery',\\\n",
    "#                            'I131 treatment_t':'I131_treatment', 'query hypothyroid_t':'Query_hypothyroid',\\\n",
    "#                            'query hyperthyroid_t':'Query_hyperthyroid','lithium_t':'Lithium',\\\n",
    "#                            'goitre_t':'Goitre', 'tumor_t':'Tumor',\\\n",
    "#                            'hypopituitary_t':'Hypopituitary','psych_t':'Psychological_symptoms'}, inplace = True)\n"
   ]
  },
  {
   "cell_type": "code",
   "execution_count": 92,
   "metadata": {},
   "outputs": [],
   "source": [
    "# df_final.head()"
   ]
  },
  {
   "cell_type": "code",
   "execution_count": 376,
   "metadata": {},
   "outputs": [
    {
     "data": {
      "text/plain": [
       "2    2503\n",
       "1     220\n",
       "0      77\n",
       "Name: labels, dtype: int64"
      ]
     },
     "execution_count": 376,
     "metadata": {},
     "output_type": "execute_result"
    }
   ],
   "source": [
    "# checking the total value of each target class\n",
    "# negative - 2\n",
    "# hyporthyroid - 1\n",
    "# hyperthyroid - 0\n",
    "\n",
    "df_final.labels.value_counts()"
   ]
  },
  {
   "cell_type": "code",
   "execution_count": 377,
   "metadata": {},
   "outputs": [],
   "source": [
    "# list(label_encoder.inverse_transform([2, 1, 0]))\n",
    "\n",
    "# ['negative', 'hypothyroid', 'hyperthyroid']\n"
   ]
  },
  {
   "cell_type": "markdown",
   "metadata": {},
   "source": [
    "##### Multi-collinearity END"
   ]
  },
  {
   "cell_type": "code",
   "execution_count": null,
   "metadata": {},
   "outputs": [],
   "source": []
  },
  {
   "cell_type": "code",
   "execution_count": null,
   "metadata": {},
   "outputs": [],
   "source": []
  },
  {
   "cell_type": "markdown",
   "metadata": {},
   "source": [
    "## ML Model Preparation"
   ]
  },
  {
   "cell_type": "code",
   "execution_count": 378,
   "metadata": {},
   "outputs": [],
   "source": [
    "# first step is to seperate the independent and dependent features\n",
    "\n",
    "# independent features i.e. all columns expect 'labels' are stored in 'X'\n",
    "# dependent features i.e 'labels' column is stored in 'y'\n",
    "\n",
    "X = df_final.drop('labels', axis = 1)\n",
    "y = df_final['labels']\n"
   ]
  },
  {
   "cell_type": "markdown",
   "metadata": {},
   "source": [
    "Now, we need to split our complete dataset into 'training' and 'testing'"
   ]
  },
  {
   "cell_type": "code",
   "execution_count": 379,
   "metadata": {},
   "outputs": [],
   "source": [
    "# spliting the dataset into training and testing\n",
    "\n",
    "X_train, X_test, y_train, y_test = train_test_split(X, y, test_size = 0.30, random_state = 109) \n",
    "\n",
    "# 75% for training and 25% for testing (this is not a hard rule)\n"
   ]
  },
  {
   "cell_type": "markdown",
   "metadata": {},
   "source": [
    "Now before proceedind further we need to check whether our Train dataset is balanced or not.\n",
    "\n",
    "If not balanced, then we should balance it first."
   ]
  },
  {
   "cell_type": "code",
   "execution_count": 380,
   "metadata": {},
   "outputs": [
    {
     "data": {
      "image/png": "[encoded data removed]",
      "text/plain": [
       "<Figure size 432x288 with 1 Axes>"
      ]
     },
     "metadata": {},
     "output_type": "display_data"
    }
   ],
   "source": [
    "# Sets the figure size temporarily but has to be set again the next plot\n",
    "\n",
    "plt.figure(figsize = (6,4))\n",
    "\n",
    "# checking the  label class distribution\n",
    "\n",
    "sns.countplot(y_train)\n",
    "\n",
    "plt.show()\n"
   ]
  },
  {
   "cell_type": "markdown",
   "metadata": {},
   "source": [
    "From the above plot, we can our dataset is highly imbalanced.\n",
    "\n",
    "Let's balance it first."
   ]
  },
  {
   "cell_type": "markdown",
   "metadata": {},
   "source": [
    "NOTE: We should do the train_test_split first and then sampling on TRAIN data only (we already did)."
   ]
  },
  {
   "cell_type": "code",
   "execution_count": 381,
   "metadata": {},
   "outputs": [],
   "source": [
    "# there are multiple sampling_startegy, select according to use-case\n",
    "\n",
    "smote = SMOTE(sampling_strategy = 'auto')\n",
    "\n",
    "X_train_sampled, y_train_sampled = smote.fit_resample(X_train, y_train)\n"
   ]
  },
  {
   "cell_type": "code",
   "execution_count": 382,
   "metadata": {},
   "outputs": [
    {
     "data": {
      "image/png": "[encoded data removed]",
      "text/plain": [
       "<Figure size 432x288 with 1 Axes>"
      ]
     },
     "metadata": {},
     "output_type": "display_data"
    }
   ],
   "source": [
    "# Sets the figure size temporarily but has to be set again the next plot\n",
    "\n",
    "plt.figure(figsize = (6,4))\n",
    "\n",
    "# checking the sampled label class distribution\n",
    "\n",
    "sns.countplot(y_train_sampled)\n",
    "\n",
    "plt.show()\n"
   ]
  },
  {
   "cell_type": "markdown",
   "metadata": {},
   "source": [
    "#### Observation:\n",
    "- Now the dataset is balanced. Hurray :)"
   ]
  },
  {
   "cell_type": "markdown",
   "metadata": {},
   "source": [
    "### Everything looks good, now we can do apply the different machine learning models"
   ]
  },
  {
   "cell_type": "markdown",
   "metadata": {},
   "source": [
    "#### Algorithms to be check:\n",
    "- Decision Tree\n",
    "- SVM\n",
    "- Random Forest\n",
    "- Logistic regression\n",
    "- KNN\n",
    "- Naive Baiyes\n",
    "\n"
   ]
  },
  {
   "cell_type": "code",
   "execution_count": 383,
   "metadata": {},
   "outputs": [
    {
     "data": {
      "text/plain": [
       "(1960, 20)"
      ]
     },
     "execution_count": 383,
     "metadata": {},
     "output_type": "execute_result"
    }
   ],
   "source": [
    "X_train.shape"
   ]
  },
  {
   "cell_type": "code",
   "execution_count": 384,
   "metadata": {},
   "outputs": [
    {
     "data": {
      "text/plain": [
       "(1960,)"
      ]
     },
     "execution_count": 384,
     "metadata": {},
     "output_type": "execute_result"
    }
   ],
   "source": [
    "y_train.shape"
   ]
  },
  {
   "cell_type": "code",
   "execution_count": 385,
   "metadata": {},
   "outputs": [
    {
     "data": {
      "text/plain": [
       "(5271, 20)"
      ]
     },
     "execution_count": 385,
     "metadata": {},
     "output_type": "execute_result"
    }
   ],
   "source": [
    "X_train_sampled.shape"
   ]
  },
  {
   "cell_type": "code",
   "execution_count": 386,
   "metadata": {},
   "outputs": [
    {
     "data": {
      "text/plain": [
       "(5271,)"
      ]
     },
     "execution_count": 386,
     "metadata": {},
     "output_type": "execute_result"
    }
   ],
   "source": [
    "y_train_sampled.shape"
   ]
  },
  {
   "cell_type": "code",
   "execution_count": 387,
   "metadata": {},
   "outputs": [
    {
     "data": {
      "text/plain": [
       "(840, 20)"
      ]
     },
     "execution_count": 387,
     "metadata": {},
     "output_type": "execute_result"
    }
   ],
   "source": [
    "X_test.shape"
   ]
  },
  {
   "cell_type": "code",
   "execution_count": 388,
   "metadata": {},
   "outputs": [
    {
     "data": {
      "text/plain": [
       "(840,)"
      ]
     },
     "execution_count": 388,
     "metadata": {},
     "output_type": "execute_result"
    }
   ],
   "source": [
    "y_test.shape"
   ]
  },
  {
   "cell_type": "markdown",
   "metadata": {},
   "source": [
    "#### Fitting the model on Train Data and checking the performance"
   ]
  },
  {
   "cell_type": "code",
   "execution_count": 389,
   "metadata": {},
   "outputs": [],
   "source": [
    "# importing the important libraries\n",
    "from sklearn.ensemble import RandomForestClassifier\n",
    "from sklearn.datasets import make_classification\n",
    "\n",
    "# create an instance of a Random Forest classifier\n",
    "random_forest_model = RandomForestClassifier(n_estimators = 10, criterion = 'entropy', random_state = 42)\n",
    "\n",
    "# training the Random Forest model on the sampled train dataset\n",
    "random_forest_model.fit(np.array(X_train_sampled), y_train_sampled)\n",
    "\n",
    "# pedicting the labels on the test set\n",
    "y_predicted_randomforest = random_forest_model.predict(np.array(X_test))\n",
    "\n"
   ]
  },
  {
   "cell_type": "code",
   "execution_count": 390,
   "metadata": {},
   "outputs": [
    {
     "name": "stdout",
     "output_type": "stream",
     "text": [
      "Accuracy Score on train data:  0.99867197875166\n",
      "Accuracy Score on test data:  0.9654761904761905\n"
     ]
    }
   ],
   "source": [
    "# import scikit-learn metrics module for accuracy calculation\n",
    "from sklearn import metrics\n",
    "\n",
    "# calculating the accuracy on train data\n",
    "print('Accuracy Score on train data: ', metrics.accuracy_score(y_true = y_train_sampled,\\\n",
    "                                                               y_pred = random_forest_model.predict(X_train_sampled)))\n",
    "\n",
    "# calculating the accuracy on test data\n",
    "print('Accuracy Score on test data: ', metrics.accuracy_score(y_true = y_test, y_pred = y_predicted_randomforest))\n",
    "\n"
   ]
  },
  {
   "cell_type": "code",
   "execution_count": 391,
   "metadata": {},
   "outputs": [
    {
     "name": "stdout",
     "output_type": "stream",
     "text": [
      "[[ 23   0   3]\n",
      " [  0  68   0]\n",
      " [ 19   7 720]]\n",
      "0.9654761904761905\n",
      "              precision    recall  f1-score   support\n",
      "\n",
      "           0       0.55      0.88      0.68        26\n",
      "           1       0.91      1.00      0.95        68\n",
      "           2       1.00      0.97      0.98       746\n",
      "\n",
      "    accuracy                           0.97       840\n",
      "   macro avg       0.82      0.95      0.87       840\n",
      "weighted avg       0.97      0.97      0.97       840\n",
      "\n"
     ]
    }
   ],
   "source": [
    "print(confusion_matrix(y_test, y_predicted_randomforest))\n",
    "print(accuracy_score(y_test, y_predicted_randomforest))\n",
    "print(classification_report(y_test, y_predicted_randomforest))"
   ]
  },
  {
   "cell_type": "markdown",
   "metadata": {},
   "source": [
    "#### Observations"
   ]
  },
  {
   "cell_type": "markdown",
   "metadata": {},
   "source": [
    "After hyperparatmer tuning in Random Forest, we are getting good accuracy **(99.86%)**, Precision, Recall and F-score on Train Data.\n",
    "\n",
    "Also, on Test data, we are getting maximum accuracy: **96.42%**."
   ]
  },
  {
   "cell_type": "code",
   "execution_count": 392,
   "metadata": {},
   "outputs": [],
   "source": [
    "# model saving\n",
    "\n",
    "import pickle\n",
    "\n",
    "pickle.dump(random_forest_model, open(\"random_forest_model_new.pkl\",\"wb\"))\n"
   ]
  },
  {
   "cell_type": "code",
   "execution_count": 393,
   "metadata": {},
   "outputs": [
    {
     "data": {
      "text/plain": [
       "df_age                           23.7918\n",
       "sex                                    M\n",
       "on thyroxine                           f\n",
       "query on thyroxine                     f\n",
       "on antithyroid medication              f\n",
       "sick                                   t\n",
       "pregnant                               f\n",
       "thyroid surgery                        f\n",
       "I131 treatment                         f\n",
       "query hypothyroid                      t\n",
       "query hyperthyroid                     f\n",
       "lithium                                f\n",
       "goitre                                 f\n",
       "tumor                                  f\n",
       "hypopituitary                          f\n",
       "psych                                  t\n",
       "df_TSH                            1.3111\n",
       "df_T3                           0.894427\n",
       "df_TT4                           9.11043\n",
       "df_T4U                          0.399872\n",
       "df_FTI                           10.1489\n",
       "labels                       hypothyroid\n",
       "Name: 850, dtype: object"
      ]
     },
     "execution_count": 393,
     "metadata": {},
     "output_type": "execute_result"
    }
   ],
   "source": [
    "df_filled.iloc[850]"
   ]
  },
  {
   "cell_type": "code",
   "execution_count": 402,
   "metadata": {},
   "outputs": [
    {
     "data": {
      "text/plain": [
       "138     2\n",
       "1139    2\n",
       "2503    2\n",
       "1627    2\n",
       "1657    2\n",
       "850     1\n",
       "1854    2\n",
       "1890    2\n",
       "528     2\n",
       "1806    2\n",
       "Name: labels, dtype: int64"
      ]
     },
     "execution_count": 402,
     "metadata": {},
     "output_type": "execute_result"
    }
   ],
   "source": [
    "y_test.head(10)"
   ]
  },
  {
   "cell_type": "code",
   "execution_count": 403,
   "metadata": {},
   "outputs": [
    {
     "data": {
      "text/html": [
       "<div>\n",
       "<style scoped>\n",
       "    .dataframe tbody tr th:only-of-type {\n",
       "        vertical-align: middle;\n",
       "    }\n",
       "\n",
       "    .dataframe tbody tr th {\n",
       "        vertical-align: top;\n",
       "    }\n",
       "\n",
       "    .dataframe thead th {\n",
       "        text-align: right;\n",
       "    }\n",
       "</style>\n",
       "<table border=\"1\" class=\"dataframe\">\n",
       "  <thead>\n",
       "    <tr style=\"text-align: right;\">\n",
       "      <th></th>\n",
       "      <th>df_age</th>\n",
       "      <th>df_TSH</th>\n",
       "      <th>df_T3</th>\n",
       "      <th>df_T4U</th>\n",
       "      <th>df_FTI</th>\n",
       "      <th>sex_M</th>\n",
       "      <th>on thyroxine_t</th>\n",
       "      <th>query on thyroxine_t</th>\n",
       "      <th>on antithyroid medication_t</th>\n",
       "      <th>sick_t</th>\n",
       "      <th>pregnant_t</th>\n",
       "      <th>thyroid surgery_t</th>\n",
       "      <th>I131 treatment_t</th>\n",
       "      <th>query hypothyroid_t</th>\n",
       "      <th>query hyperthyroid_t</th>\n",
       "      <th>lithium_t</th>\n",
       "      <th>goitre_t</th>\n",
       "      <th>tumor_t</th>\n",
       "      <th>hypopituitary_t</th>\n",
       "      <th>psych_t</th>\n",
       "    </tr>\n",
       "  </thead>\n",
       "  <tbody>\n",
       "    <tr>\n",
       "      <th>138</th>\n",
       "      <td>4.633145</td>\n",
       "      <td>0.545042</td>\n",
       "      <td>1.414214</td>\n",
       "      <td>0.406823</td>\n",
       "      <td>10.488088</td>\n",
       "      <td>1</td>\n",
       "      <td>0</td>\n",
       "      <td>0</td>\n",
       "      <td>0</td>\n",
       "      <td>0</td>\n",
       "      <td>0</td>\n",
       "      <td>0</td>\n",
       "      <td>0</td>\n",
       "      <td>0</td>\n",
       "      <td>0</td>\n",
       "      <td>0</td>\n",
       "      <td>0</td>\n",
       "      <td>0</td>\n",
       "      <td>0</td>\n",
       "      <td>0</td>\n",
       "    </tr>\n",
       "    <tr>\n",
       "      <th>1139</th>\n",
       "      <td>20.073481</td>\n",
       "      <td>0.014821</td>\n",
       "      <td>1.414214</td>\n",
       "      <td>0.404537</td>\n",
       "      <td>12.328828</td>\n",
       "      <td>1</td>\n",
       "      <td>0</td>\n",
       "      <td>0</td>\n",
       "      <td>0</td>\n",
       "      <td>0</td>\n",
       "      <td>0</td>\n",
       "      <td>1</td>\n",
       "      <td>0</td>\n",
       "      <td>0</td>\n",
       "      <td>0</td>\n",
       "      <td>0</td>\n",
       "      <td>0</td>\n",
       "      <td>0</td>\n",
       "      <td>0</td>\n",
       "      <td>0</td>\n",
       "    </tr>\n",
       "    <tr>\n",
       "      <th>2503</th>\n",
       "      <td>28.054661</td>\n",
       "      <td>0.408595</td>\n",
       "      <td>1.549193</td>\n",
       "      <td>0.415675</td>\n",
       "      <td>11.618950</td>\n",
       "      <td>0</td>\n",
       "      <td>0</td>\n",
       "      <td>0</td>\n",
       "      <td>0</td>\n",
       "      <td>0</td>\n",
       "      <td>0</td>\n",
       "      <td>0</td>\n",
       "      <td>0</td>\n",
       "      <td>0</td>\n",
       "      <td>0</td>\n",
       "      <td>0</td>\n",
       "      <td>0</td>\n",
       "      <td>0</td>\n",
       "      <td>0</td>\n",
       "      <td>0</td>\n",
       "    </tr>\n",
       "    <tr>\n",
       "      <th>1627</th>\n",
       "      <td>17.947588</td>\n",
       "      <td>0.453268</td>\n",
       "      <td>1.224745</td>\n",
       "      <td>0.463594</td>\n",
       "      <td>8.888194</td>\n",
       "      <td>0</td>\n",
       "      <td>0</td>\n",
       "      <td>0</td>\n",
       "      <td>0</td>\n",
       "      <td>0</td>\n",
       "      <td>0</td>\n",
       "      <td>0</td>\n",
       "      <td>0</td>\n",
       "      <td>0</td>\n",
       "      <td>0</td>\n",
       "      <td>0</td>\n",
       "      <td>0</td>\n",
       "      <td>0</td>\n",
       "      <td>0</td>\n",
       "      <td>0</td>\n",
       "    </tr>\n",
       "    <tr>\n",
       "      <th>1657</th>\n",
       "      <td>20.663494</td>\n",
       "      <td>0.764417</td>\n",
       "      <td>1.378405</td>\n",
       "      <td>0.439674</td>\n",
       "      <td>9.848858</td>\n",
       "      <td>0</td>\n",
       "      <td>0</td>\n",
       "      <td>0</td>\n",
       "      <td>0</td>\n",
       "      <td>0</td>\n",
       "      <td>0</td>\n",
       "      <td>0</td>\n",
       "      <td>0</td>\n",
       "      <td>0</td>\n",
       "      <td>0</td>\n",
       "      <td>0</td>\n",
       "      <td>0</td>\n",
       "      <td>0</td>\n",
       "      <td>0</td>\n",
       "      <td>0</td>\n",
       "    </tr>\n",
       "    <tr>\n",
       "      <th>850</th>\n",
       "      <td>23.791788</td>\n",
       "      <td>1.311103</td>\n",
       "      <td>0.894427</td>\n",
       "      <td>0.399872</td>\n",
       "      <td>10.148892</td>\n",
       "      <td>1</td>\n",
       "      <td>0</td>\n",
       "      <td>0</td>\n",
       "      <td>0</td>\n",
       "      <td>1</td>\n",
       "      <td>0</td>\n",
       "      <td>0</td>\n",
       "      <td>0</td>\n",
       "      <td>1</td>\n",
       "      <td>0</td>\n",
       "      <td>0</td>\n",
       "      <td>0</td>\n",
       "      <td>0</td>\n",
       "      <td>0</td>\n",
       "      <td>1</td>\n",
       "    </tr>\n",
       "    <tr>\n",
       "      <th>1854</th>\n",
       "      <td>11.525391</td>\n",
       "      <td>0.862080</td>\n",
       "      <td>1.140175</td>\n",
       "      <td>0.419931</td>\n",
       "      <td>8.944272</td>\n",
       "      <td>0</td>\n",
       "      <td>0</td>\n",
       "      <td>0</td>\n",
       "      <td>0</td>\n",
       "      <td>0</td>\n",
       "      <td>0</td>\n",
       "      <td>0</td>\n",
       "      <td>0</td>\n",
       "      <td>0</td>\n",
       "      <td>0</td>\n",
       "      <td>0</td>\n",
       "      <td>0</td>\n",
       "      <td>0</td>\n",
       "      <td>0</td>\n",
       "      <td>0</td>\n",
       "    </tr>\n",
       "    <tr>\n",
       "      <th>1890</th>\n",
       "      <td>14.372279</td>\n",
       "      <td>0.678199</td>\n",
       "      <td>1.414214</td>\n",
       "      <td>0.435919</td>\n",
       "      <td>10.344080</td>\n",
       "      <td>0</td>\n",
       "      <td>0</td>\n",
       "      <td>0</td>\n",
       "      <td>0</td>\n",
       "      <td>0</td>\n",
       "      <td>0</td>\n",
       "      <td>0</td>\n",
       "      <td>0</td>\n",
       "      <td>0</td>\n",
       "      <td>0</td>\n",
       "      <td>0</td>\n",
       "      <td>0</td>\n",
       "      <td>0</td>\n",
       "      <td>0</td>\n",
       "      <td>0</td>\n",
       "    </tr>\n",
       "    <tr>\n",
       "      <th>528</th>\n",
       "      <td>23.791788</td>\n",
       "      <td>0.744802</td>\n",
       "      <td>1.414214</td>\n",
       "      <td>0.411307</td>\n",
       "      <td>10.583005</td>\n",
       "      <td>0</td>\n",
       "      <td>0</td>\n",
       "      <td>0</td>\n",
       "      <td>0</td>\n",
       "      <td>0</td>\n",
       "      <td>0</td>\n",
       "      <td>0</td>\n",
       "      <td>0</td>\n",
       "      <td>0</td>\n",
       "      <td>0</td>\n",
       "      <td>0</td>\n",
       "      <td>0</td>\n",
       "      <td>0</td>\n",
       "      <td>0</td>\n",
       "      <td>0</td>\n",
       "    </tr>\n",
       "    <tr>\n",
       "      <th>1806</th>\n",
       "      <td>22.392822</td>\n",
       "      <td>0.678199</td>\n",
       "      <td>1.414214</td>\n",
       "      <td>0.435919</td>\n",
       "      <td>10.344080</td>\n",
       "      <td>1</td>\n",
       "      <td>0</td>\n",
       "      <td>0</td>\n",
       "      <td>0</td>\n",
       "      <td>0</td>\n",
       "      <td>0</td>\n",
       "      <td>0</td>\n",
       "      <td>0</td>\n",
       "      <td>0</td>\n",
       "      <td>0</td>\n",
       "      <td>0</td>\n",
       "      <td>0</td>\n",
       "      <td>0</td>\n",
       "      <td>0</td>\n",
       "      <td>0</td>\n",
       "    </tr>\n",
       "  </tbody>\n",
       "</table>\n",
       "</div>"
      ],
      "text/plain": [
       "         df_age    df_TSH     df_T3    df_T4U     df_FTI  sex_M  \\\n",
       "138    4.633145  0.545042  1.414214  0.406823  10.488088      1   \n",
       "1139  20.073481  0.014821  1.414214  0.404537  12.328828      1   \n",
       "2503  28.054661  0.408595  1.549193  0.415675  11.618950      0   \n",
       "1627  17.947588  0.453268  1.224745  0.463594   8.888194      0   \n",
       "1657  20.663494  0.764417  1.378405  0.439674   9.848858      0   \n",
       "850   23.791788  1.311103  0.894427  0.399872  10.148892      1   \n",
       "1854  11.525391  0.862080  1.140175  0.419931   8.944272      0   \n",
       "1890  14.372279  0.678199  1.414214  0.435919  10.344080      0   \n",
       "528   23.791788  0.744802  1.414214  0.411307  10.583005      0   \n",
       "1806  22.392822  0.678199  1.414214  0.435919  10.344080      1   \n",
       "\n",
       "      on thyroxine_t  query on thyroxine_t  on antithyroid medication_t  \\\n",
       "138                0                     0                            0   \n",
       "1139               0                     0                            0   \n",
       "2503               0                     0                            0   \n",
       "1627               0                     0                            0   \n",
       "1657               0                     0                            0   \n",
       "850                0                     0                            0   \n",
       "1854               0                     0                            0   \n",
       "1890               0                     0                            0   \n",
       "528                0                     0                            0   \n",
       "1806               0                     0                            0   \n",
       "\n",
       "      sick_t  pregnant_t  thyroid surgery_t  I131 treatment_t  \\\n",
       "138        0           0                  0                 0   \n",
       "1139       0           0                  1                 0   \n",
       "2503       0           0                  0                 0   \n",
       "1627       0           0                  0                 0   \n",
       "1657       0           0                  0                 0   \n",
       "850        1           0                  0                 0   \n",
       "1854       0           0                  0                 0   \n",
       "1890       0           0                  0                 0   \n",
       "528        0           0                  0                 0   \n",
       "1806       0           0                  0                 0   \n",
       "\n",
       "      query hypothyroid_t  query hyperthyroid_t  lithium_t  goitre_t  tumor_t  \\\n",
       "138                     0                     0          0         0        0   \n",
       "1139                    0                     0          0         0        0   \n",
       "2503                    0                     0          0         0        0   \n",
       "1627                    0                     0          0         0        0   \n",
       "1657                    0                     0          0         0        0   \n",
       "850                     1                     0          0         0        0   \n",
       "1854                    0                     0          0         0        0   \n",
       "1890                    0                     0          0         0        0   \n",
       "528                     0                     0          0         0        0   \n",
       "1806                    0                     0          0         0        0   \n",
       "\n",
       "      hypopituitary_t  psych_t  \n",
       "138                 0        0  \n",
       "1139                0        0  \n",
       "2503                0        0  \n",
       "1627                0        0  \n",
       "1657                0        0  \n",
       "850                 0        1  \n",
       "1854                0        0  \n",
       "1890                0        0  \n",
       "528                 0        0  \n",
       "1806                0        0  "
      ]
     },
     "execution_count": 403,
     "metadata": {},
     "output_type": "execute_result"
    }
   ],
   "source": [
    "X_test.head(10)"
   ]
  },
  {
   "cell_type": "code",
   "execution_count": 405,
   "metadata": {},
   "outputs": [
    {
     "data": {
      "text/plain": [
       "df_age                         23.791788\n",
       "df_TSH                          1.311103\n",
       "df_T3                           0.894427\n",
       "df_T4U                          0.399872\n",
       "df_FTI                         10.148892\n",
       "sex_M                           1.000000\n",
       "on thyroxine_t                  0.000000\n",
       "query on thyroxine_t            0.000000\n",
       "on antithyroid medication_t     0.000000\n",
       "sick_t                          1.000000\n",
       "pregnant_t                      0.000000\n",
       "thyroid surgery_t               0.000000\n",
       "I131 treatment_t                0.000000\n",
       "query hypothyroid_t             1.000000\n",
       "query hyperthyroid_t            0.000000\n",
       "lithium_t                       0.000000\n",
       "goitre_t                        0.000000\n",
       "tumor_t                         0.000000\n",
       "hypopituitary_t                 0.000000\n",
       "psych_t                         1.000000\n",
       "Name: 850, dtype: float64"
      ]
     },
     "execution_count": 405,
     "metadata": {},
     "output_type": "execute_result"
    }
   ],
   "source": [
    "X_test.iloc[5]"
   ]
  },
  {
   "cell_type": "code",
   "execution_count": 406,
   "metadata": {},
   "outputs": [
    {
     "data": {
      "text/plain": [
       "age                                   62\n",
       "sex                                    M\n",
       "on thyroxine                           f\n",
       "query on thyroxine                     f\n",
       "on antithyroid medication              f\n",
       "sick                                   t\n",
       "pregnant                               f\n",
       "thyroid surgery                        f\n",
       "I131 treatment                         f\n",
       "query hypothyroid                      t\n",
       "query hyperthyroid                     f\n",
       "lithium                                f\n",
       "goitre                                 f\n",
       "tumor                                  f\n",
       "hypopituitary                          f\n",
       "psych                                  t\n",
       "TSH                                   13\n",
       "T3                                   0.8\n",
       "TT4                                   83\n",
       "T4U                                 0.81\n",
       "FTI                                  103\n",
       "labels                       hypothyroid\n",
       "Name: 850, dtype: object"
      ]
     },
     "execution_count": 406,
     "metadata": {},
     "output_type": "execute_result"
    }
   ],
   "source": [
    "df.iloc[850]"
   ]
  },
  {
   "cell_type": "code",
   "execution_count": null,
   "metadata": {},
   "outputs": [],
   "source": [
    "yj_age, lam = yeojohnson(df_filled['age'])\n",
    "df_age = pd.DataFrame(yj_age, columns = ['age'])\n",
    "\n",
    "sqrrt_T3 = df_filled['T3']**(1/2)\n",
    "df_T3 = pd.DataFrame(sqrrt_T3, columns = ['T3'])"
   ]
  },
  {
   "cell_type": "code",
   "execution_count": 412,
   "metadata": {},
   "outputs": [],
   "source": [
    "yj, lam  = yeojohnson([62])"
   ]
  },
  {
   "cell_type": "code",
   "execution_count": 413,
   "metadata": {},
   "outputs": [
    {
     "data": {
      "text/plain": [
       "array([2.07140298e+14])"
      ]
     },
     "execution_count": 413,
     "metadata": {},
     "output_type": "execute_result"
    }
   ],
   "source": [
    "yj"
   ]
  },
  {
   "cell_type": "code",
   "execution_count": null,
   "metadata": {},
   "outputs": [],
   "source": []
  },
  {
   "cell_type": "code",
   "execution_count": null,
   "metadata": {},
   "outputs": [],
   "source": []
  },
  {
   "cell_type": "code",
   "execution_count": null,
   "metadata": {},
   "outputs": [],
   "source": []
  },
  {
   "cell_type": "code",
   "execution_count": null,
   "metadata": {},
   "outputs": [],
   "source": []
  },
  {
   "cell_type": "code",
   "execution_count": null,
   "metadata": {},
   "outputs": [],
   "source": []
  },
  {
   "cell_type": "code",
   "execution_count": null,
   "metadata": {},
   "outputs": [],
   "source": []
  },
  {
   "cell_type": "code",
   "execution_count": null,
   "metadata": {},
   "outputs": [],
   "source": []
  },
  {
   "cell_type": "code",
   "execution_count": null,
   "metadata": {},
   "outputs": [],
   "source": []
  },
  {
   "cell_type": "code",
   "execution_count": null,
   "metadata": {},
   "outputs": [],
   "source": []
  },
  {
   "cell_type": "markdown",
   "metadata": {},
   "source": [
    "### END"
   ]
  },
  {
   "cell_type": "code",
   "execution_count": null,
   "metadata": {},
   "outputs": [],
   "source": []
  },
  {
   "cell_type": "code",
   "execution_count": 178,
   "metadata": {},
   "outputs": [
    {
     "data": {
      "text/plain": [
       "array(['hypothyroid'], dtype=object)"
      ]
     },
     "execution_count": 178,
     "metadata": {},
     "output_type": "execute_result"
    }
   ],
   "source": [
    "label_encoder.inverse_transform([1])\n"
   ]
  },
  {
   "cell_type": "code",
   "execution_count": 129,
   "metadata": {},
   "outputs": [],
   "source": [
    "import pandas as pd\n",
    "\n",
    "myfile = pd.read_pickle(r'random_forest_model.pkl')"
   ]
  },
  {
   "cell_type": "code",
   "execution_count": 130,
   "metadata": {},
   "outputs": [
    {
     "data": {
      "text/plain": [
       "RandomForestClassifier(criterion='entropy', n_estimators=10, random_state=42)"
      ]
     },
     "execution_count": 130,
     "metadata": {},
     "output_type": "execute_result"
    }
   ],
   "source": [
    "myfile"
   ]
  },
  {
   "cell_type": "code",
   "execution_count": 126,
   "metadata": {},
   "outputs": [],
   "source": [
    "import joblib"
   ]
  },
  {
   "cell_type": "code",
   "execution_count": 127,
   "metadata": {},
   "outputs": [],
   "source": [
    "model = joblib.load('random_forest_model.pkl')\n"
   ]
  },
  {
   "cell_type": "code",
   "execution_count": 128,
   "metadata": {},
   "outputs": [
    {
     "data": {
      "text/plain": [
       "RandomForestClassifier(criterion='entropy', n_estimators=10, random_state=42)"
      ]
     },
     "execution_count": 128,
     "metadata": {},
     "output_type": "execute_result"
    }
   ],
   "source": [
    "model"
   ]
  },
  {
   "cell_type": "code",
   "execution_count": null,
   "metadata": {},
   "outputs": [],
   "source": []
  },
  {
   "cell_type": "code",
   "execution_count": null,
   "metadata": {},
   "outputs": [],
   "source": []
  }
 ],
 "metadata": {
  "kernelspec": {
   "display_name": "Python 3",
   "language": "python",
   "name": "python3"
  },
  "language_info": {
   "codemirror_mode": {
    "name": "ipython",
    "version": 3
   },
   "file_extension": ".py",
   "mimetype": "text/x-python",
   "name": "python",
   "nbconvert_exporter": "python",
   "pygments_lexer": "ipython3",
   "version": "3.8.5"
  }
 },
 "nbformat": 4,
 "nbformat_minor": 4
}
