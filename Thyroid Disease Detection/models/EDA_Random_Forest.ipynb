{
 "cells": [
  {
   "attachments": {},
   "cell_type": "markdown",
   "metadata": {},
   "source": [
    "## Thyroid Disease Detection End to End with Deployment\n"
   ]
  },
  {
   "attachments": {},
   "cell_type": "markdown",
   "metadata": {},
   "source": [
    "#### Importing important libraries"
   ]
  },
  {
   "cell_type": "code",
   "execution_count": 1,
   "metadata": {},
   "outputs": [],
   "source": [
    "import warnings\n",
    "warnings.filterwarnings('ignore')"
   ]
  },
  {
   "cell_type": "code",
   "execution_count": 2,
   "metadata": {},
   "outputs": [],
   "source": [
    "import pandas as pd\n",
    "import numpy as np\n",
    "import matplotlib.pyplot as plt\n",
    "import seaborn as sns\n",
    "sns.set()\n",
    "\n",
    "from sklearn.utils import resample\n",
    "from imblearn.over_sampling import SMOTENC,RandomOverSampler,KMeansSMOTE\n",
    "from sklearn.preprocessing import LabelEncoder\n",
    "from imblearn.over_sampling import RandomOverSampler\n",
    "\n",
    "from scipy.stats import skew\n",
    "\n",
    "\n",
    "import pickle\n",
    "\n",
    "from statsmodels.stats.outliers_influence import variance_inflation_factor\n",
    "import statsmodels.api as sm\n",
    "from statsmodels.api import add_constant\n",
    "\n",
    "\n",
    "# import the train_test_split library\n",
    "from sklearn.model_selection import train_test_split\n",
    "\n",
    "# importing the SMOTE library\n",
    "from imblearn.over_sampling import SMOTE\n",
    "\n",
    "# ML classifiers\n",
    "from sklearn.ensemble import RandomForestClassifier\n",
    "from sklearn import metrics\n",
    "\n",
    "\n",
    "# performance parameters\n",
    "from sklearn.metrics import confusion_matrix, accuracy_score, classification_report\n"
   ]
  },
  {
   "attachments": {},
   "cell_type": "markdown",
   "metadata": {},
   "source": [
    "#### Reading datasets: allhypo and allhyper"
   ]
  },
  {
   "cell_type": "code",
   "execution_count": 3,
   "metadata": {},
   "outputs": [],
   "source": [
    "df_hypo = pd.read_csv('allhypo.data', header = None, index_col = False)\n",
    "df_hyper = pd.read_csv('allhyper.data', header = None, index_col = False)\n"
   ]
  },
  {
   "cell_type": "code",
   "execution_count": 4,
   "metadata": {},
   "outputs": [],
   "source": [
    "columns = [\"age\",\"sex\",\"on thyroxine\",\"query on thyroxine\",\"on antithyroid medication\",\"sick\",\"pregnant\",\\\n",
    "           \"thyroid surgery\",\"I131 treatment\",\"query hypothyroid\",\"query hyperthyroid\",\"lithium\",\"goitre\",\\\n",
    "           \"tumor\",\"hypopituitary\",\"psych\",\"TSH measured\",\"TSH\",\"T3 measured\",\"T3\",\"TT4 measured\",\"TT4\",\\\n",
    "           \"T4U measured\",\"T4U\",\"FTI measured\",\"FTI\",\"TBG measured\",\"TBG\",\"referral source\",\"labels\"]\n",
    "\n",
    "\n",
    "df_hypo = pd.read_csv('allhypo.data', names = columns, na_values = ['?'], index_col = False)\n",
    "df_hyper = pd.read_csv('allhyper.data', names = columns, na_values = ['?'], index_col = False)\n"
   ]
  },
  {
   "attachments": {},
   "cell_type": "markdown",
   "metadata": {},
   "source": [
    "#### Data Understanding and Data Preparation"
   ]
  },
  {
   "attachments": {},
   "cell_type": "markdown",
   "metadata": {},
   "source": [
    "Splitting the labels column at | into two columns: 'class' and 'id'.\n",
    "\n",
    "After that dropping the labels column."
   ]
  },
  {
   "cell_type": "code",
   "execution_count": 5,
   "metadata": {},
   "outputs": [],
   "source": [
    "df_hypo[['hypo_class','id']] = df_hypo.labels.str.split(\"|\",expand = True)\n",
    "df_hypo.drop('labels', axis = 1, inplace = True)\n",
    "\n",
    "df_hyper[['hyper_class','id']] = df_hyper.labels.str.split(\"|\",expand = True)\n",
    "df_hyper.drop('labels', axis = 1, inplace = True)\n"
   ]
  },
  {
   "attachments": {},
   "cell_type": "markdown",
   "metadata": {},
   "source": [
    "Replacing the '.' in 'class' column with space ('')\n"
   ]
  },
  {
   "cell_type": "code",
   "execution_count": 6,
   "metadata": {},
   "outputs": [],
   "source": [
    "df_hypo['hypo_class'] = df_hypo['hypo_class'].str.replace('.', '')\n",
    "df_hyper['hyper_class'] = df_hyper['hyper_class'].str.replace('.', '')\n"
   ]
  },
  {
   "attachments": {},
   "cell_type": "markdown",
   "metadata": {},
   "source": [
    "Deep copying both the datasets for future reference.\n"
   ]
  },
  {
   "cell_type": "code",
   "execution_count": 7,
   "metadata": {},
   "outputs": [],
   "source": [
    "df_hypo_copy = df_hypo.copy(deep=True)\n",
    "df_hyper_copy = df_hyper.copy(deep=True)\n"
   ]
  },
  {
   "attachments": {},
   "cell_type": "markdown",
   "metadata": {},
   "source": [
    "#### Checking total unique values in both dataset of the class 'hypo_class' and 'hyper_class'\n"
   ]
  },
  {
   "cell_type": "code",
   "execution_count": 8,
   "metadata": {},
   "outputs": [
    {
     "name": "stdout",
     "output_type": "stream",
     "text": [
      "['negative' 'compensated hypothyroid' 'primary hypothyroid'\n",
      " 'secondary hypothyroid']\n",
      "['negative' 'hyperthyroid' 'T3 toxic' 'goitre']\n"
     ]
    }
   ],
   "source": [
    "print(df_hypo['hypo_class'].unique())\n",
    "print(df_hyper['hyper_class'].unique())\n"
   ]
  },
  {
   "attachments": {},
   "cell_type": "markdown",
   "metadata": {},
   "source": [
    "Since we are classifying only in three categories: 'negative', 'hypothyroid', and 'hyperthyroid'.\n",
    "\n",
    "So, let's replace other values with 'negative', 'hypothyroid', and 'hyperthyroid'."
   ]
  },
  {
   "cell_type": "code",
   "execution_count": 9,
   "metadata": {},
   "outputs": [],
   "source": [
    "df_hypo.replace(['compensated hypothyroid', 'primary hypothyroid',\\\n",
    "                 'secondary hypothyroid'], 'hypothyroid', inplace = True)\n",
    "\n",
    "df_hyper.replace(['T3 toxic', 'goitre'], 'hyperthyroid', inplace = True)\n"
   ]
  },
  {
   "attachments": {},
   "cell_type": "markdown",
   "metadata": {},
   "source": [
    "Since all values are common in both the datasets expect 'class'.\n",
    "\n",
    "So, we can concatnate both the datasets."
   ]
  },
  {
   "cell_type": "code",
   "execution_count": 10,
   "metadata": {},
   "outputs": [
    {
     "data": {
      "text/html": [
       "<div>\n",
       "<style scoped>\n",
       "    .dataframe tbody tr th:only-of-type {\n",
       "        vertical-align: middle;\n",
       "    }\n",
       "\n",
       "    .dataframe tbody tr th {\n",
       "        vertical-align: top;\n",
       "    }\n",
       "\n",
       "    .dataframe thead th {\n",
       "        text-align: right;\n",
       "    }\n",
       "</style>\n",
       "<table border=\"1\" class=\"dataframe\">\n",
       "  <thead>\n",
       "    <tr style=\"text-align: right;\">\n",
       "      <th></th>\n",
       "      <th>age</th>\n",
       "      <th>sex</th>\n",
       "      <th>on thyroxine</th>\n",
       "      <th>query on thyroxine</th>\n",
       "      <th>on antithyroid medication</th>\n",
       "      <th>sick</th>\n",
       "      <th>pregnant</th>\n",
       "      <th>thyroid surgery</th>\n",
       "      <th>I131 treatment</th>\n",
       "      <th>query hypothyroid</th>\n",
       "      <th>...</th>\n",
       "      <th>T4U measured</th>\n",
       "      <th>T4U</th>\n",
       "      <th>FTI measured</th>\n",
       "      <th>FTI</th>\n",
       "      <th>TBG measured</th>\n",
       "      <th>TBG</th>\n",
       "      <th>referral source</th>\n",
       "      <th>hypo_class</th>\n",
       "      <th>id</th>\n",
       "      <th>hyper_class</th>\n",
       "    </tr>\n",
       "  </thead>\n",
       "  <tbody>\n",
       "    <tr>\n",
       "      <th>0</th>\n",
       "      <td>41.0</td>\n",
       "      <td>F</td>\n",
       "      <td>f</td>\n",
       "      <td>f</td>\n",
       "      <td>f</td>\n",
       "      <td>f</td>\n",
       "      <td>f</td>\n",
       "      <td>f</td>\n",
       "      <td>f</td>\n",
       "      <td>f</td>\n",
       "      <td>...</td>\n",
       "      <td>t</td>\n",
       "      <td>1.14</td>\n",
       "      <td>t</td>\n",
       "      <td>109.0</td>\n",
       "      <td>f</td>\n",
       "      <td>NaN</td>\n",
       "      <td>SVHC</td>\n",
       "      <td>negative</td>\n",
       "      <td>3733</td>\n",
       "      <td>negative</td>\n",
       "    </tr>\n",
       "    <tr>\n",
       "      <th>1</th>\n",
       "      <td>23.0</td>\n",
       "      <td>F</td>\n",
       "      <td>f</td>\n",
       "      <td>f</td>\n",
       "      <td>f</td>\n",
       "      <td>f</td>\n",
       "      <td>f</td>\n",
       "      <td>f</td>\n",
       "      <td>f</td>\n",
       "      <td>f</td>\n",
       "      <td>...</td>\n",
       "      <td>f</td>\n",
       "      <td>NaN</td>\n",
       "      <td>f</td>\n",
       "      <td>NaN</td>\n",
       "      <td>f</td>\n",
       "      <td>NaN</td>\n",
       "      <td>other</td>\n",
       "      <td>negative</td>\n",
       "      <td>1442</td>\n",
       "      <td>negative</td>\n",
       "    </tr>\n",
       "    <tr>\n",
       "      <th>2</th>\n",
       "      <td>46.0</td>\n",
       "      <td>M</td>\n",
       "      <td>f</td>\n",
       "      <td>f</td>\n",
       "      <td>f</td>\n",
       "      <td>f</td>\n",
       "      <td>f</td>\n",
       "      <td>f</td>\n",
       "      <td>f</td>\n",
       "      <td>f</td>\n",
       "      <td>...</td>\n",
       "      <td>t</td>\n",
       "      <td>0.91</td>\n",
       "      <td>t</td>\n",
       "      <td>120.0</td>\n",
       "      <td>f</td>\n",
       "      <td>NaN</td>\n",
       "      <td>other</td>\n",
       "      <td>negative</td>\n",
       "      <td>2965</td>\n",
       "      <td>negative</td>\n",
       "    </tr>\n",
       "    <tr>\n",
       "      <th>3</th>\n",
       "      <td>70.0</td>\n",
       "      <td>F</td>\n",
       "      <td>t</td>\n",
       "      <td>f</td>\n",
       "      <td>f</td>\n",
       "      <td>f</td>\n",
       "      <td>f</td>\n",
       "      <td>f</td>\n",
       "      <td>f</td>\n",
       "      <td>f</td>\n",
       "      <td>...</td>\n",
       "      <td>f</td>\n",
       "      <td>NaN</td>\n",
       "      <td>f</td>\n",
       "      <td>NaN</td>\n",
       "      <td>f</td>\n",
       "      <td>NaN</td>\n",
       "      <td>other</td>\n",
       "      <td>negative</td>\n",
       "      <td>806</td>\n",
       "      <td>negative</td>\n",
       "    </tr>\n",
       "    <tr>\n",
       "      <th>4</th>\n",
       "      <td>70.0</td>\n",
       "      <td>F</td>\n",
       "      <td>f</td>\n",
       "      <td>f</td>\n",
       "      <td>f</td>\n",
       "      <td>f</td>\n",
       "      <td>f</td>\n",
       "      <td>f</td>\n",
       "      <td>f</td>\n",
       "      <td>f</td>\n",
       "      <td>...</td>\n",
       "      <td>t</td>\n",
       "      <td>0.87</td>\n",
       "      <td>t</td>\n",
       "      <td>70.0</td>\n",
       "      <td>f</td>\n",
       "      <td>NaN</td>\n",
       "      <td>SVI</td>\n",
       "      <td>negative</td>\n",
       "      <td>2807</td>\n",
       "      <td>negative</td>\n",
       "    </tr>\n",
       "  </tbody>\n",
       "</table>\n",
       "<p>5 rows × 32 columns</p>\n",
       "</div>"
      ],
      "text/plain": [
       "    age sex on thyroxine query on thyroxine on antithyroid medication sick  \\\n",
       "0  41.0   F            f                  f                         f    f   \n",
       "1  23.0   F            f                  f                         f    f   \n",
       "2  46.0   M            f                  f                         f    f   \n",
       "3  70.0   F            t                  f                         f    f   \n",
       "4  70.0   F            f                  f                         f    f   \n",
       "\n",
       "  pregnant thyroid surgery I131 treatment query hypothyroid  ... T4U measured  \\\n",
       "0        f               f              f                 f  ...            t   \n",
       "1        f               f              f                 f  ...            f   \n",
       "2        f               f              f                 f  ...            t   \n",
       "3        f               f              f                 f  ...            f   \n",
       "4        f               f              f                 f  ...            t   \n",
       "\n",
       "    T4U FTI measured    FTI TBG measured TBG referral source  hypo_class  \\\n",
       "0  1.14            t  109.0            f NaN            SVHC    negative   \n",
       "1   NaN            f    NaN            f NaN           other    negative   \n",
       "2  0.91            t  120.0            f NaN           other    negative   \n",
       "3   NaN            f    NaN            f NaN           other    negative   \n",
       "4  0.87            t   70.0            f NaN             SVI    negative   \n",
       "\n",
       "     id  hyper_class  \n",
       "0  3733     negative  \n",
       "1  1442     negative  \n",
       "2  2965     negative  \n",
       "3   806     negative  \n",
       "4  2807     negative  \n",
       "\n",
       "[5 rows x 32 columns]"
      ]
     },
     "execution_count": 10,
     "metadata": {},
     "output_type": "execute_result"
    }
   ],
   "source": [
    "df_concat = pd.concat([df_hypo, df_hyper.iloc[:, -2]], axis=1)\n",
    "df_concat.head()\n"
   ]
  },
  {
   "attachments": {},
   "cell_type": "markdown",
   "metadata": {},
   "source": [
    "Deep copying the concatnated dataset for future reference."
   ]
  },
  {
   "cell_type": "code",
   "execution_count": 11,
   "metadata": {},
   "outputs": [],
   "source": [
    "df_new = df_concat.copy(deep = True)\n",
    "\n",
    "# df_concat.replace(['negative', 'hyperthyroid', 'hypothyroid'], [0,1,2], inplace = True)\n"
   ]
  },
  {
   "attachments": {},
   "cell_type": "markdown",
   "metadata": {},
   "source": [
    "Now, the conditions based on which we are replacing the 'class' value with any of the 'class' i.e. 'hypo_class' or 'hyper_class'\n",
    "\n",
    "- neg + neg = neg\n",
    "- hypo + neg = hypo\n",
    "- hyper + neg = hyper"
   ]
  },
  {
   "attachments": {},
   "cell_type": "markdown",
   "metadata": {},
   "source": [
    "Applying the above conditions using 'numpy where' and creating a single column for categories, 'labels'."
   ]
  },
  {
   "cell_type": "code",
   "execution_count": 12,
   "metadata": {},
   "outputs": [],
   "source": [
    "df_concat['labels'] = np.where(((df_concat['hypo_class'] != 'negative') & \\\n",
    "                                (df_concat['hyper_class'] == 'negative')), df_concat['hypo_class'],\\\n",
    "                      np.where((df_concat['hyper_class'] != 'negative'), df_concat['hyper_class'],'negative'))\n"
   ]
  },
  {
   "cell_type": "code",
   "execution_count": 13,
   "metadata": {},
   "outputs": [
    {
     "data": {
      "text/html": [
       "<div>\n",
       "<style scoped>\n",
       "    .dataframe tbody tr th:only-of-type {\n",
       "        vertical-align: middle;\n",
       "    }\n",
       "\n",
       "    .dataframe tbody tr th {\n",
       "        vertical-align: top;\n",
       "    }\n",
       "\n",
       "    .dataframe thead th {\n",
       "        text-align: right;\n",
       "    }\n",
       "</style>\n",
       "<table border=\"1\" class=\"dataframe\">\n",
       "  <thead>\n",
       "    <tr style=\"text-align: right;\">\n",
       "      <th></th>\n",
       "      <th>age</th>\n",
       "      <th>sex</th>\n",
       "      <th>on thyroxine</th>\n",
       "      <th>query on thyroxine</th>\n",
       "      <th>on antithyroid medication</th>\n",
       "      <th>sick</th>\n",
       "      <th>pregnant</th>\n",
       "      <th>thyroid surgery</th>\n",
       "      <th>I131 treatment</th>\n",
       "      <th>query hypothyroid</th>\n",
       "      <th>...</th>\n",
       "      <th>T4U</th>\n",
       "      <th>FTI measured</th>\n",
       "      <th>FTI</th>\n",
       "      <th>TBG measured</th>\n",
       "      <th>TBG</th>\n",
       "      <th>referral source</th>\n",
       "      <th>hypo_class</th>\n",
       "      <th>id</th>\n",
       "      <th>hyper_class</th>\n",
       "      <th>labels</th>\n",
       "    </tr>\n",
       "  </thead>\n",
       "  <tbody>\n",
       "    <tr>\n",
       "      <th>0</th>\n",
       "      <td>41.0</td>\n",
       "      <td>F</td>\n",
       "      <td>f</td>\n",
       "      <td>f</td>\n",
       "      <td>f</td>\n",
       "      <td>f</td>\n",
       "      <td>f</td>\n",
       "      <td>f</td>\n",
       "      <td>f</td>\n",
       "      <td>f</td>\n",
       "      <td>...</td>\n",
       "      <td>1.14</td>\n",
       "      <td>t</td>\n",
       "      <td>109.0</td>\n",
       "      <td>f</td>\n",
       "      <td>NaN</td>\n",
       "      <td>SVHC</td>\n",
       "      <td>negative</td>\n",
       "      <td>3733</td>\n",
       "      <td>negative</td>\n",
       "      <td>negative</td>\n",
       "    </tr>\n",
       "    <tr>\n",
       "      <th>1</th>\n",
       "      <td>23.0</td>\n",
       "      <td>F</td>\n",
       "      <td>f</td>\n",
       "      <td>f</td>\n",
       "      <td>f</td>\n",
       "      <td>f</td>\n",
       "      <td>f</td>\n",
       "      <td>f</td>\n",
       "      <td>f</td>\n",
       "      <td>f</td>\n",
       "      <td>...</td>\n",
       "      <td>NaN</td>\n",
       "      <td>f</td>\n",
       "      <td>NaN</td>\n",
       "      <td>f</td>\n",
       "      <td>NaN</td>\n",
       "      <td>other</td>\n",
       "      <td>negative</td>\n",
       "      <td>1442</td>\n",
       "      <td>negative</td>\n",
       "      <td>negative</td>\n",
       "    </tr>\n",
       "    <tr>\n",
       "      <th>2</th>\n",
       "      <td>46.0</td>\n",
       "      <td>M</td>\n",
       "      <td>f</td>\n",
       "      <td>f</td>\n",
       "      <td>f</td>\n",
       "      <td>f</td>\n",
       "      <td>f</td>\n",
       "      <td>f</td>\n",
       "      <td>f</td>\n",
       "      <td>f</td>\n",
       "      <td>...</td>\n",
       "      <td>0.91</td>\n",
       "      <td>t</td>\n",
       "      <td>120.0</td>\n",
       "      <td>f</td>\n",
       "      <td>NaN</td>\n",
       "      <td>other</td>\n",
       "      <td>negative</td>\n",
       "      <td>2965</td>\n",
       "      <td>negative</td>\n",
       "      <td>negative</td>\n",
       "    </tr>\n",
       "    <tr>\n",
       "      <th>3</th>\n",
       "      <td>70.0</td>\n",
       "      <td>F</td>\n",
       "      <td>t</td>\n",
       "      <td>f</td>\n",
       "      <td>f</td>\n",
       "      <td>f</td>\n",
       "      <td>f</td>\n",
       "      <td>f</td>\n",
       "      <td>f</td>\n",
       "      <td>f</td>\n",
       "      <td>...</td>\n",
       "      <td>NaN</td>\n",
       "      <td>f</td>\n",
       "      <td>NaN</td>\n",
       "      <td>f</td>\n",
       "      <td>NaN</td>\n",
       "      <td>other</td>\n",
       "      <td>negative</td>\n",
       "      <td>806</td>\n",
       "      <td>negative</td>\n",
       "      <td>negative</td>\n",
       "    </tr>\n",
       "    <tr>\n",
       "      <th>4</th>\n",
       "      <td>70.0</td>\n",
       "      <td>F</td>\n",
       "      <td>f</td>\n",
       "      <td>f</td>\n",
       "      <td>f</td>\n",
       "      <td>f</td>\n",
       "      <td>f</td>\n",
       "      <td>f</td>\n",
       "      <td>f</td>\n",
       "      <td>f</td>\n",
       "      <td>...</td>\n",
       "      <td>0.87</td>\n",
       "      <td>t</td>\n",
       "      <td>70.0</td>\n",
       "      <td>f</td>\n",
       "      <td>NaN</td>\n",
       "      <td>SVI</td>\n",
       "      <td>negative</td>\n",
       "      <td>2807</td>\n",
       "      <td>negative</td>\n",
       "      <td>negative</td>\n",
       "    </tr>\n",
       "  </tbody>\n",
       "</table>\n",
       "<p>5 rows × 33 columns</p>\n",
       "</div>"
      ],
      "text/plain": [
       "    age sex on thyroxine query on thyroxine on antithyroid medication sick  \\\n",
       "0  41.0   F            f                  f                         f    f   \n",
       "1  23.0   F            f                  f                         f    f   \n",
       "2  46.0   M            f                  f                         f    f   \n",
       "3  70.0   F            t                  f                         f    f   \n",
       "4  70.0   F            f                  f                         f    f   \n",
       "\n",
       "  pregnant thyroid surgery I131 treatment query hypothyroid  ...   T4U  \\\n",
       "0        f               f              f                 f  ...  1.14   \n",
       "1        f               f              f                 f  ...   NaN   \n",
       "2        f               f              f                 f  ...  0.91   \n",
       "3        f               f              f                 f  ...   NaN   \n",
       "4        f               f              f                 f  ...  0.87   \n",
       "\n",
       "  FTI measured    FTI TBG measured TBG referral source hypo_class    id  \\\n",
       "0            t  109.0            f NaN            SVHC   negative  3733   \n",
       "1            f    NaN            f NaN           other   negative  1442   \n",
       "2            t  120.0            f NaN           other   negative  2965   \n",
       "3            f    NaN            f NaN           other   negative   806   \n",
       "4            t   70.0            f NaN             SVI   negative  2807   \n",
       "\n",
       "  hyper_class    labels  \n",
       "0    negative  negative  \n",
       "1    negative  negative  \n",
       "2    negative  negative  \n",
       "3    negative  negative  \n",
       "4    negative  negative  \n",
       "\n",
       "[5 rows x 33 columns]"
      ]
     },
     "execution_count": 13,
     "metadata": {},
     "output_type": "execute_result"
    }
   ],
   "source": [
    "df_concat.head()"
   ]
  },
  {
   "attachments": {},
   "cell_type": "markdown",
   "metadata": {},
   "source": [
    "Dopping those columns (features) which are not relevant and storing it in a new dataframe."
   ]
  },
  {
   "cell_type": "code",
   "execution_count": 14,
   "metadata": {},
   "outputs": [],
   "source": [
    "df = df_concat.drop(['referral source', 'TBG', 'hypo_class', 'id', 'hyper_class'], axis = 1)\n"
   ]
  },
  {
   "cell_type": "code",
   "execution_count": 15,
   "metadata": {},
   "outputs": [
    {
     "name": "stdout",
     "output_type": "stream",
     "text": [
      "<class 'pandas.core.frame.DataFrame'>\n",
      "RangeIndex: 2800 entries, 0 to 2799\n",
      "Data columns (total 28 columns):\n",
      " #   Column                     Non-Null Count  Dtype  \n",
      "---  ------                     --------------  -----  \n",
      " 0   age                        2799 non-null   float64\n",
      " 1   sex                        2690 non-null   object \n",
      " 2   on thyroxine               2800 non-null   object \n",
      " 3   query on thyroxine         2800 non-null   object \n",
      " 4   on antithyroid medication  2800 non-null   object \n",
      " 5   sick                       2800 non-null   object \n",
      " 6   pregnant                   2800 non-null   object \n",
      " 7   thyroid surgery            2800 non-null   object \n",
      " 8   I131 treatment             2800 non-null   object \n",
      " 9   query hypothyroid          2800 non-null   object \n",
      " 10  query hyperthyroid         2800 non-null   object \n",
      " 11  lithium                    2800 non-null   object \n",
      " 12  goitre                     2800 non-null   object \n",
      " 13  tumor                      2800 non-null   object \n",
      " 14  hypopituitary              2800 non-null   object \n",
      " 15  psych                      2800 non-null   object \n",
      " 16  TSH measured               2800 non-null   object \n",
      " 17  TSH                        2516 non-null   float64\n",
      " 18  T3 measured                2800 non-null   object \n",
      " 19  T3                         2215 non-null   float64\n",
      " 20  TT4 measured               2800 non-null   object \n",
      " 21  TT4                        2616 non-null   float64\n",
      " 22  T4U measured               2800 non-null   object \n",
      " 23  T4U                        2503 non-null   float64\n",
      " 24  FTI measured               2800 non-null   object \n",
      " 25  FTI                        2505 non-null   float64\n",
      " 26  TBG measured               2800 non-null   object \n",
      " 27  labels                     2800 non-null   object \n",
      "dtypes: float64(6), object(22)\n",
      "memory usage: 612.6+ KB\n"
     ]
    }
   ],
   "source": [
    "df.info()\n"
   ]
  },
  {
   "attachments": {},
   "cell_type": "markdown",
   "metadata": {},
   "source": [
    "#### Let's deep dive into few feature columns"
   ]
  },
  {
   "cell_type": "code",
   "execution_count": 16,
   "metadata": {},
   "outputs": [
    {
     "data": {
      "text/html": [
       "<div>\n",
       "<style scoped>\n",
       "    .dataframe tbody tr th:only-of-type {\n",
       "        vertical-align: middle;\n",
       "    }\n",
       "\n",
       "    .dataframe tbody tr th {\n",
       "        vertical-align: top;\n",
       "    }\n",
       "\n",
       "    .dataframe thead th {\n",
       "        text-align: right;\n",
       "    }\n",
       "</style>\n",
       "<table border=\"1\" class=\"dataframe\">\n",
       "  <thead>\n",
       "    <tr style=\"text-align: right;\">\n",
       "      <th></th>\n",
       "      <th>TSH measured</th>\n",
       "      <th>TSH</th>\n",
       "    </tr>\n",
       "  </thead>\n",
       "  <tbody>\n",
       "    <tr>\n",
       "      <th>2790</th>\n",
       "      <td>t</td>\n",
       "      <td>2.10</td>\n",
       "    </tr>\n",
       "    <tr>\n",
       "      <th>2791</th>\n",
       "      <td>t</td>\n",
       "      <td>1.00</td>\n",
       "    </tr>\n",
       "    <tr>\n",
       "      <th>2792</th>\n",
       "      <td>f</td>\n",
       "      <td>NaN</td>\n",
       "    </tr>\n",
       "    <tr>\n",
       "      <th>2793</th>\n",
       "      <td>t</td>\n",
       "      <td>0.03</td>\n",
       "    </tr>\n",
       "    <tr>\n",
       "      <th>2794</th>\n",
       "      <td>t</td>\n",
       "      <td>1.90</td>\n",
       "    </tr>\n",
       "    <tr>\n",
       "      <th>2795</th>\n",
       "      <td>t</td>\n",
       "      <td>2.70</td>\n",
       "    </tr>\n",
       "    <tr>\n",
       "      <th>2796</th>\n",
       "      <td>f</td>\n",
       "      <td>NaN</td>\n",
       "    </tr>\n",
       "    <tr>\n",
       "      <th>2797</th>\n",
       "      <td>f</td>\n",
       "      <td>NaN</td>\n",
       "    </tr>\n",
       "    <tr>\n",
       "      <th>2798</th>\n",
       "      <td>t</td>\n",
       "      <td>1.40</td>\n",
       "    </tr>\n",
       "    <tr>\n",
       "      <th>2799</th>\n",
       "      <td>t</td>\n",
       "      <td>1.20</td>\n",
       "    </tr>\n",
       "  </tbody>\n",
       "</table>\n",
       "</div>"
      ],
      "text/plain": [
       "     TSH measured   TSH\n",
       "2790            t  2.10\n",
       "2791            t  1.00\n",
       "2792            f   NaN\n",
       "2793            t  0.03\n",
       "2794            t  1.90\n",
       "2795            t  2.70\n",
       "2796            f   NaN\n",
       "2797            f   NaN\n",
       "2798            t  1.40\n",
       "2799            t  1.20"
      ]
     },
     "execution_count": 16,
     "metadata": {},
     "output_type": "execute_result"
    }
   ],
   "source": [
    "df[['TSH measured', 'TSH']].tail(10)\n"
   ]
  },
  {
   "attachments": {},
   "cell_type": "markdown",
   "metadata": {},
   "source": [
    "Some columns are just indicating whether next column in the same row has some value or not. Like 'TSH measured' have 'true' & 'false' value. \n",
    "\n",
    "The 'true' means, the next column in the same row has some value and 'false' means, next column in the same row has 'NaN'. So, we are any ways going to handle the missing values, there is no point of having such columns in our dataset.\n",
    "\n",
    "Let's drop these feature columns."
   ]
  },
  {
   "cell_type": "code",
   "execution_count": 17,
   "metadata": {},
   "outputs": [],
   "source": [
    "df = df.drop(['TSH measured','T3 measured','TT4 measured','T4U measured',\\\n",
    "              'FTI measured','TBG measured'], axis = 1)\n"
   ]
  },
  {
   "attachments": {},
   "cell_type": "markdown",
   "metadata": {},
   "source": [
    "### Types of Data in the Dataset:\n",
    "\n",
    "- categorical\n",
    "    - nominal (order not matter)\n",
    "    - ordinal (order matter)\n",
    "    \n",
    "URLs: \n",
    "- https://www.freecodecamp.org/news/types-of-data-in-statistics-nominal-ordinal-interval-and-ratio-data-types-explained-with-examples/\n",
    "- https://stats.idre.ucla.edu/other/mult-pkg/whatstat/what-is-the-difference-between-categorical-ordinal-and-interval-variables/ \n",
    "\n",
    "\n",
    "- numerical\n",
    "    - discrete (discrete data is counted)\n",
    "    - continuous (continuous data is measured)\n",
    "\n",
    "URLs:\n",
    "- https://www.mathsisfun.com/data/data-discrete-continuous.html\n",
    "- https://www.intellspot.com/discrete-vs-continuous-data/\n",
    "     "
   ]
  },
  {
   "cell_type": "code",
   "execution_count": 18,
   "metadata": {},
   "outputs": [
    {
     "data": {
      "text/plain": [
       "['sex',\n",
       " 'on thyroxine',\n",
       " 'query on thyroxine',\n",
       " 'on antithyroid medication',\n",
       " 'sick',\n",
       " 'pregnant',\n",
       " 'thyroid surgery',\n",
       " 'I131 treatment',\n",
       " 'query hypothyroid',\n",
       " 'query hyperthyroid',\n",
       " 'lithium',\n",
       " 'goitre',\n",
       " 'tumor',\n",
       " 'hypopituitary',\n",
       " 'psych',\n",
       " 'labels']"
      ]
     },
     "execution_count": 18,
     "metadata": {},
     "output_type": "execute_result"
    }
   ],
   "source": [
    "cat_features = [i for i in df.columns if (df[i].dtype == 'O')]\n",
    "cat_features"
   ]
  },
  {
   "cell_type": "code",
   "execution_count": 19,
   "metadata": {},
   "outputs": [
    {
     "data": {
      "text/plain": [
       "16"
      ]
     },
     "execution_count": 19,
     "metadata": {},
     "output_type": "execute_result"
    }
   ],
   "source": [
    "len(cat_features)"
   ]
  },
  {
   "cell_type": "code",
   "execution_count": 20,
   "metadata": {},
   "outputs": [
    {
     "data": {
      "text/plain": [
       "['age', 'TSH', 'T3', 'TT4', 'T4U', 'FTI']"
      ]
     },
     "execution_count": 20,
     "metadata": {},
     "output_type": "execute_result"
    }
   ],
   "source": [
    "num_features = [i for i in df.columns if (df[i].dtype != 'O')]\n",
    "num_features"
   ]
  },
  {
   "cell_type": "code",
   "execution_count": 21,
   "metadata": {},
   "outputs": [
    {
     "data": {
      "text/plain": [
       "6"
      ]
     },
     "execution_count": 21,
     "metadata": {},
     "output_type": "execute_result"
    }
   ],
   "source": [
    "len(num_features)"
   ]
  },
  {
   "cell_type": "code",
   "execution_count": 22,
   "metadata": {},
   "outputs": [
    {
     "name": "stdout",
     "output_type": "stream",
     "text": [
      "------------------------------------------------------------\n",
      "sex feature: unique values:  ['F' 'M' nan]\n",
      "------------------------------------------------------------\n",
      "on thyroxine feature: unique values:  ['f' 't']\n",
      "------------------------------------------------------------\n",
      "query on thyroxine feature: unique values:  ['f' 't']\n",
      "------------------------------------------------------------\n",
      "on antithyroid medication feature: unique values:  ['f' 't']\n",
      "------------------------------------------------------------\n",
      "sick feature: unique values:  ['f' 't']\n",
      "------------------------------------------------------------\n",
      "pregnant feature: unique values:  ['f' 't']\n",
      "------------------------------------------------------------\n",
      "thyroid surgery feature: unique values:  ['f' 't']\n",
      "------------------------------------------------------------\n",
      "I131 treatment feature: unique values:  ['f' 't']\n",
      "------------------------------------------------------------\n",
      "query hypothyroid feature: unique values:  ['f' 't']\n",
      "------------------------------------------------------------\n",
      "query hyperthyroid feature: unique values:  ['f' 't']\n",
      "------------------------------------------------------------\n",
      "lithium feature: unique values:  ['f' 't']\n",
      "------------------------------------------------------------\n",
      "goitre feature: unique values:  ['f' 't']\n",
      "------------------------------------------------------------\n",
      "tumor feature: unique values:  ['f' 't']\n",
      "------------------------------------------------------------\n",
      "hypopituitary feature: unique values:  ['f' 't']\n",
      "------------------------------------------------------------\n",
      "psych feature: unique values:  ['f' 't']\n",
      "------------------------------------------------------------\n",
      "labels feature: unique values:  ['negative' 'hypothyroid' 'hyperthyroid']\n",
      "------------------------------------------------------------\n"
     ]
    }
   ],
   "source": [
    "for i in cat_features:\n",
    "    print('---'*20)\n",
    "    print(i, 'feature: unique values: ', df[i].unique())\n",
    "    \n",
    "print('---'*20)\n"
   ]
  },
  {
   "cell_type": "code",
   "execution_count": 23,
   "metadata": {},
   "outputs": [
    {
     "name": "stdout",
     "output_type": "stream",
     "text": [
      "------------------------------------\n",
      "age feature: unique values:  94\n",
      "------------------------------------\n",
      "TSH feature: unique values:  264\n",
      "------------------------------------\n",
      "T3 feature: unique values:  65\n",
      "------------------------------------\n",
      "TT4 feature: unique values:  218\n",
      "------------------------------------\n",
      "T4U feature: unique values:  139\n",
      "------------------------------------\n",
      "FTI feature: unique values:  210\n",
      "------------------------------------\n"
     ]
    }
   ],
   "source": [
    "for i in num_features:\n",
    "    print('---'*12)\n",
    "    print(i, 'feature: unique values: ', len(df[i].unique()))\n",
    "    \n",
    "print('---'*12)\n"
   ]
  },
  {
   "cell_type": "code",
   "execution_count": 24,
   "metadata": {},
   "outputs": [
    {
     "name": "stdout",
     "output_type": "stream",
     "text": [
      "------------------------------------\n",
      "age feature: minimum value:  1.0\n",
      "age feature: maximum value:  455.0\n",
      "------------------------------------\n",
      "TSH feature: minimum value:  0.005\n",
      "TSH feature: maximum value:  478.0\n",
      "------------------------------------\n",
      "T3 feature: minimum value:  0.05\n",
      "T3 feature: maximum value:  10.6\n",
      "------------------------------------\n",
      "TT4 feature: minimum value:  2.0\n",
      "TT4 feature: maximum value:  430.0\n",
      "------------------------------------\n",
      "T4U feature: minimum value:  0.31\n",
      "T4U feature: maximum value:  2.12\n",
      "------------------------------------\n",
      "FTI feature: minimum value:  2.0\n",
      "FTI feature: maximum value:  395.0\n",
      "------------------------------------\n"
     ]
    }
   ],
   "source": [
    "for i in num_features:\n",
    "    print('---'*12)\n",
    "    print(i, 'feature: minimum value: ', min(df[i].unique()))\n",
    "    print(i, 'feature: maximum value: ', max(df[i].unique()))\n",
    "    \n",
    "print('---'*12)\n"
   ]
  },
  {
   "cell_type": "code",
   "execution_count": null,
   "metadata": {},
   "outputs": [],
   "source": []
  },
  {
   "attachments": {},
   "cell_type": "markdown",
   "metadata": {},
   "source": [
    "#### Obeservations:\n",
    "Categorical features: 15\n",
    "- all are nominal data\n",
    "\n",
    "Numerical features: 6\n",
    "- discrete data: 1\n",
    "- continous data: 5"
   ]
  },
  {
   "attachments": {},
   "cell_type": "markdown",
   "metadata": {},
   "source": [
    "#### Let's see some more insights of Categorical and Numerical Data"
   ]
  },
  {
   "cell_type": "code",
   "execution_count": 25,
   "metadata": {},
   "outputs": [
    {
     "data": {
      "text/html": [
       "<div>\n",
       "<style scoped>\n",
       "    .dataframe tbody tr th:only-of-type {\n",
       "        vertical-align: middle;\n",
       "    }\n",
       "\n",
       "    .dataframe tbody tr th {\n",
       "        vertical-align: top;\n",
       "    }\n",
       "\n",
       "    .dataframe thead th {\n",
       "        text-align: right;\n",
       "    }\n",
       "</style>\n",
       "<table border=\"1\" class=\"dataframe\">\n",
       "  <thead>\n",
       "    <tr style=\"text-align: right;\">\n",
       "      <th></th>\n",
       "      <th>age</th>\n",
       "      <th>TSH</th>\n",
       "      <th>T3</th>\n",
       "      <th>TT4</th>\n",
       "      <th>T4U</th>\n",
       "      <th>FTI</th>\n",
       "    </tr>\n",
       "  </thead>\n",
       "  <tbody>\n",
       "    <tr>\n",
       "      <th>count</th>\n",
       "      <td>2799.00000</td>\n",
       "      <td>2516.000000</td>\n",
       "      <td>2215.000000</td>\n",
       "      <td>2616.000000</td>\n",
       "      <td>2503.000000</td>\n",
       "      <td>2505.000000</td>\n",
       "    </tr>\n",
       "    <tr>\n",
       "      <th>mean</th>\n",
       "      <td>51.84423</td>\n",
       "      <td>4.672150</td>\n",
       "      <td>2.024966</td>\n",
       "      <td>109.072401</td>\n",
       "      <td>0.997912</td>\n",
       "      <td>110.787984</td>\n",
       "    </tr>\n",
       "    <tr>\n",
       "      <th>std</th>\n",
       "      <td>20.46116</td>\n",
       "      <td>21.449453</td>\n",
       "      <td>0.824600</td>\n",
       "      <td>35.392443</td>\n",
       "      <td>0.194390</td>\n",
       "      <td>32.883986</td>\n",
       "    </tr>\n",
       "    <tr>\n",
       "      <th>min</th>\n",
       "      <td>1.00000</td>\n",
       "      <td>0.005000</td>\n",
       "      <td>0.050000</td>\n",
       "      <td>2.000000</td>\n",
       "      <td>0.310000</td>\n",
       "      <td>2.000000</td>\n",
       "    </tr>\n",
       "    <tr>\n",
       "      <th>25%</th>\n",
       "      <td>36.00000</td>\n",
       "      <td>0.440000</td>\n",
       "      <td>1.600000</td>\n",
       "      <td>88.000000</td>\n",
       "      <td>0.880000</td>\n",
       "      <td>93.000000</td>\n",
       "    </tr>\n",
       "    <tr>\n",
       "      <th>50%</th>\n",
       "      <td>54.00000</td>\n",
       "      <td>1.400000</td>\n",
       "      <td>2.000000</td>\n",
       "      <td>104.000000</td>\n",
       "      <td>0.980000</td>\n",
       "      <td>107.000000</td>\n",
       "    </tr>\n",
       "    <tr>\n",
       "      <th>75%</th>\n",
       "      <td>67.00000</td>\n",
       "      <td>2.600000</td>\n",
       "      <td>2.400000</td>\n",
       "      <td>125.000000</td>\n",
       "      <td>1.080000</td>\n",
       "      <td>124.000000</td>\n",
       "    </tr>\n",
       "    <tr>\n",
       "      <th>max</th>\n",
       "      <td>455.00000</td>\n",
       "      <td>478.000000</td>\n",
       "      <td>10.600000</td>\n",
       "      <td>430.000000</td>\n",
       "      <td>2.120000</td>\n",
       "      <td>395.000000</td>\n",
       "    </tr>\n",
       "  </tbody>\n",
       "</table>\n",
       "</div>"
      ],
      "text/plain": [
       "              age          TSH           T3          TT4          T4U  \\\n",
       "count  2799.00000  2516.000000  2215.000000  2616.000000  2503.000000   \n",
       "mean     51.84423     4.672150     2.024966   109.072401     0.997912   \n",
       "std      20.46116    21.449453     0.824600    35.392443     0.194390   \n",
       "min       1.00000     0.005000     0.050000     2.000000     0.310000   \n",
       "25%      36.00000     0.440000     1.600000    88.000000     0.880000   \n",
       "50%      54.00000     1.400000     2.000000   104.000000     0.980000   \n",
       "75%      67.00000     2.600000     2.400000   125.000000     1.080000   \n",
       "max     455.00000   478.000000    10.600000   430.000000     2.120000   \n",
       "\n",
       "               FTI  \n",
       "count  2505.000000  \n",
       "mean    110.787984  \n",
       "std      32.883986  \n",
       "min       2.000000  \n",
       "25%      93.000000  \n",
       "50%     107.000000  \n",
       "75%     124.000000  \n",
       "max     395.000000  "
      ]
     },
     "execution_count": 25,
     "metadata": {},
     "output_type": "execute_result"
    }
   ],
   "source": [
    "# numerical data\n",
    "df.describe()\n"
   ]
  },
  {
   "cell_type": "code",
   "execution_count": 26,
   "metadata": {},
   "outputs": [
    {
     "data": {
      "text/html": [
       "<div>\n",
       "<style scoped>\n",
       "    .dataframe tbody tr th:only-of-type {\n",
       "        vertical-align: middle;\n",
       "    }\n",
       "\n",
       "    .dataframe tbody tr th {\n",
       "        vertical-align: top;\n",
       "    }\n",
       "\n",
       "    .dataframe thead th {\n",
       "        text-align: right;\n",
       "    }\n",
       "</style>\n",
       "<table border=\"1\" class=\"dataframe\">\n",
       "  <thead>\n",
       "    <tr style=\"text-align: right;\">\n",
       "      <th></th>\n",
       "      <th>sex</th>\n",
       "      <th>on thyroxine</th>\n",
       "      <th>query on thyroxine</th>\n",
       "      <th>on antithyroid medication</th>\n",
       "      <th>sick</th>\n",
       "      <th>pregnant</th>\n",
       "      <th>thyroid surgery</th>\n",
       "      <th>I131 treatment</th>\n",
       "      <th>query hypothyroid</th>\n",
       "      <th>query hyperthyroid</th>\n",
       "      <th>lithium</th>\n",
       "      <th>goitre</th>\n",
       "      <th>tumor</th>\n",
       "      <th>hypopituitary</th>\n",
       "      <th>psych</th>\n",
       "      <th>labels</th>\n",
       "    </tr>\n",
       "  </thead>\n",
       "  <tbody>\n",
       "    <tr>\n",
       "      <th>count</th>\n",
       "      <td>2690</td>\n",
       "      <td>2800</td>\n",
       "      <td>2800</td>\n",
       "      <td>2800</td>\n",
       "      <td>2800</td>\n",
       "      <td>2800</td>\n",
       "      <td>2800</td>\n",
       "      <td>2800</td>\n",
       "      <td>2800</td>\n",
       "      <td>2800</td>\n",
       "      <td>2800</td>\n",
       "      <td>2800</td>\n",
       "      <td>2800</td>\n",
       "      <td>2800</td>\n",
       "      <td>2800</td>\n",
       "      <td>2800</td>\n",
       "    </tr>\n",
       "    <tr>\n",
       "      <th>unique</th>\n",
       "      <td>2</td>\n",
       "      <td>2</td>\n",
       "      <td>2</td>\n",
       "      <td>2</td>\n",
       "      <td>2</td>\n",
       "      <td>2</td>\n",
       "      <td>2</td>\n",
       "      <td>2</td>\n",
       "      <td>2</td>\n",
       "      <td>2</td>\n",
       "      <td>2</td>\n",
       "      <td>2</td>\n",
       "      <td>2</td>\n",
       "      <td>2</td>\n",
       "      <td>2</td>\n",
       "      <td>3</td>\n",
       "    </tr>\n",
       "    <tr>\n",
       "      <th>top</th>\n",
       "      <td>F</td>\n",
       "      <td>f</td>\n",
       "      <td>f</td>\n",
       "      <td>f</td>\n",
       "      <td>f</td>\n",
       "      <td>f</td>\n",
       "      <td>f</td>\n",
       "      <td>f</td>\n",
       "      <td>f</td>\n",
       "      <td>f</td>\n",
       "      <td>f</td>\n",
       "      <td>f</td>\n",
       "      <td>f</td>\n",
       "      <td>f</td>\n",
       "      <td>f</td>\n",
       "      <td>negative</td>\n",
       "    </tr>\n",
       "    <tr>\n",
       "      <th>freq</th>\n",
       "      <td>1830</td>\n",
       "      <td>2470</td>\n",
       "      <td>2760</td>\n",
       "      <td>2766</td>\n",
       "      <td>2690</td>\n",
       "      <td>2759</td>\n",
       "      <td>2761</td>\n",
       "      <td>2752</td>\n",
       "      <td>2637</td>\n",
       "      <td>2627</td>\n",
       "      <td>2786</td>\n",
       "      <td>2775</td>\n",
       "      <td>2729</td>\n",
       "      <td>2799</td>\n",
       "      <td>2665</td>\n",
       "      <td>2503</td>\n",
       "    </tr>\n",
       "  </tbody>\n",
       "</table>\n",
       "</div>"
      ],
      "text/plain": [
       "         sex on thyroxine query on thyroxine on antithyroid medication  sick  \\\n",
       "count   2690         2800               2800                      2800  2800   \n",
       "unique     2            2                  2                         2     2   \n",
       "top        F            f                  f                         f     f   \n",
       "freq    1830         2470               2760                      2766  2690   \n",
       "\n",
       "       pregnant thyroid surgery I131 treatment query hypothyroid  \\\n",
       "count      2800            2800           2800              2800   \n",
       "unique        2               2              2                 2   \n",
       "top           f               f              f                 f   \n",
       "freq       2759            2761           2752              2637   \n",
       "\n",
       "       query hyperthyroid lithium goitre tumor hypopituitary psych    labels  \n",
       "count                2800    2800   2800  2800          2800  2800      2800  \n",
       "unique                  2       2      2     2             2     2         3  \n",
       "top                     f       f      f     f             f     f  negative  \n",
       "freq                 2627    2786   2775  2729          2799  2665      2503  "
      ]
     },
     "execution_count": 26,
     "metadata": {},
     "output_type": "execute_result"
    }
   ],
   "source": [
    "# categorical data\n",
    "df.describe(include = 'object')\n"
   ]
  },
  {
   "cell_type": "code",
   "execution_count": 27,
   "metadata": {},
   "outputs": [
    {
     "data": {
      "text/plain": [
       "age                            1\n",
       "sex                          110\n",
       "on thyroxine                   0\n",
       "query on thyroxine             0\n",
       "on antithyroid medication      0\n",
       "sick                           0\n",
       "pregnant                       0\n",
       "thyroid surgery                0\n",
       "I131 treatment                 0\n",
       "query hypothyroid              0\n",
       "query hyperthyroid             0\n",
       "lithium                        0\n",
       "goitre                         0\n",
       "tumor                          0\n",
       "hypopituitary                  0\n",
       "psych                          0\n",
       "TSH                          284\n",
       "T3                           585\n",
       "TT4                          184\n",
       "T4U                          297\n",
       "FTI                          295\n",
       "labels                         0\n",
       "dtype: int64"
      ]
     },
     "execution_count": 27,
     "metadata": {},
     "output_type": "execute_result"
    }
   ],
   "source": [
    "df.isnull().sum()\n"
   ]
  },
  {
   "attachments": {},
   "cell_type": "markdown",
   "metadata": {},
   "source": [
    "#### Observations:\n",
    "- age has maximum value 455 which is not possible (an outlier)\n",
    "- each categorical features has two unique value except labels which has three unique values\n",
    "- NULL values:\n",
    "    - age: 1\n",
    "    - sex: 110\n",
    "    - TSH: 284\n",
    "    - T3: 585\n",
    "    - TT4: 184\n",
    "    - T4U: 297\n",
    "    - FTI: 295\n",
    "    "
   ]
  },
  {
   "cell_type": "code",
   "execution_count": null,
   "metadata": {},
   "outputs": [],
   "source": []
  },
  {
   "attachments": {},
   "cell_type": "markdown",
   "metadata": {},
   "source": [
    "### Handling missing values:\n",
    "URLs:\n",
    "- https://www.kdnuggets.com/2020/06/missing-values-dataset.html\n",
    "- https://www.analyticsvidhya.com/blog/2021/04/how-to-handle-missing-values-of-categorical-variables/\n",
    "- https://towardsdatascience.com/6-different-ways-to-compensate-for-missing-values-data-imputation-with-examples-6022d9ca0779\n",
    "\n",
    "If the missing values in a column or feature are numerical, the values can be imputed by the mean of the complete cases of the variable. Mean can be replaced by median if the feature is suspected to have outliers.\n",
    "\n",
    "For a categorical feature, the missing values could be replaced by the mode of the column. The major drawback of this method is that it reduces the variance of the imputed variables. This method also reduces the correlation between the imputed variables and other variables because the imputed values are just estimates and will not be related to other values inherently.\n",
    "\n",
    "We have NaN values in both, categorical and numerical form. So, we need to handle both column(s) differently.\n"
   ]
  },
  {
   "cell_type": "code",
   "execution_count": 28,
   "metadata": {},
   "outputs": [
    {
     "data": {
      "text/plain": [
       "['age', 'TSH', 'T3', 'TT4', 'T4U', 'FTI']"
      ]
     },
     "execution_count": 28,
     "metadata": {},
     "output_type": "execute_result"
    }
   ],
   "source": [
    "numerical_all = [i for i in df.columns if (df[i].dtype != 'O')]\n",
    "numerical_all\n"
   ]
  },
  {
   "attachments": {},
   "cell_type": "markdown",
   "metadata": {},
   "source": [
    "#### Let's handle NaN value in numerical column(s)"
   ]
  },
  {
   "cell_type": "code",
   "execution_count": 29,
   "metadata": {},
   "outputs": [
    {
     "data": {
      "text/plain": [
       "['age', 'TSH', 'T3', 'TT4', 'T4U', 'FTI']"
      ]
     },
     "execution_count": 29,
     "metadata": {},
     "output_type": "execute_result"
    }
   ],
   "source": [
    "numerical_null = [i for i in df.columns if (df[i].dtype != 'O' and df[i].isnull().sum() != 0)]\n",
    "numerical_null\n"
   ]
  },
  {
   "attachments": {},
   "cell_type": "markdown",
   "metadata": {},
   "source": [
    "#### Now, let's deep dive into 'age' column.\n"
   ]
  },
  {
   "cell_type": "code",
   "execution_count": 30,
   "metadata": {},
   "outputs": [
    {
     "data": {
      "text/html": [
       "<div>\n",
       "<style scoped>\n",
       "    .dataframe tbody tr th:only-of-type {\n",
       "        vertical-align: middle;\n",
       "    }\n",
       "\n",
       "    .dataframe tbody tr th {\n",
       "        vertical-align: top;\n",
       "    }\n",
       "\n",
       "    .dataframe thead th {\n",
       "        text-align: right;\n",
       "    }\n",
       "</style>\n",
       "<table border=\"1\" class=\"dataframe\">\n",
       "  <thead>\n",
       "    <tr style=\"text-align: right;\">\n",
       "      <th></th>\n",
       "      <th>age</th>\n",
       "      <th>sex</th>\n",
       "      <th>on thyroxine</th>\n",
       "      <th>query on thyroxine</th>\n",
       "      <th>on antithyroid medication</th>\n",
       "      <th>sick</th>\n",
       "      <th>pregnant</th>\n",
       "      <th>thyroid surgery</th>\n",
       "      <th>I131 treatment</th>\n",
       "      <th>query hypothyroid</th>\n",
       "      <th>...</th>\n",
       "      <th>goitre</th>\n",
       "      <th>tumor</th>\n",
       "      <th>hypopituitary</th>\n",
       "      <th>psych</th>\n",
       "      <th>TSH</th>\n",
       "      <th>T3</th>\n",
       "      <th>TT4</th>\n",
       "      <th>T4U</th>\n",
       "      <th>FTI</th>\n",
       "      <th>labels</th>\n",
       "    </tr>\n",
       "  </thead>\n",
       "  <tbody>\n",
       "    <tr>\n",
       "      <th>1985</th>\n",
       "      <td>NaN</td>\n",
       "      <td>F</td>\n",
       "      <td>t</td>\n",
       "      <td>f</td>\n",
       "      <td>f</td>\n",
       "      <td>f</td>\n",
       "      <td>f</td>\n",
       "      <td>f</td>\n",
       "      <td>t</td>\n",
       "      <td>f</td>\n",
       "      <td>...</td>\n",
       "      <td>f</td>\n",
       "      <td>f</td>\n",
       "      <td>f</td>\n",
       "      <td>f</td>\n",
       "      <td>0.6</td>\n",
       "      <td>1.5</td>\n",
       "      <td>120.0</td>\n",
       "      <td>0.82</td>\n",
       "      <td>146.0</td>\n",
       "      <td>negative</td>\n",
       "    </tr>\n",
       "  </tbody>\n",
       "</table>\n",
       "<p>1 rows × 22 columns</p>\n",
       "</div>"
      ],
      "text/plain": [
       "      age sex on thyroxine query on thyroxine on antithyroid medication sick  \\\n",
       "1985  NaN   F            t                  f                         f    f   \n",
       "\n",
       "     pregnant thyroid surgery I131 treatment query hypothyroid  ... goitre  \\\n",
       "1985        f               f              t                 f  ...      f   \n",
       "\n",
       "     tumor hypopituitary psych  TSH   T3    TT4   T4U    FTI    labels  \n",
       "1985     f             f     f  0.6  1.5  120.0  0.82  146.0  negative  \n",
       "\n",
       "[1 rows x 22 columns]"
      ]
     },
     "execution_count": 30,
     "metadata": {},
     "output_type": "execute_result"
    }
   ],
   "source": [
    "df[df['age'].isnull()]\n"
   ]
  },
  {
   "attachments": {},
   "cell_type": "markdown",
   "metadata": {},
   "source": [
    "We have only one 'NaN' value in 'age' column.\n",
    "\n",
    "We can either drop this, or replace with the median value of the 'age' column."
   ]
  },
  {
   "cell_type": "code",
   "execution_count": 31,
   "metadata": {},
   "outputs": [
    {
     "data": {
      "text/plain": [
       "54.0"
      ]
     },
     "execution_count": 31,
     "metadata": {},
     "output_type": "execute_result"
    }
   ],
   "source": [
    "# median value of 'age' column\n",
    "\n",
    "df['age'].median()\n"
   ]
  },
  {
   "attachments": {},
   "cell_type": "markdown",
   "metadata": {},
   "source": [
    "Replacing 'NaN' value withe median of the 'age' column\n"
   ]
  },
  {
   "cell_type": "code",
   "execution_count": 32,
   "metadata": {},
   "outputs": [],
   "source": [
    "df['age'].replace([np.nan],df['age'].median(), inplace = True)\n"
   ]
  },
  {
   "cell_type": "code",
   "execution_count": 33,
   "metadata": {},
   "outputs": [
    {
     "data": {
      "text/plain": [
       "array([ 41.,  23.,  46.,  70.,  18.,  59.,  80.,  66.,  68.,  84.,  67.,\n",
       "        71.,  28.,  65.,  42.,  63.,  51.,  81.,  54.,  55.,  60.,  25.,\n",
       "        73.,  34.,  78.,  37.,  85.,  26.,  58.,  64.,  44.,  48.,  61.,\n",
       "        35.,  83.,  21.,  87.,  53.,  77.,  27.,  69.,  74.,  38.,  76.,\n",
       "        45.,  36.,  22.,  43.,  72.,  82.,  31.,  39.,  49.,  62.,  57.,\n",
       "         1.,  50.,  30.,  29.,  75.,  19.,   7.,  79.,  17.,  24.,  15.,\n",
       "        32.,  47.,  16.,  52.,  33.,  13.,  10.,  89.,  56.,  20.,  90.,\n",
       "        40.,  88.,  14.,  86.,  94.,  12.,   4.,  11.,   8.,   5., 455.,\n",
       "         2.,  91.,   6.,  93.,  92.])"
      ]
     },
     "execution_count": 33,
     "metadata": {},
     "output_type": "execute_result"
    }
   ],
   "source": [
    "df.age.unique()\n"
   ]
  },
  {
   "attachments": {},
   "cell_type": "markdown",
   "metadata": {},
   "source": [
    "Let's check the numerical columns again.\n"
   ]
  },
  {
   "cell_type": "code",
   "execution_count": 34,
   "metadata": {},
   "outputs": [
    {
     "data": {
      "text/plain": [
       "['TSH', 'T3', 'TT4', 'T4U', 'FTI']"
      ]
     },
     "execution_count": 34,
     "metadata": {},
     "output_type": "execute_result"
    }
   ],
   "source": [
    "numerical_null = [i for i in df.columns if (df[i].dtype != 'O' and df[i].isnull().sum() != 0)]\n",
    "numerical_null\n",
    "\n",
    "# we can see 'age' column has no more null values\n"
   ]
  },
  {
   "attachments": {},
   "cell_type": "markdown",
   "metadata": {},
   "source": [
    "Let's deep dive into other numerical columns.\n"
   ]
  },
  {
   "cell_type": "code",
   "execution_count": 35,
   "metadata": {},
   "outputs": [
    {
     "data": {
      "text/plain": [
       "age                            0\n",
       "sex                          110\n",
       "on thyroxine                   0\n",
       "query on thyroxine             0\n",
       "on antithyroid medication      0\n",
       "sick                           0\n",
       "pregnant                       0\n",
       "thyroid surgery                0\n",
       "I131 treatment                 0\n",
       "query hypothyroid              0\n",
       "query hyperthyroid             0\n",
       "lithium                        0\n",
       "goitre                         0\n",
       "tumor                          0\n",
       "hypopituitary                  0\n",
       "psych                          0\n",
       "TSH                          284\n",
       "T3                           585\n",
       "TT4                          184\n",
       "T4U                          297\n",
       "FTI                          295\n",
       "labels                         0\n",
       "dtype: int64"
      ]
     },
     "execution_count": 35,
     "metadata": {},
     "output_type": "execute_result"
    }
   ],
   "source": [
    "df.isnull().sum()"
   ]
  },
  {
   "attachments": {},
   "cell_type": "markdown",
   "metadata": {},
   "source": [
    "Filling the 'NaN' values with 'median' of that column in all the numerical columns.\n"
   ]
  },
  {
   "cell_type": "code",
   "execution_count": 36,
   "metadata": {},
   "outputs": [],
   "source": [
    "for i in numerical_null:\n",
    "   df[i].fillna(df[i].median(),inplace = True)\n"
   ]
  },
  {
   "cell_type": "code",
   "execution_count": 37,
   "metadata": {},
   "outputs": [
    {
     "data": {
      "text/plain": [
       "age                            0\n",
       "sex                          110\n",
       "on thyroxine                   0\n",
       "query on thyroxine             0\n",
       "on antithyroid medication      0\n",
       "sick                           0\n",
       "pregnant                       0\n",
       "thyroid surgery                0\n",
       "I131 treatment                 0\n",
       "query hypothyroid              0\n",
       "query hyperthyroid             0\n",
       "lithium                        0\n",
       "goitre                         0\n",
       "tumor                          0\n",
       "hypopituitary                  0\n",
       "psych                          0\n",
       "TSH                            0\n",
       "T3                             0\n",
       "TT4                            0\n",
       "T4U                            0\n",
       "FTI                            0\n",
       "labels                         0\n",
       "dtype: int64"
      ]
     },
     "execution_count": 37,
     "metadata": {},
     "output_type": "execute_result"
    }
   ],
   "source": [
    "df.isnull().sum()\n",
    "\n",
    "# now we can see, no more null values in the numerical"
   ]
  },
  {
   "cell_type": "code",
   "execution_count": null,
   "metadata": {},
   "outputs": [],
   "source": []
  },
  {
   "attachments": {},
   "cell_type": "markdown",
   "metadata": {},
   "source": [
    "#### Let's handle NaN value in categorical column(s)"
   ]
  },
  {
   "attachments": {},
   "cell_type": "markdown",
   "metadata": {},
   "source": [
    "Seperating the 'object' and 'int' or 'float' columns and storing 'object' into 'categorical'.\n"
   ]
  },
  {
   "cell_type": "code",
   "execution_count": 38,
   "metadata": {},
   "outputs": [
    {
     "data": {
      "text/plain": [
       "['sex',\n",
       " 'on thyroxine',\n",
       " 'query on thyroxine',\n",
       " 'on antithyroid medication',\n",
       " 'sick',\n",
       " 'pregnant',\n",
       " 'thyroid surgery',\n",
       " 'I131 treatment',\n",
       " 'query hypothyroid',\n",
       " 'query hyperthyroid',\n",
       " 'lithium',\n",
       " 'goitre',\n",
       " 'tumor',\n",
       " 'hypopituitary',\n",
       " 'psych',\n",
       " 'labels']"
      ]
     },
     "execution_count": 38,
     "metadata": {},
     "output_type": "execute_result"
    }
   ],
   "source": [
    "categorical = [i for i in df.columns if df[i].dtype == 'O']\n",
    "categorical\n"
   ]
  },
  {
   "attachments": {},
   "cell_type": "markdown",
   "metadata": {},
   "source": [
    "Let's find the categorical column which have NaN value.\n"
   ]
  },
  {
   "cell_type": "code",
   "execution_count": 39,
   "metadata": {},
   "outputs": [
    {
     "data": {
      "text/plain": [
       "['sex']"
      ]
     },
     "execution_count": 39,
     "metadata": {},
     "output_type": "execute_result"
    }
   ],
   "source": [
    "categorical_null = [i for i in df.columns if (df[i].dtype == 'O' and df[i].isnull().sum() != 0)]\n",
    "categorical_null\n"
   ]
  },
  {
   "attachments": {},
   "cell_type": "markdown",
   "metadata": {},
   "source": [
    "Replace missing values with the most frequent value, called 'mode'.\n"
   ]
  },
  {
   "cell_type": "code",
   "execution_count": 40,
   "metadata": {},
   "outputs": [
    {
     "data": {
      "text/plain": [
       "sex    False\n",
       "dtype: bool"
      ]
     },
     "execution_count": 40,
     "metadata": {},
     "output_type": "execute_result"
    }
   ],
   "source": [
    "for i in categorical_null:\n",
    "    df[i].fillna(df[i].mode()[0], inplace = True)\n",
    "    \n",
    "\n",
    "df[categorical_null].isnull().any()\n"
   ]
  },
  {
   "cell_type": "code",
   "execution_count": 41,
   "metadata": {},
   "outputs": [
    {
     "data": {
      "text/plain": [
       "Index(['age', 'sex', 'on thyroxine', 'query on thyroxine',\n",
       "       'on antithyroid medication', 'sick', 'pregnant', 'thyroid surgery',\n",
       "       'I131 treatment', 'query hypothyroid', 'query hyperthyroid', 'lithium',\n",
       "       'goitre', 'tumor', 'hypopituitary', 'psych', 'TSH', 'T3', 'TT4', 'T4U',\n",
       "       'FTI', 'labels'],\n",
       "      dtype='object')"
      ]
     },
     "execution_count": 41,
     "metadata": {},
     "output_type": "execute_result"
    }
   ],
   "source": [
    "df.columns"
   ]
  },
  {
   "cell_type": "code",
   "execution_count": 42,
   "metadata": {},
   "outputs": [
    {
     "data": {
      "text/plain": [
       "False"
      ]
     },
     "execution_count": 42,
     "metadata": {},
     "output_type": "execute_result"
    }
   ],
   "source": [
    "df.isnull().sum().any()"
   ]
  },
  {
   "cell_type": "code",
   "execution_count": 43,
   "metadata": {},
   "outputs": [
    {
     "data": {
      "text/plain": [
       "['age', 'TSH', 'T3', 'TT4', 'T4U', 'FTI']"
      ]
     },
     "execution_count": 43,
     "metadata": {},
     "output_type": "execute_result"
    }
   ],
   "source": [
    "numerical_all = [i for i in df.columns if (df[i].dtype != 'O')]\n",
    "numerical_all"
   ]
  },
  {
   "cell_type": "code",
   "execution_count": 44,
   "metadata": {},
   "outputs": [
    {
     "data": {
      "text/plain": [
       "age    False\n",
       "TSH    False\n",
       "T3     False\n",
       "TT4    False\n",
       "T4U    False\n",
       "FTI    False\n",
       "dtype: bool"
      ]
     },
     "execution_count": 44,
     "metadata": {},
     "output_type": "execute_result"
    }
   ],
   "source": [
    "df[numerical_all].isnull().any()"
   ]
  },
  {
   "cell_type": "code",
   "execution_count": 45,
   "metadata": {},
   "outputs": [],
   "source": [
    "df_filled = df.copy(deep = True)\n",
    "\n",
    "# df --> filled all the null values\n",
    "# df_filled --> just storing the df (filled all the null values)"
   ]
  },
  {
   "attachments": {},
   "cell_type": "markdown",
   "metadata": {},
   "source": [
    "##### NULL values handled - END"
   ]
  },
  {
   "attachments": {},
   "cell_type": "markdown",
   "metadata": {},
   "source": [
    "### Transformation Part Starts"
   ]
  },
  {
   "cell_type": "code",
   "execution_count": 46,
   "metadata": {},
   "outputs": [],
   "source": [
    "def checkPlot(dataframe, feat):\n",
    "    \n",
    "    m = []\n",
    "\n",
    "\n",
    "#     print(\"-------LOG Transformation-------\")\n",
    "\n",
    "    log_target = np.log1p(dataframe[feat])  \n",
    "    df_filled['log_'+i] = pd.DataFrame(log_target)\n",
    "\n",
    "    \n",
    "    plt.rcParams[\"figure.figsize\"] = 13,5\n",
    "    fig,ax = plt.subplots(1,2)\n",
    "    sns.distplot(dataframe[feat], label= \"Orginal Skew:{0}\".format(np.round(skew(dataframe[feat]),4)), color=\"r\", ax=ax[0], axlabel=\"ORGINAL\")\n",
    "    sns.distplot(log_target, label= \"Transformed Skew:{0}\".format(np.round(skew(log_target),4)), color=\"b\", ax=ax[1], axlabel=\"LOG TRANSFORMED\")\n",
    "    fig.legend()\n",
    "    m.append(np.round(skew(log_target),4))\n",
    "    \n",
    "    \n",
    "#     print(\"-------Square Root Transformation-------\")\n",
    "\n",
    "    sqrrt_target = dataframe[feat]**(1/2)\n",
    "    df_filled['sqrroot_'+i] = pd.DataFrame(sqrrt_target)\n",
    "    \n",
    "    plt.rcParams[\"figure.figsize\"] = 13,5\n",
    "    fig,ax = plt.subplots(1,2)\n",
    "    sns.distplot(dataframe[feat], label= \"Orginal Skew:{0}\".format(np.round(skew(dataframe[feat]),4)), color=\"r\", ax=ax[0], axlabel=\"ORGINAL\")\n",
    "    sns.distplot(sqrrt_target, label= \"Transformed Skew:{0}\".format(np.round(skew(sqrrt_target),4)), color=\"b\", ax=ax[1], axlabel=\"SQUARE ROOT TRANSFORMED\")\n",
    "    fig.legend()\n",
    "    m.append(np.round(skew(sqrrt_target),4))\n",
    "\n",
    "    print(m)\n",
    "    \n",
    " \n"
   ]
  },
  {
   "cell_type": "code",
   "execution_count": 48,
   "metadata": {
    "scrolled": false
   },
   "outputs": [
    {
     "name": "stdout",
     "output_type": "stream",
     "text": [
      " Plots after transformations for col :  age\n",
      "[-1.6923, -0.3571]\n",
      " Plots after transformations for col :  TSH\n",
      "[1.9841, 5.6563]\n",
      " Plots after transformations for col :  T3\n",
      "[-0.4276, -0.0556]\n",
      " Plots after transformations for col :  TT4\n",
      "[-2.4147, -0.0814]\n",
      " Plots after transformations for col :  T4U\n",
      "[0.7396, 0.745]\n",
      " Plots after transformations for col :  FTI\n",
      "[-3.045, -0.1901]\n"
     ]
    },
    {
     "data": {
      "image/png": "[encoded data removed]",
      "text/plain": [
       "<Figure size 1300x500 with 2 Axes>"
      ]
     },
     "metadata": {},
     "output_type": "display_data"
    },
    {
     "data": {
      "image/png": "[encoded data removed]",
      "text/plain": [
       "<Figure size 1300x500 with 2 Axes>"
      ]
     },
     "metadata": {},
     "output_type": "display_data"
    },
    {
     "data": {
      "image/png": "[encoded data removed]",
      "text/plain": [
       "<Figure size 1300x500 with 2 Axes>"
      ]
     },
     "metadata": {},
     "output_type": "display_data"
    },
    {
     "data": {
      "image/png": "[encoded data removed]",
      "text/plain": [
       "<Figure size 1300x500 with 2 Axes>"
      ]
     },
     "metadata": {},
     "output_type": "display_data"
    },
    {
     "data": {
      "image/png": "[encoded data removed]",
      "text/plain": [
       "<Figure size 1300x500 with 2 Axes>"
      ]
     },
     "metadata": {},
     "output_type": "display_data"
    },
    {
     "data": {
      "image/png": "[encoded data removed]",
      "text/plain": [
       "<Figure size 1300x500 with 2 Axes>"
      ]
     },
     "metadata": {},
     "output_type": "display_data"
    },
    {
     "data": {
      "image/png": "[encoded data removed]",
      "text/plain": [
       "<Figure size 1300x500 with 2 Axes>"
      ]
     },
     "metadata": {},
     "output_type": "display_data"
    },
    {
     "data": {
      "image/png": "[encoded data removed]",
      "text/plain": [
       "<Figure size 1300x500 with 2 Axes>"
      ]
     },
     "metadata": {},
     "output_type": "display_data"
    },
    {
     "data": {
      "image/png": "[encoded data removed]",
      "text/plain": [
       "<Figure size 1300x500 with 2 Axes>"
      ]
     },
     "metadata": {},
     "output_type": "display_data"
    },
    {
     "data": {
      "image/png": "[encoded data removed]",
      "text/plain": [
       "<Figure size 1300x500 with 2 Axes>"
      ]
     },
     "metadata": {},
     "output_type": "display_data"
    },
    {
     "data": {
      "image/png": "[encoded data removed]",
      "text/plain": [
       "<Figure size 1300x500 with 2 Axes>"
      ]
     },
     "metadata": {},
     "output_type": "display_data"
    },
    {
     "data": {
      "image/png": "[encoded data removed]",
      "text/plain": [
       "<Figure size 1300x500 with 2 Axes>"
      ]
     },
     "metadata": {},
     "output_type": "display_data"
    }
   ],
   "source": [
    "\n",
    "for i in df_filled[numerical_all]:\n",
    "    \n",
    "    print(\" Plots after transformations for col : \",  i)   \n",
    "    \n",
    "    checkPlot(df_filled, i)\n",
    "\n"
   ]
  },
  {
   "cell_type": "code",
   "execution_count": null,
   "metadata": {},
   "outputs": [],
   "source": []
  },
  {
   "attachments": {},
   "cell_type": "markdown",
   "metadata": {},
   "source": [
    "#### Observations:\n",
    "\n",
    "- After Applying Transforamtion and Calculating the Skewness, we found best result for numerical features:\n",
    "- Age: **SQRT**\n",
    "- TSH: **LOG**\n",
    "- T3:  **SQRT**\n",
    "- TT4: **SQRT**\n",
    "- T4U: **LOG**\n",
    "- FTI: **SQRT**\n"
   ]
  },
  {
   "cell_type": "code",
   "execution_count": 49,
   "metadata": {},
   "outputs": [],
   "source": [
    "df_transformed = df_filled.copy(deep = True)\n"
   ]
  },
  {
   "cell_type": "code",
   "execution_count": null,
   "metadata": {},
   "outputs": [],
   "source": []
  },
  {
   "attachments": {},
   "cell_type": "markdown",
   "metadata": {},
   "source": [
    "#### Let's check first whether transformed columns are add in our dataset or not!!!"
   ]
  },
  {
   "cell_type": "code",
   "execution_count": 50,
   "metadata": {},
   "outputs": [
    {
     "data": {
      "text/plain": [
       "Index(['age', 'sex', 'on thyroxine', 'query on thyroxine',\n",
       "       'on antithyroid medication', 'sick', 'pregnant', 'thyroid surgery',\n",
       "       'I131 treatment', 'query hypothyroid', 'query hyperthyroid', 'lithium',\n",
       "       'goitre', 'tumor', 'hypopituitary', 'psych', 'TSH', 'T3', 'TT4', 'T4U',\n",
       "       'FTI', 'labels', 'log_age', 'sqrroot_age', 'log_TSH', 'sqrroot_TSH',\n",
       "       'log_T3', 'sqrroot_T3', 'log_TT4', 'sqrroot_TT4', 'log_T4U',\n",
       "       'sqrroot_T4U', 'log_FTI', 'sqrroot_FTI'],\n",
       "      dtype='object')"
      ]
     },
     "execution_count": 50,
     "metadata": {},
     "output_type": "execute_result"
    }
   ],
   "source": [
    "df_transformed.columns\n",
    "\n",
    "# new column added in our dataset"
   ]
  },
  {
   "cell_type": "code",
   "execution_count": 51,
   "metadata": {},
   "outputs": [
    {
     "data": {
      "text/plain": [
       "(2800, 34)"
      ]
     },
     "execution_count": 51,
     "metadata": {},
     "output_type": "execute_result"
    }
   ],
   "source": [
    "df_transformed.shape\n"
   ]
  },
  {
   "attachments": {},
   "cell_type": "markdown",
   "metadata": {},
   "source": [
    "#### Since, only the above transforamtion are useful in our case, we will drop others"
   ]
  },
  {
   "attachments": {},
   "cell_type": "markdown",
   "metadata": {},
   "source": [
    "#### Now Dropping transformed columns which are not useful in our case"
   ]
  },
  {
   "cell_type": "code",
   "execution_count": 52,
   "metadata": {},
   "outputs": [],
   "source": [
    "df_transformed.drop(['age', 'log_age', \\\n",
    "                     'TSH', 'sqrroot_TSH', \\\n",
    "                     'T3', 'log_T3', \\\n",
    "                     'TT4', 'log_TT4', \\\n",
    "                     'T4U', 'sqrroot_T4U', \\\n",
    "                     'FTI', 'log_FTI'], axis = 1, inplace = True)\n"
   ]
  },
  {
   "cell_type": "code",
   "execution_count": 53,
   "metadata": {},
   "outputs": [
    {
     "data": {
      "text/plain": [
       "Index(['sex', 'on thyroxine', 'query on thyroxine',\n",
       "       'on antithyroid medication', 'sick', 'pregnant', 'thyroid surgery',\n",
       "       'I131 treatment', 'query hypothyroid', 'query hyperthyroid', 'lithium',\n",
       "       'goitre', 'tumor', 'hypopituitary', 'psych', 'labels', 'sqrroot_age',\n",
       "       'log_TSH', 'sqrroot_T3', 'sqrroot_TT4', 'log_T4U', 'sqrroot_FTI'],\n",
       "      dtype='object')"
      ]
     },
     "execution_count": 53,
     "metadata": {},
     "output_type": "execute_result"
    }
   ],
   "source": [
    "df_transformed.columns\n"
   ]
  },
  {
   "cell_type": "code",
   "execution_count": 54,
   "metadata": {},
   "outputs": [
    {
     "data": {
      "text/plain": [
       "(2800, 22)"
      ]
     },
     "execution_count": 54,
     "metadata": {},
     "output_type": "execute_result"
    }
   ],
   "source": [
    "df_transformed.shape\n"
   ]
  },
  {
   "attachments": {},
   "cell_type": "markdown",
   "metadata": {},
   "source": [
    "##### Transformation END"
   ]
  },
  {
   "cell_type": "code",
   "execution_count": null,
   "metadata": {},
   "outputs": [],
   "source": []
  },
  {
   "cell_type": "code",
   "execution_count": null,
   "metadata": {},
   "outputs": [],
   "source": []
  },
  {
   "attachments": {},
   "cell_type": "markdown",
   "metadata": {},
   "source": [
    "Now we can do either Multi-collinearity part or Encoding first."
   ]
  },
  {
   "attachments": {},
   "cell_type": "markdown",
   "metadata": {},
   "source": [
    "### So, Let's explore the Encoding part first\n"
   ]
  },
  {
   "attachments": {},
   "cell_type": "markdown",
   "metadata": {},
   "source": [
    "We do encoding to convert Categorical features into Numerical.\n",
    "\n",
    "URLs:\n",
    "- https://www.analyticsvidhya.com/blog/2020/03/one-hot-encoding-vs-label-encoding-using-scikit-learn/\n",
    "- https://www.geeksforgeeks.org/ml-one-hot-encoding-of-datasets-in-python/\n",
    "\n",
    "Let's extract the Categorical features."
   ]
  },
  {
   "cell_type": "code",
   "execution_count": 55,
   "metadata": {},
   "outputs": [],
   "source": [
    "df_transformed_cat = df_transformed.select_dtypes(include = ['object','category'])\n"
   ]
  },
  {
   "cell_type": "code",
   "execution_count": 56,
   "metadata": {},
   "outputs": [
    {
     "data": {
      "text/plain": [
       "Index(['sex', 'on thyroxine', 'query on thyroxine',\n",
       "       'on antithyroid medication', 'sick', 'pregnant', 'thyroid surgery',\n",
       "       'I131 treatment', 'query hypothyroid', 'query hyperthyroid', 'lithium',\n",
       "       'goitre', 'tumor', 'hypopituitary', 'psych', 'labels'],\n",
       "      dtype='object')"
      ]
     },
     "execution_count": 56,
     "metadata": {},
     "output_type": "execute_result"
    }
   ],
   "source": [
    "df_transformed_cat.columns\n"
   ]
  },
  {
   "cell_type": "code",
   "execution_count": 57,
   "metadata": {},
   "outputs": [
    {
     "data": {
      "text/plain": [
       "(2800, 16)"
      ]
     },
     "execution_count": 57,
     "metadata": {},
     "output_type": "execute_result"
    }
   ],
   "source": [
    "df_transformed_cat.shape\n"
   ]
  },
  {
   "attachments": {},
   "cell_type": "markdown",
   "metadata": {},
   "source": [
    "#### Apply the One Hot Encoding"
   ]
  },
  {
   "cell_type": "code",
   "execution_count": 58,
   "metadata": {},
   "outputs": [],
   "source": [
    "df_onehot_encoded = pd.get_dummies(df_transformed_cat.iloc[:,:-1], drop_first = True)\n"
   ]
  },
  {
   "cell_type": "code",
   "execution_count": 59,
   "metadata": {},
   "outputs": [
    {
     "data": {
      "text/plain": [
       "Index(['sex_M', 'on thyroxine_t', 'query on thyroxine_t',\n",
       "       'on antithyroid medication_t', 'sick_t', 'pregnant_t',\n",
       "       'thyroid surgery_t', 'I131 treatment_t', 'query hypothyroid_t',\n",
       "       'query hyperthyroid_t', 'lithium_t', 'goitre_t', 'tumor_t',\n",
       "       'hypopituitary_t', 'psych_t'],\n",
       "      dtype='object')"
      ]
     },
     "execution_count": 59,
     "metadata": {},
     "output_type": "execute_result"
    }
   ],
   "source": [
    "df_onehot_encoded.columns\n"
   ]
  },
  {
   "attachments": {},
   "cell_type": "markdown",
   "metadata": {},
   "source": [
    "In case of Dummy Trap Problem:\n",
    "\n",
    "- Refer this: https://www.geeksforgeeks.org/ml-one-hot-encoding-of-datasets-in-python/"
   ]
  },
  {
   "cell_type": "code",
   "execution_count": 60,
   "metadata": {},
   "outputs": [
    {
     "data": {
      "text/plain": [
       "(2800, 15)"
      ]
     },
     "execution_count": 60,
     "metadata": {},
     "output_type": "execute_result"
    }
   ],
   "source": [
    "df_onehot_encoded.shape\n"
   ]
  },
  {
   "attachments": {},
   "cell_type": "markdown",
   "metadata": {},
   "source": [
    "Now, let's do the label encoding on the target/labels columns (dependent feature)"
   ]
  },
  {
   "cell_type": "code",
   "execution_count": 61,
   "metadata": {},
   "outputs": [],
   "source": [
    "df_transformed_label = pd.DataFrame(df_transformed_cat.iloc[:,-1])\n"
   ]
  },
  {
   "cell_type": "code",
   "execution_count": 62,
   "metadata": {},
   "outputs": [
    {
     "data": {
      "text/html": [
       "<div>\n",
       "<style scoped>\n",
       "    .dataframe tbody tr th:only-of-type {\n",
       "        vertical-align: middle;\n",
       "    }\n",
       "\n",
       "    .dataframe tbody tr th {\n",
       "        vertical-align: top;\n",
       "    }\n",
       "\n",
       "    .dataframe thead th {\n",
       "        text-align: right;\n",
       "    }\n",
       "</style>\n",
       "<table border=\"1\" class=\"dataframe\">\n",
       "  <thead>\n",
       "    <tr style=\"text-align: right;\">\n",
       "      <th></th>\n",
       "      <th>labels</th>\n",
       "    </tr>\n",
       "  </thead>\n",
       "  <tbody>\n",
       "    <tr>\n",
       "      <th>0</th>\n",
       "      <td>negative</td>\n",
       "    </tr>\n",
       "    <tr>\n",
       "      <th>1</th>\n",
       "      <td>negative</td>\n",
       "    </tr>\n",
       "    <tr>\n",
       "      <th>2</th>\n",
       "      <td>negative</td>\n",
       "    </tr>\n",
       "    <tr>\n",
       "      <th>3</th>\n",
       "      <td>negative</td>\n",
       "    </tr>\n",
       "    <tr>\n",
       "      <th>4</th>\n",
       "      <td>negative</td>\n",
       "    </tr>\n",
       "  </tbody>\n",
       "</table>\n",
       "</div>"
      ],
      "text/plain": [
       "     labels\n",
       "0  negative\n",
       "1  negative\n",
       "2  negative\n",
       "3  negative\n",
       "4  negative"
      ]
     },
     "execution_count": 62,
     "metadata": {},
     "output_type": "execute_result"
    }
   ],
   "source": [
    "df_transformed_label.head()"
   ]
  },
  {
   "cell_type": "code",
   "execution_count": 63,
   "metadata": {},
   "outputs": [],
   "source": [
    "from sklearn import preprocessing\n",
    " \n",
    "# label_encoder object knows how to understand word labels.\n",
    "label_encoder_random_forest = preprocessing.LabelEncoder()\n",
    " \n",
    "# Encode labels in column 'labels'.\n",
    "df_transformed_label['labels']= label_encoder_random_forest.fit_transform(df_transformed_label)\n",
    "\n",
    "# we will save the encoder as pickle to use when we do the prediction. We will need to decode the predcited values\n",
    "# back to original\n",
    "\n",
    "file = \"label_encoder_random_forest.pickle\"\n",
    "pickle.dump(label_encoder_random_forest, open(file, \"wb\"))\n",
    "\n"
   ]
  },
  {
   "cell_type": "code",
   "execution_count": 64,
   "metadata": {},
   "outputs": [
    {
     "data": {
      "text/plain": [
       "array([2, 1, 0])"
      ]
     },
     "execution_count": 64,
     "metadata": {},
     "output_type": "execute_result"
    }
   ],
   "source": [
    "df_transformed_label['labels'].unique()\n"
   ]
  },
  {
   "cell_type": "code",
   "execution_count": 65,
   "metadata": {},
   "outputs": [
    {
     "data": {
      "text/plain": [
       "['negative', 'hypothyroid', 'hyperthyroid']"
      ]
     },
     "execution_count": 65,
     "metadata": {},
     "output_type": "execute_result"
    }
   ],
   "source": [
    "list (label_encoder_random_forest.inverse_transform([2, 1, 0]))\n",
    "\n",
    "# ['negative', 'hypothyroid', 'hyperthyroid']"
   ]
  },
  {
   "cell_type": "code",
   "execution_count": 66,
   "metadata": {},
   "outputs": [
    {
     "data": {
      "text/html": [
       "<div>\n",
       "<style scoped>\n",
       "    .dataframe tbody tr th:only-of-type {\n",
       "        vertical-align: middle;\n",
       "    }\n",
       "\n",
       "    .dataframe tbody tr th {\n",
       "        vertical-align: top;\n",
       "    }\n",
       "\n",
       "    .dataframe thead th {\n",
       "        text-align: right;\n",
       "    }\n",
       "</style>\n",
       "<table border=\"1\" class=\"dataframe\">\n",
       "  <thead>\n",
       "    <tr style=\"text-align: right;\">\n",
       "      <th></th>\n",
       "      <th>labels</th>\n",
       "    </tr>\n",
       "  </thead>\n",
       "  <tbody>\n",
       "    <tr>\n",
       "      <th>0</th>\n",
       "      <td>2</td>\n",
       "    </tr>\n",
       "    <tr>\n",
       "      <th>1</th>\n",
       "      <td>2</td>\n",
       "    </tr>\n",
       "    <tr>\n",
       "      <th>2</th>\n",
       "      <td>2</td>\n",
       "    </tr>\n",
       "    <tr>\n",
       "      <th>3</th>\n",
       "      <td>2</td>\n",
       "    </tr>\n",
       "    <tr>\n",
       "      <th>4</th>\n",
       "      <td>2</td>\n",
       "    </tr>\n",
       "  </tbody>\n",
       "</table>\n",
       "</div>"
      ],
      "text/plain": [
       "   labels\n",
       "0       2\n",
       "1       2\n",
       "2       2\n",
       "3       2\n",
       "4       2"
      ]
     },
     "execution_count": 66,
     "metadata": {},
     "output_type": "execute_result"
    }
   ],
   "source": [
    "df_transformed_label.head()"
   ]
  },
  {
   "cell_type": "code",
   "execution_count": 67,
   "metadata": {},
   "outputs": [
    {
     "data": {
      "text/html": [
       "<div>\n",
       "<style scoped>\n",
       "    .dataframe tbody tr th:only-of-type {\n",
       "        vertical-align: middle;\n",
       "    }\n",
       "\n",
       "    .dataframe tbody tr th {\n",
       "        vertical-align: top;\n",
       "    }\n",
       "\n",
       "    .dataframe thead th {\n",
       "        text-align: right;\n",
       "    }\n",
       "</style>\n",
       "<table border=\"1\" class=\"dataframe\">\n",
       "  <thead>\n",
       "    <tr style=\"text-align: right;\">\n",
       "      <th></th>\n",
       "      <th>sex_M</th>\n",
       "      <th>on thyroxine_t</th>\n",
       "      <th>query on thyroxine_t</th>\n",
       "      <th>on antithyroid medication_t</th>\n",
       "      <th>sick_t</th>\n",
       "      <th>pregnant_t</th>\n",
       "      <th>thyroid surgery_t</th>\n",
       "      <th>I131 treatment_t</th>\n",
       "      <th>query hypothyroid_t</th>\n",
       "      <th>query hyperthyroid_t</th>\n",
       "      <th>lithium_t</th>\n",
       "      <th>goitre_t</th>\n",
       "      <th>tumor_t</th>\n",
       "      <th>hypopituitary_t</th>\n",
       "      <th>psych_t</th>\n",
       "    </tr>\n",
       "  </thead>\n",
       "  <tbody>\n",
       "    <tr>\n",
       "      <th>0</th>\n",
       "      <td>0</td>\n",
       "      <td>0</td>\n",
       "      <td>0</td>\n",
       "      <td>0</td>\n",
       "      <td>0</td>\n",
       "      <td>0</td>\n",
       "      <td>0</td>\n",
       "      <td>0</td>\n",
       "      <td>0</td>\n",
       "      <td>0</td>\n",
       "      <td>0</td>\n",
       "      <td>0</td>\n",
       "      <td>0</td>\n",
       "      <td>0</td>\n",
       "      <td>0</td>\n",
       "    </tr>\n",
       "    <tr>\n",
       "      <th>1</th>\n",
       "      <td>0</td>\n",
       "      <td>0</td>\n",
       "      <td>0</td>\n",
       "      <td>0</td>\n",
       "      <td>0</td>\n",
       "      <td>0</td>\n",
       "      <td>0</td>\n",
       "      <td>0</td>\n",
       "      <td>0</td>\n",
       "      <td>0</td>\n",
       "      <td>0</td>\n",
       "      <td>0</td>\n",
       "      <td>0</td>\n",
       "      <td>0</td>\n",
       "      <td>0</td>\n",
       "    </tr>\n",
       "    <tr>\n",
       "      <th>2</th>\n",
       "      <td>1</td>\n",
       "      <td>0</td>\n",
       "      <td>0</td>\n",
       "      <td>0</td>\n",
       "      <td>0</td>\n",
       "      <td>0</td>\n",
       "      <td>0</td>\n",
       "      <td>0</td>\n",
       "      <td>0</td>\n",
       "      <td>0</td>\n",
       "      <td>0</td>\n",
       "      <td>0</td>\n",
       "      <td>0</td>\n",
       "      <td>0</td>\n",
       "      <td>0</td>\n",
       "    </tr>\n",
       "    <tr>\n",
       "      <th>3</th>\n",
       "      <td>0</td>\n",
       "      <td>1</td>\n",
       "      <td>0</td>\n",
       "      <td>0</td>\n",
       "      <td>0</td>\n",
       "      <td>0</td>\n",
       "      <td>0</td>\n",
       "      <td>0</td>\n",
       "      <td>0</td>\n",
       "      <td>0</td>\n",
       "      <td>0</td>\n",
       "      <td>0</td>\n",
       "      <td>0</td>\n",
       "      <td>0</td>\n",
       "      <td>0</td>\n",
       "    </tr>\n",
       "    <tr>\n",
       "      <th>4</th>\n",
       "      <td>0</td>\n",
       "      <td>0</td>\n",
       "      <td>0</td>\n",
       "      <td>0</td>\n",
       "      <td>0</td>\n",
       "      <td>0</td>\n",
       "      <td>0</td>\n",
       "      <td>0</td>\n",
       "      <td>0</td>\n",
       "      <td>0</td>\n",
       "      <td>0</td>\n",
       "      <td>0</td>\n",
       "      <td>0</td>\n",
       "      <td>0</td>\n",
       "      <td>0</td>\n",
       "    </tr>\n",
       "  </tbody>\n",
       "</table>\n",
       "</div>"
      ],
      "text/plain": [
       "   sex_M  on thyroxine_t  query on thyroxine_t  on antithyroid medication_t  \\\n",
       "0      0               0                     0                            0   \n",
       "1      0               0                     0                            0   \n",
       "2      1               0                     0                            0   \n",
       "3      0               1                     0                            0   \n",
       "4      0               0                     0                            0   \n",
       "\n",
       "   sick_t  pregnant_t  thyroid surgery_t  I131 treatment_t  \\\n",
       "0       0           0                  0                 0   \n",
       "1       0           0                  0                 0   \n",
       "2       0           0                  0                 0   \n",
       "3       0           0                  0                 0   \n",
       "4       0           0                  0                 0   \n",
       "\n",
       "   query hypothyroid_t  query hyperthyroid_t  lithium_t  goitre_t  tumor_t  \\\n",
       "0                    0                     0          0         0        0   \n",
       "1                    0                     0          0         0        0   \n",
       "2                    0                     0          0         0        0   \n",
       "3                    0                     0          0         0        0   \n",
       "4                    0                     0          0         0        0   \n",
       "\n",
       "   hypopituitary_t  psych_t  \n",
       "0                0        0  \n",
       "1                0        0  \n",
       "2                0        0  \n",
       "3                0        0  \n",
       "4                0        0  "
      ]
     },
     "execution_count": 67,
     "metadata": {},
     "output_type": "execute_result"
    }
   ],
   "source": [
    "df_onehot_encoded.head()\n"
   ]
  },
  {
   "cell_type": "code",
   "execution_count": null,
   "metadata": {},
   "outputs": [],
   "source": []
  },
  {
   "attachments": {},
   "cell_type": "markdown",
   "metadata": {},
   "source": [
    "Let's concatnate the categorical features with encoded label"
   ]
  },
  {
   "cell_type": "code",
   "execution_count": 68,
   "metadata": {},
   "outputs": [],
   "source": [
    "df_encoded_cat = pd.concat([df_onehot_encoded, df_transformed_label], axis = 1)\n"
   ]
  },
  {
   "cell_type": "code",
   "execution_count": 69,
   "metadata": {},
   "outputs": [
    {
     "data": {
      "text/html": [
       "<div>\n",
       "<style scoped>\n",
       "    .dataframe tbody tr th:only-of-type {\n",
       "        vertical-align: middle;\n",
       "    }\n",
       "\n",
       "    .dataframe tbody tr th {\n",
       "        vertical-align: top;\n",
       "    }\n",
       "\n",
       "    .dataframe thead th {\n",
       "        text-align: right;\n",
       "    }\n",
       "</style>\n",
       "<table border=\"1\" class=\"dataframe\">\n",
       "  <thead>\n",
       "    <tr style=\"text-align: right;\">\n",
       "      <th></th>\n",
       "      <th>sex_M</th>\n",
       "      <th>on thyroxine_t</th>\n",
       "      <th>query on thyroxine_t</th>\n",
       "      <th>on antithyroid medication_t</th>\n",
       "      <th>sick_t</th>\n",
       "      <th>pregnant_t</th>\n",
       "      <th>thyroid surgery_t</th>\n",
       "      <th>I131 treatment_t</th>\n",
       "      <th>query hypothyroid_t</th>\n",
       "      <th>query hyperthyroid_t</th>\n",
       "      <th>lithium_t</th>\n",
       "      <th>goitre_t</th>\n",
       "      <th>tumor_t</th>\n",
       "      <th>hypopituitary_t</th>\n",
       "      <th>psych_t</th>\n",
       "      <th>labels</th>\n",
       "    </tr>\n",
       "  </thead>\n",
       "  <tbody>\n",
       "    <tr>\n",
       "      <th>0</th>\n",
       "      <td>0</td>\n",
       "      <td>0</td>\n",
       "      <td>0</td>\n",
       "      <td>0</td>\n",
       "      <td>0</td>\n",
       "      <td>0</td>\n",
       "      <td>0</td>\n",
       "      <td>0</td>\n",
       "      <td>0</td>\n",
       "      <td>0</td>\n",
       "      <td>0</td>\n",
       "      <td>0</td>\n",
       "      <td>0</td>\n",
       "      <td>0</td>\n",
       "      <td>0</td>\n",
       "      <td>2</td>\n",
       "    </tr>\n",
       "    <tr>\n",
       "      <th>1</th>\n",
       "      <td>0</td>\n",
       "      <td>0</td>\n",
       "      <td>0</td>\n",
       "      <td>0</td>\n",
       "      <td>0</td>\n",
       "      <td>0</td>\n",
       "      <td>0</td>\n",
       "      <td>0</td>\n",
       "      <td>0</td>\n",
       "      <td>0</td>\n",
       "      <td>0</td>\n",
       "      <td>0</td>\n",
       "      <td>0</td>\n",
       "      <td>0</td>\n",
       "      <td>0</td>\n",
       "      <td>2</td>\n",
       "    </tr>\n",
       "    <tr>\n",
       "      <th>2</th>\n",
       "      <td>1</td>\n",
       "      <td>0</td>\n",
       "      <td>0</td>\n",
       "      <td>0</td>\n",
       "      <td>0</td>\n",
       "      <td>0</td>\n",
       "      <td>0</td>\n",
       "      <td>0</td>\n",
       "      <td>0</td>\n",
       "      <td>0</td>\n",
       "      <td>0</td>\n",
       "      <td>0</td>\n",
       "      <td>0</td>\n",
       "      <td>0</td>\n",
       "      <td>0</td>\n",
       "      <td>2</td>\n",
       "    </tr>\n",
       "    <tr>\n",
       "      <th>3</th>\n",
       "      <td>0</td>\n",
       "      <td>1</td>\n",
       "      <td>0</td>\n",
       "      <td>0</td>\n",
       "      <td>0</td>\n",
       "      <td>0</td>\n",
       "      <td>0</td>\n",
       "      <td>0</td>\n",
       "      <td>0</td>\n",
       "      <td>0</td>\n",
       "      <td>0</td>\n",
       "      <td>0</td>\n",
       "      <td>0</td>\n",
       "      <td>0</td>\n",
       "      <td>0</td>\n",
       "      <td>2</td>\n",
       "    </tr>\n",
       "    <tr>\n",
       "      <th>4</th>\n",
       "      <td>0</td>\n",
       "      <td>0</td>\n",
       "      <td>0</td>\n",
       "      <td>0</td>\n",
       "      <td>0</td>\n",
       "      <td>0</td>\n",
       "      <td>0</td>\n",
       "      <td>0</td>\n",
       "      <td>0</td>\n",
       "      <td>0</td>\n",
       "      <td>0</td>\n",
       "      <td>0</td>\n",
       "      <td>0</td>\n",
       "      <td>0</td>\n",
       "      <td>0</td>\n",
       "      <td>2</td>\n",
       "    </tr>\n",
       "  </tbody>\n",
       "</table>\n",
       "</div>"
      ],
      "text/plain": [
       "   sex_M  on thyroxine_t  query on thyroxine_t  on antithyroid medication_t  \\\n",
       "0      0               0                     0                            0   \n",
       "1      0               0                     0                            0   \n",
       "2      1               0                     0                            0   \n",
       "3      0               1                     0                            0   \n",
       "4      0               0                     0                            0   \n",
       "\n",
       "   sick_t  pregnant_t  thyroid surgery_t  I131 treatment_t  \\\n",
       "0       0           0                  0                 0   \n",
       "1       0           0                  0                 0   \n",
       "2       0           0                  0                 0   \n",
       "3       0           0                  0                 0   \n",
       "4       0           0                  0                 0   \n",
       "\n",
       "   query hypothyroid_t  query hyperthyroid_t  lithium_t  goitre_t  tumor_t  \\\n",
       "0                    0                     0          0         0        0   \n",
       "1                    0                     0          0         0        0   \n",
       "2                    0                     0          0         0        0   \n",
       "3                    0                     0          0         0        0   \n",
       "4                    0                     0          0         0        0   \n",
       "\n",
       "   hypopituitary_t  psych_t  labels  \n",
       "0                0        0       2  \n",
       "1                0        0       2  \n",
       "2                0        0       2  \n",
       "3                0        0       2  \n",
       "4                0        0       2  "
      ]
     },
     "execution_count": 69,
     "metadata": {},
     "output_type": "execute_result"
    }
   ],
   "source": [
    "df_encoded_cat.head()\n",
    "\n",
    "# concatnation done"
   ]
  },
  {
   "attachments": {},
   "cell_type": "markdown",
   "metadata": {},
   "source": [
    "##### Encoding END"
   ]
  },
  {
   "cell_type": "code",
   "execution_count": null,
   "metadata": {},
   "outputs": [],
   "source": []
  },
  {
   "cell_type": "code",
   "execution_count": null,
   "metadata": {},
   "outputs": [],
   "source": []
  },
  {
   "attachments": {},
   "cell_type": "markdown",
   "metadata": {},
   "source": [
    "### Multi-collinearity\n",
    "\n"
   ]
  },
  {
   "attachments": {},
   "cell_type": "markdown",
   "metadata": {},
   "source": [
    "Multi-collinearlity: One independent feature is **depend** on another independent feature.\n",
    "\n",
    "So, it's a problem because independent feature should be independent **only** (not dependent)"
   ]
  },
  {
   "attachments": {},
   "cell_type": "markdown",
   "metadata": {},
   "source": [
    "Few suggestions from people:\n",
    "\n",
    "- If we are using linear Model to solve problem, we have to deal with Multicollinearity\n",
    "- And Linear models are Model which creates a line to predict or separate\n",
    "- Example Linear Models: SVM, Logistic Regression, Linear Regression\n",
    "\n",
    "- If you're going to solve using decision tree or any other tree model then no need to deal with Multicollinearity\n",
    "\n",
    "- And to check Multicollinearity - Scatter plot, correlation and VIF (between independent features)\n",
    "\n",
    "- For classification problems - checking independent vs dependent feature is not useful\n",
    "\n",
    "- Multicollinearity is entirely for independent features\n",
    "\n",
    "\n",
    "URLs:\n",
    "- https://www.analyticsvidhya.com/blog/2020/03/what-is-multicollinearity/\n",
    "    \n",
    "- https://online.stat.psu.edu/stat462/node/180/\n",
    "    \n",
    "- https://towardsdatascience.com/how-to-detect-and-deal-with-multicollinearity-9e02b18695f1\n",
    "    \n",
    "- https://statisticsbyjim.com/regression/multicollinearity-in-regression-analysis/\n",
    "\n",
    "- https://www.geeksforgeeks.org/detecting-multicollinearity-with-vif-python/\n",
    "\n",
    "- https://www.datasklr.com/ols-least-squares-regression/multicollinearity\n",
    "\n",
    "- https://cran.r-project.org/web/packages/olsrr/vignettes/regression_diagnostics.html"
   ]
  },
  {
   "attachments": {},
   "cell_type": "markdown",
   "metadata": {},
   "source": [
    "**Inferences:** We need to handle the Multi-collinearity"
   ]
  },
  {
   "attachments": {},
   "cell_type": "markdown",
   "metadata": {},
   "source": [
    "#### Let's check and handle the Multi-collinearity in Numerical features"
   ]
  },
  {
   "cell_type": "code",
   "execution_count": 70,
   "metadata": {},
   "outputs": [],
   "source": [
    "df_numerical = df_transformed.select_dtypes(include = np.number)\n"
   ]
  },
  {
   "cell_type": "code",
   "execution_count": 71,
   "metadata": {},
   "outputs": [
    {
     "data": {
      "text/html": [
       "<div>\n",
       "<style scoped>\n",
       "    .dataframe tbody tr th:only-of-type {\n",
       "        vertical-align: middle;\n",
       "    }\n",
       "\n",
       "    .dataframe tbody tr th {\n",
       "        vertical-align: top;\n",
       "    }\n",
       "\n",
       "    .dataframe thead th {\n",
       "        text-align: right;\n",
       "    }\n",
       "</style>\n",
       "<table border=\"1\" class=\"dataframe\">\n",
       "  <thead>\n",
       "    <tr style=\"text-align: right;\">\n",
       "      <th></th>\n",
       "      <th>sqrroot_age</th>\n",
       "      <th>log_TSH</th>\n",
       "      <th>sqrroot_T3</th>\n",
       "      <th>sqrroot_TT4</th>\n",
       "      <th>log_T4U</th>\n",
       "      <th>sqrroot_FTI</th>\n",
       "    </tr>\n",
       "  </thead>\n",
       "  <tbody>\n",
       "    <tr>\n",
       "      <th>0</th>\n",
       "      <td>6.403124</td>\n",
       "      <td>0.832909</td>\n",
       "      <td>1.581139</td>\n",
       "      <td>11.180340</td>\n",
       "      <td>0.760806</td>\n",
       "      <td>10.440307</td>\n",
       "    </tr>\n",
       "    <tr>\n",
       "      <th>1</th>\n",
       "      <td>4.795832</td>\n",
       "      <td>1.629241</td>\n",
       "      <td>1.414214</td>\n",
       "      <td>10.099505</td>\n",
       "      <td>0.683097</td>\n",
       "      <td>10.344080</td>\n",
       "    </tr>\n",
       "    <tr>\n",
       "      <th>2</th>\n",
       "      <td>6.782330</td>\n",
       "      <td>0.683097</td>\n",
       "      <td>1.414214</td>\n",
       "      <td>10.440307</td>\n",
       "      <td>0.647103</td>\n",
       "      <td>10.954451</td>\n",
       "    </tr>\n",
       "    <tr>\n",
       "      <th>3</th>\n",
       "      <td>8.366600</td>\n",
       "      <td>0.148420</td>\n",
       "      <td>1.378405</td>\n",
       "      <td>13.228757</td>\n",
       "      <td>0.683097</td>\n",
       "      <td>10.344080</td>\n",
       "    </tr>\n",
       "    <tr>\n",
       "      <th>4</th>\n",
       "      <td>8.366600</td>\n",
       "      <td>0.542324</td>\n",
       "      <td>1.095445</td>\n",
       "      <td>7.810250</td>\n",
       "      <td>0.625938</td>\n",
       "      <td>8.366600</td>\n",
       "    </tr>\n",
       "  </tbody>\n",
       "</table>\n",
       "</div>"
      ],
      "text/plain": [
       "   sqrroot_age   log_TSH  sqrroot_T3  sqrroot_TT4   log_T4U  sqrroot_FTI\n",
       "0     6.403124  0.832909    1.581139    11.180340  0.760806    10.440307\n",
       "1     4.795832  1.629241    1.414214    10.099505  0.683097    10.344080\n",
       "2     6.782330  0.683097    1.414214    10.440307  0.647103    10.954451\n",
       "3     8.366600  0.148420    1.378405    13.228757  0.683097    10.344080\n",
       "4     8.366600  0.542324    1.095445     7.810250  0.625938     8.366600"
      ]
     },
     "execution_count": 71,
     "metadata": {},
     "output_type": "execute_result"
    }
   ],
   "source": [
    "df_numerical.head()\n"
   ]
  },
  {
   "attachments": {},
   "cell_type": "markdown",
   "metadata": {},
   "source": [
    "**Ways to check Multi-collinearity:** Scatter plot, Correlation and Variance Inflation Factor (VIF) - between independent features\n",
    "\n",
    "**Can you calculate VIF for categorical variables?**\n",
    "- VIF cannot be used on categorical data. Statistically speaking, it wouldn't make sense.\n",
    "- If you want to check independence between 2 categorical variables you can however run a Chi-square test."
   ]
  },
  {
   "cell_type": "code",
   "execution_count": 72,
   "metadata": {},
   "outputs": [],
   "source": [
    "def calculate_vif(X):\n",
    "\n",
    "    # Calculating VIF\n",
    "    \n",
    "    vif = pd.DataFrame()\n",
    "    vif[\"variables\"] = X.columns\n",
    "    vif[\"VIF\"] = [ variance_inflation_factor(X.values, i) for i in range(X.shape[1]) ]\n",
    "\n",
    "    return(vif)"
   ]
  },
  {
   "attachments": {},
   "cell_type": "markdown",
   "metadata": {},
   "source": [
    "#### Some VIF Rules:\n",
    "\n",
    "- VIF starts at 1 and has no upper limit\n",
    "\n",
    "- VIF = 1, no correlation between the independent variable and the other variables\n",
    "\n",
    "- VIF exceeding 5 or 10 indicates high multicollinearity between this independent variable and the others\n",
    "\n",
    "- VIF = 1 → No correlation\n",
    "\n",
    "- VIF = 1 to 5 → Moderate correlation\n",
    "\n",
    "- VIF > 10 → High correlation"
   ]
  },
  {
   "cell_type": "code",
   "execution_count": 73,
   "metadata": {},
   "outputs": [
    {
     "data": {
      "text/html": [
       "<div>\n",
       "<style scoped>\n",
       "    .dataframe tbody tr th:only-of-type {\n",
       "        vertical-align: middle;\n",
       "    }\n",
       "\n",
       "    .dataframe tbody tr th {\n",
       "        vertical-align: top;\n",
       "    }\n",
       "\n",
       "    .dataframe thead th {\n",
       "        text-align: right;\n",
       "    }\n",
       "</style>\n",
       "<table border=\"1\" class=\"dataframe\">\n",
       "  <thead>\n",
       "    <tr style=\"text-align: right;\">\n",
       "      <th></th>\n",
       "      <th>variables</th>\n",
       "      <th>VIF</th>\n",
       "    </tr>\n",
       "  </thead>\n",
       "  <tbody>\n",
       "    <tr>\n",
       "      <th>0</th>\n",
       "      <td>sqrroot_age</td>\n",
       "      <td>23.879352</td>\n",
       "    </tr>\n",
       "    <tr>\n",
       "      <th>1</th>\n",
       "      <td>log_TSH</td>\n",
       "      <td>3.341043</td>\n",
       "    </tr>\n",
       "    <tr>\n",
       "      <th>2</th>\n",
       "      <td>sqrroot_T3</td>\n",
       "      <td>49.171247</td>\n",
       "    </tr>\n",
       "    <tr>\n",
       "      <th>3</th>\n",
       "      <td>sqrroot_TT4</td>\n",
       "      <td>282.213577</td>\n",
       "    </tr>\n",
       "    <tr>\n",
       "      <th>4</th>\n",
       "      <td>log_T4U</td>\n",
       "      <td>112.040640</td>\n",
       "    </tr>\n",
       "    <tr>\n",
       "      <th>5</th>\n",
       "      <td>sqrroot_FTI</td>\n",
       "      <td>183.589494</td>\n",
       "    </tr>\n",
       "  </tbody>\n",
       "</table>\n",
       "</div>"
      ],
      "text/plain": [
       "     variables         VIF\n",
       "0  sqrroot_age   23.879352\n",
       "1      log_TSH    3.341043\n",
       "2   sqrroot_T3   49.171247\n",
       "3  sqrroot_TT4  282.213577\n",
       "4      log_T4U  112.040640\n",
       "5  sqrroot_FTI  183.589494"
      ]
     },
     "execution_count": 73,
     "metadata": {},
     "output_type": "execute_result"
    }
   ],
   "source": [
    "calculate_vif(df_numerical)\n"
   ]
  },
  {
   "attachments": {},
   "cell_type": "markdown",
   "metadata": {},
   "source": [
    "#### Observations:\n",
    "    \n",
    "These features are having high correlation:\n",
    "- sqrroot_age\n",
    "- sqrroot_T3\n",
    "- sqrroot_TT4\n",
    "- log_T4U\n",
    "- sqrroot_FTI"
   ]
  },
  {
   "attachments": {},
   "cell_type": "markdown",
   "metadata": {},
   "source": [
    "#### Now, let's handle this carefully. Explore what is happening in behind the scene of the VIF!\n",
    "\n",
    "After googling, we found on article and it's mentioned:\n",
    "- variance_inflation_factor expects the presence of a constant in the matrix of explanatory variables\n",
    "\n",
    "\n",
    "URL: https://stackoverflow.com/questions/42658379/variance-inflation-factor-in-python"
   ]
  },
  {
   "attachments": {},
   "cell_type": "markdown",
   "metadata": {},
   "source": [
    "#### Let's deep dive what does it means?\n",
    "\n",
    "First understood this:\n",
    "\n",
    "- The statsmodel API assumes line passes through origin. Hence intercept is 0.\n",
    "\n",
    "- In that case If we try to build a linear regression model using statsmodel model our intercept will always be 0.\n",
    "\n",
    "- So, we externally have to tell statsmodel API that our intercept should not be 0. And that's why we have to add constant in our dataset.\n",
    "\n",
    "- If we do linear regression via SKlib, then it internally add constant. But in statsmodel, we have to do this externally.\n"
   ]
  },
  {
   "attachments": {},
   "cell_type": "markdown",
   "metadata": {},
   "source": [
    "Now coming to VIF.\n",
    "\n",
    "- Internally VIF is nothing but a Linear regression.\n",
    "\n",
    "- So, in the backend, each independent model is predicted using other independent model.\n",
    "\n",
    "- E.g. if we have X, Y, Z columns in the dataset.\n",
    "\n",
    "- Y & Z are used as independent features and X become dependent feature.\n",
    "\n",
    "- Similarly, X & Y will act as independent features. This 2 will predict Z.\n",
    "\n",
    "- And similarly, X & Z will act as independent features. They 2 will predict Y.\n",
    "\n",
    "- This means VIF is using Linear Regression and this VIF is present in statsmodel API.\n",
    "\n",
    "- And in statsmodel API, we need to externally add a constant variable in the dataset.\n"
   ]
  },
  {
   "attachments": {},
   "cell_type": "markdown",
   "metadata": {},
   "source": [
    "##### Read above paragraphs for more clarification."
   ]
  },
  {
   "cell_type": "code",
   "execution_count": 74,
   "metadata": {},
   "outputs": [],
   "source": [
    "df_numerical_constant = df_numerical.copy(deep = True)\n"
   ]
  },
  {
   "cell_type": "code",
   "execution_count": 75,
   "metadata": {},
   "outputs": [],
   "source": [
    "df_numerical_constant['constant'] = 1\n",
    "\n",
    "## adding 1 constant in our dataset."
   ]
  },
  {
   "cell_type": "code",
   "execution_count": 76,
   "metadata": {},
   "outputs": [
    {
     "data": {
      "text/html": [
       "<div>\n",
       "<style scoped>\n",
       "    .dataframe tbody tr th:only-of-type {\n",
       "        vertical-align: middle;\n",
       "    }\n",
       "\n",
       "    .dataframe tbody tr th {\n",
       "        vertical-align: top;\n",
       "    }\n",
       "\n",
       "    .dataframe thead th {\n",
       "        text-align: right;\n",
       "    }\n",
       "</style>\n",
       "<table border=\"1\" class=\"dataframe\">\n",
       "  <thead>\n",
       "    <tr style=\"text-align: right;\">\n",
       "      <th></th>\n",
       "      <th>sqrroot_age</th>\n",
       "      <th>log_TSH</th>\n",
       "      <th>sqrroot_T3</th>\n",
       "      <th>sqrroot_TT4</th>\n",
       "      <th>log_T4U</th>\n",
       "      <th>sqrroot_FTI</th>\n",
       "      <th>constant</th>\n",
       "    </tr>\n",
       "  </thead>\n",
       "  <tbody>\n",
       "    <tr>\n",
       "      <th>0</th>\n",
       "      <td>6.403124</td>\n",
       "      <td>0.832909</td>\n",
       "      <td>1.581139</td>\n",
       "      <td>11.180340</td>\n",
       "      <td>0.760806</td>\n",
       "      <td>10.440307</td>\n",
       "      <td>1</td>\n",
       "    </tr>\n",
       "    <tr>\n",
       "      <th>1</th>\n",
       "      <td>4.795832</td>\n",
       "      <td>1.629241</td>\n",
       "      <td>1.414214</td>\n",
       "      <td>10.099505</td>\n",
       "      <td>0.683097</td>\n",
       "      <td>10.344080</td>\n",
       "      <td>1</td>\n",
       "    </tr>\n",
       "    <tr>\n",
       "      <th>2</th>\n",
       "      <td>6.782330</td>\n",
       "      <td>0.683097</td>\n",
       "      <td>1.414214</td>\n",
       "      <td>10.440307</td>\n",
       "      <td>0.647103</td>\n",
       "      <td>10.954451</td>\n",
       "      <td>1</td>\n",
       "    </tr>\n",
       "    <tr>\n",
       "      <th>3</th>\n",
       "      <td>8.366600</td>\n",
       "      <td>0.148420</td>\n",
       "      <td>1.378405</td>\n",
       "      <td>13.228757</td>\n",
       "      <td>0.683097</td>\n",
       "      <td>10.344080</td>\n",
       "      <td>1</td>\n",
       "    </tr>\n",
       "    <tr>\n",
       "      <th>4</th>\n",
       "      <td>8.366600</td>\n",
       "      <td>0.542324</td>\n",
       "      <td>1.095445</td>\n",
       "      <td>7.810250</td>\n",
       "      <td>0.625938</td>\n",
       "      <td>8.366600</td>\n",
       "      <td>1</td>\n",
       "    </tr>\n",
       "  </tbody>\n",
       "</table>\n",
       "</div>"
      ],
      "text/plain": [
       "   sqrroot_age   log_TSH  sqrroot_T3  sqrroot_TT4   log_T4U  sqrroot_FTI  \\\n",
       "0     6.403124  0.832909    1.581139    11.180340  0.760806    10.440307   \n",
       "1     4.795832  1.629241    1.414214    10.099505  0.683097    10.344080   \n",
       "2     6.782330  0.683097    1.414214    10.440307  0.647103    10.954451   \n",
       "3     8.366600  0.148420    1.378405    13.228757  0.683097    10.344080   \n",
       "4     8.366600  0.542324    1.095445     7.810250  0.625938     8.366600   \n",
       "\n",
       "   constant  \n",
       "0         1  \n",
       "1         1  \n",
       "2         1  \n",
       "3         1  \n",
       "4         1  "
      ]
     },
     "execution_count": 76,
     "metadata": {},
     "output_type": "execute_result"
    }
   ],
   "source": [
    "df_numerical_constant.head()\n"
   ]
  },
  {
   "cell_type": "code",
   "execution_count": 77,
   "metadata": {},
   "outputs": [
    {
     "data": {
      "text/html": [
       "<div>\n",
       "<style scoped>\n",
       "    .dataframe tbody tr th:only-of-type {\n",
       "        vertical-align: middle;\n",
       "    }\n",
       "\n",
       "    .dataframe tbody tr th {\n",
       "        vertical-align: top;\n",
       "    }\n",
       "\n",
       "    .dataframe thead th {\n",
       "        text-align: right;\n",
       "    }\n",
       "</style>\n",
       "<table border=\"1\" class=\"dataframe\">\n",
       "  <thead>\n",
       "    <tr style=\"text-align: right;\">\n",
       "      <th></th>\n",
       "      <th>variables</th>\n",
       "      <th>VIF</th>\n",
       "    </tr>\n",
       "  </thead>\n",
       "  <tbody>\n",
       "    <tr>\n",
       "      <th>0</th>\n",
       "      <td>sqrroot_age</td>\n",
       "      <td>1.079170</td>\n",
       "    </tr>\n",
       "    <tr>\n",
       "      <th>1</th>\n",
       "      <td>log_TSH</td>\n",
       "      <td>1.420100</td>\n",
       "    </tr>\n",
       "    <tr>\n",
       "      <th>2</th>\n",
       "      <td>sqrroot_T3</td>\n",
       "      <td>1.608135</td>\n",
       "    </tr>\n",
       "    <tr>\n",
       "      <th>3</th>\n",
       "      <td>sqrroot_TT4</td>\n",
       "      <td>17.571336</td>\n",
       "    </tr>\n",
       "    <tr>\n",
       "      <th>4</th>\n",
       "      <td>log_T4U</td>\n",
       "      <td>6.915051</td>\n",
       "    </tr>\n",
       "    <tr>\n",
       "      <th>5</th>\n",
       "      <td>sqrroot_FTI</td>\n",
       "      <td>14.999932</td>\n",
       "    </tr>\n",
       "    <tr>\n",
       "      <th>6</th>\n",
       "      <td>constant</td>\n",
       "      <td>521.505157</td>\n",
       "    </tr>\n",
       "  </tbody>\n",
       "</table>\n",
       "</div>"
      ],
      "text/plain": [
       "     variables         VIF\n",
       "0  sqrroot_age    1.079170\n",
       "1      log_TSH    1.420100\n",
       "2   sqrroot_T3    1.608135\n",
       "3  sqrroot_TT4   17.571336\n",
       "4      log_T4U    6.915051\n",
       "5  sqrroot_FTI   14.999932\n",
       "6     constant  521.505157"
      ]
     },
     "execution_count": 77,
     "metadata": {},
     "output_type": "execute_result"
    }
   ],
   "source": [
    "calculate_vif(df_numerical_constant)\n"
   ]
  },
  {
   "attachments": {},
   "cell_type": "markdown",
   "metadata": {},
   "source": [
    "We can see the VIF is significantly reduced after adding the constant value.\n",
    "\n",
    "Now, let's analyze the above one by dropping the highest VIF value first."
   ]
  },
  {
   "cell_type": "code",
   "execution_count": 78,
   "metadata": {},
   "outputs": [],
   "source": [
    "df_numerical_constant.drop('sqrroot_TT4', axis = 1, inplace = True)\n"
   ]
  },
  {
   "cell_type": "code",
   "execution_count": 79,
   "metadata": {},
   "outputs": [
    {
     "data": {
      "text/html": [
       "<div>\n",
       "<style scoped>\n",
       "    .dataframe tbody tr th:only-of-type {\n",
       "        vertical-align: middle;\n",
       "    }\n",
       "\n",
       "    .dataframe tbody tr th {\n",
       "        vertical-align: top;\n",
       "    }\n",
       "\n",
       "    .dataframe thead th {\n",
       "        text-align: right;\n",
       "    }\n",
       "</style>\n",
       "<table border=\"1\" class=\"dataframe\">\n",
       "  <thead>\n",
       "    <tr style=\"text-align: right;\">\n",
       "      <th></th>\n",
       "      <th>variables</th>\n",
       "      <th>VIF</th>\n",
       "    </tr>\n",
       "  </thead>\n",
       "  <tbody>\n",
       "    <tr>\n",
       "      <th>0</th>\n",
       "      <td>sqrroot_age</td>\n",
       "      <td>1.078160</td>\n",
       "    </tr>\n",
       "    <tr>\n",
       "      <th>1</th>\n",
       "      <td>log_TSH</td>\n",
       "      <td>1.395940</td>\n",
       "    </tr>\n",
       "    <tr>\n",
       "      <th>2</th>\n",
       "      <td>sqrroot_T3</td>\n",
       "      <td>1.607507</td>\n",
       "    </tr>\n",
       "    <tr>\n",
       "      <th>3</th>\n",
       "      <td>log_T4U</td>\n",
       "      <td>1.410238</td>\n",
       "    </tr>\n",
       "    <tr>\n",
       "      <th>4</th>\n",
       "      <td>sqrroot_FTI</td>\n",
       "      <td>1.545203</td>\n",
       "    </tr>\n",
       "    <tr>\n",
       "      <th>5</th>\n",
       "      <td>constant</td>\n",
       "      <td>206.999885</td>\n",
       "    </tr>\n",
       "  </tbody>\n",
       "</table>\n",
       "</div>"
      ],
      "text/plain": [
       "     variables         VIF\n",
       "0  sqrroot_age    1.078160\n",
       "1      log_TSH    1.395940\n",
       "2   sqrroot_T3    1.607507\n",
       "3      log_T4U    1.410238\n",
       "4  sqrroot_FTI    1.545203\n",
       "5     constant  206.999885"
      ]
     },
     "execution_count": 79,
     "metadata": {},
     "output_type": "execute_result"
    }
   ],
   "source": [
    "calculate_vif(df_numerical_constant)\n"
   ]
  },
  {
   "attachments": {},
   "cell_type": "markdown",
   "metadata": {},
   "source": [
    "#### Observations:\n",
    "- Now we can see the VIF is significantly reduced after dropping the sqrroot_TT4 feature with highest VIF.\n",
    "- And none of the features are correlated now.\n",
    "\n",
    "This looks good."
   ]
  },
  {
   "cell_type": "code",
   "execution_count": null,
   "metadata": {},
   "outputs": [],
   "source": []
  },
  {
   "attachments": {},
   "cell_type": "markdown",
   "metadata": {},
   "source": [
    "#### Now, let's create the final dataset with numerical features by dropping the constant column"
   ]
  },
  {
   "cell_type": "code",
   "execution_count": 80,
   "metadata": {},
   "outputs": [],
   "source": [
    "df_numerical_final = df_numerical_constant.drop('constant', axis = 1)\n"
   ]
  },
  {
   "cell_type": "code",
   "execution_count": 81,
   "metadata": {},
   "outputs": [
    {
     "data": {
      "text/html": [
       "<div>\n",
       "<style scoped>\n",
       "    .dataframe tbody tr th:only-of-type {\n",
       "        vertical-align: middle;\n",
       "    }\n",
       "\n",
       "    .dataframe tbody tr th {\n",
       "        vertical-align: top;\n",
       "    }\n",
       "\n",
       "    .dataframe thead th {\n",
       "        text-align: right;\n",
       "    }\n",
       "</style>\n",
       "<table border=\"1\" class=\"dataframe\">\n",
       "  <thead>\n",
       "    <tr style=\"text-align: right;\">\n",
       "      <th></th>\n",
       "      <th>sqrroot_age</th>\n",
       "      <th>log_TSH</th>\n",
       "      <th>sqrroot_T3</th>\n",
       "      <th>log_T4U</th>\n",
       "      <th>sqrroot_FTI</th>\n",
       "    </tr>\n",
       "  </thead>\n",
       "  <tbody>\n",
       "    <tr>\n",
       "      <th>0</th>\n",
       "      <td>6.403124</td>\n",
       "      <td>0.832909</td>\n",
       "      <td>1.581139</td>\n",
       "      <td>0.760806</td>\n",
       "      <td>10.440307</td>\n",
       "    </tr>\n",
       "    <tr>\n",
       "      <th>1</th>\n",
       "      <td>4.795832</td>\n",
       "      <td>1.629241</td>\n",
       "      <td>1.414214</td>\n",
       "      <td>0.683097</td>\n",
       "      <td>10.344080</td>\n",
       "    </tr>\n",
       "    <tr>\n",
       "      <th>2</th>\n",
       "      <td>6.782330</td>\n",
       "      <td>0.683097</td>\n",
       "      <td>1.414214</td>\n",
       "      <td>0.647103</td>\n",
       "      <td>10.954451</td>\n",
       "    </tr>\n",
       "    <tr>\n",
       "      <th>3</th>\n",
       "      <td>8.366600</td>\n",
       "      <td>0.148420</td>\n",
       "      <td>1.378405</td>\n",
       "      <td>0.683097</td>\n",
       "      <td>10.344080</td>\n",
       "    </tr>\n",
       "    <tr>\n",
       "      <th>4</th>\n",
       "      <td>8.366600</td>\n",
       "      <td>0.542324</td>\n",
       "      <td>1.095445</td>\n",
       "      <td>0.625938</td>\n",
       "      <td>8.366600</td>\n",
       "    </tr>\n",
       "  </tbody>\n",
       "</table>\n",
       "</div>"
      ],
      "text/plain": [
       "   sqrroot_age   log_TSH  sqrroot_T3   log_T4U  sqrroot_FTI\n",
       "0     6.403124  0.832909    1.581139  0.760806    10.440307\n",
       "1     4.795832  1.629241    1.414214  0.683097    10.344080\n",
       "2     6.782330  0.683097    1.414214  0.647103    10.954451\n",
       "3     8.366600  0.148420    1.378405  0.683097    10.344080\n",
       "4     8.366600  0.542324    1.095445  0.625938     8.366600"
      ]
     },
     "execution_count": 81,
     "metadata": {},
     "output_type": "execute_result"
    }
   ],
   "source": [
    "df_numerical_final.head()\n",
    "\n",
    "# final dataset with numerical features"
   ]
  },
  {
   "attachments": {},
   "cell_type": "markdown",
   "metadata": {},
   "source": [
    "#### Now, let's create the final dataset with categorical features"
   ]
  },
  {
   "cell_type": "code",
   "execution_count": 82,
   "metadata": {},
   "outputs": [],
   "source": [
    "df_categorical_final = df_encoded_cat.copy(deep = True)\n"
   ]
  },
  {
   "cell_type": "code",
   "execution_count": 83,
   "metadata": {},
   "outputs": [
    {
     "data": {
      "text/html": [
       "<div>\n",
       "<style scoped>\n",
       "    .dataframe tbody tr th:only-of-type {\n",
       "        vertical-align: middle;\n",
       "    }\n",
       "\n",
       "    .dataframe tbody tr th {\n",
       "        vertical-align: top;\n",
       "    }\n",
       "\n",
       "    .dataframe thead th {\n",
       "        text-align: right;\n",
       "    }\n",
       "</style>\n",
       "<table border=\"1\" class=\"dataframe\">\n",
       "  <thead>\n",
       "    <tr style=\"text-align: right;\">\n",
       "      <th></th>\n",
       "      <th>sex_M</th>\n",
       "      <th>on thyroxine_t</th>\n",
       "      <th>query on thyroxine_t</th>\n",
       "      <th>on antithyroid medication_t</th>\n",
       "      <th>sick_t</th>\n",
       "      <th>pregnant_t</th>\n",
       "      <th>thyroid surgery_t</th>\n",
       "      <th>I131 treatment_t</th>\n",
       "      <th>query hypothyroid_t</th>\n",
       "      <th>query hyperthyroid_t</th>\n",
       "      <th>lithium_t</th>\n",
       "      <th>goitre_t</th>\n",
       "      <th>tumor_t</th>\n",
       "      <th>hypopituitary_t</th>\n",
       "      <th>psych_t</th>\n",
       "      <th>labels</th>\n",
       "    </tr>\n",
       "  </thead>\n",
       "  <tbody>\n",
       "    <tr>\n",
       "      <th>0</th>\n",
       "      <td>0</td>\n",
       "      <td>0</td>\n",
       "      <td>0</td>\n",
       "      <td>0</td>\n",
       "      <td>0</td>\n",
       "      <td>0</td>\n",
       "      <td>0</td>\n",
       "      <td>0</td>\n",
       "      <td>0</td>\n",
       "      <td>0</td>\n",
       "      <td>0</td>\n",
       "      <td>0</td>\n",
       "      <td>0</td>\n",
       "      <td>0</td>\n",
       "      <td>0</td>\n",
       "      <td>2</td>\n",
       "    </tr>\n",
       "    <tr>\n",
       "      <th>1</th>\n",
       "      <td>0</td>\n",
       "      <td>0</td>\n",
       "      <td>0</td>\n",
       "      <td>0</td>\n",
       "      <td>0</td>\n",
       "      <td>0</td>\n",
       "      <td>0</td>\n",
       "      <td>0</td>\n",
       "      <td>0</td>\n",
       "      <td>0</td>\n",
       "      <td>0</td>\n",
       "      <td>0</td>\n",
       "      <td>0</td>\n",
       "      <td>0</td>\n",
       "      <td>0</td>\n",
       "      <td>2</td>\n",
       "    </tr>\n",
       "    <tr>\n",
       "      <th>2</th>\n",
       "      <td>1</td>\n",
       "      <td>0</td>\n",
       "      <td>0</td>\n",
       "      <td>0</td>\n",
       "      <td>0</td>\n",
       "      <td>0</td>\n",
       "      <td>0</td>\n",
       "      <td>0</td>\n",
       "      <td>0</td>\n",
       "      <td>0</td>\n",
       "      <td>0</td>\n",
       "      <td>0</td>\n",
       "      <td>0</td>\n",
       "      <td>0</td>\n",
       "      <td>0</td>\n",
       "      <td>2</td>\n",
       "    </tr>\n",
       "    <tr>\n",
       "      <th>3</th>\n",
       "      <td>0</td>\n",
       "      <td>1</td>\n",
       "      <td>0</td>\n",
       "      <td>0</td>\n",
       "      <td>0</td>\n",
       "      <td>0</td>\n",
       "      <td>0</td>\n",
       "      <td>0</td>\n",
       "      <td>0</td>\n",
       "      <td>0</td>\n",
       "      <td>0</td>\n",
       "      <td>0</td>\n",
       "      <td>0</td>\n",
       "      <td>0</td>\n",
       "      <td>0</td>\n",
       "      <td>2</td>\n",
       "    </tr>\n",
       "    <tr>\n",
       "      <th>4</th>\n",
       "      <td>0</td>\n",
       "      <td>0</td>\n",
       "      <td>0</td>\n",
       "      <td>0</td>\n",
       "      <td>0</td>\n",
       "      <td>0</td>\n",
       "      <td>0</td>\n",
       "      <td>0</td>\n",
       "      <td>0</td>\n",
       "      <td>0</td>\n",
       "      <td>0</td>\n",
       "      <td>0</td>\n",
       "      <td>0</td>\n",
       "      <td>0</td>\n",
       "      <td>0</td>\n",
       "      <td>2</td>\n",
       "    </tr>\n",
       "  </tbody>\n",
       "</table>\n",
       "</div>"
      ],
      "text/plain": [
       "   sex_M  on thyroxine_t  query on thyroxine_t  on antithyroid medication_t  \\\n",
       "0      0               0                     0                            0   \n",
       "1      0               0                     0                            0   \n",
       "2      1               0                     0                            0   \n",
       "3      0               1                     0                            0   \n",
       "4      0               0                     0                            0   \n",
       "\n",
       "   sick_t  pregnant_t  thyroid surgery_t  I131 treatment_t  \\\n",
       "0       0           0                  0                 0   \n",
       "1       0           0                  0                 0   \n",
       "2       0           0                  0                 0   \n",
       "3       0           0                  0                 0   \n",
       "4       0           0                  0                 0   \n",
       "\n",
       "   query hypothyroid_t  query hyperthyroid_t  lithium_t  goitre_t  tumor_t  \\\n",
       "0                    0                     0          0         0        0   \n",
       "1                    0                     0          0         0        0   \n",
       "2                    0                     0          0         0        0   \n",
       "3                    0                     0          0         0        0   \n",
       "4                    0                     0          0         0        0   \n",
       "\n",
       "   hypopituitary_t  psych_t  labels  \n",
       "0                0        0       2  \n",
       "1                0        0       2  \n",
       "2                0        0       2  \n",
       "3                0        0       2  \n",
       "4                0        0       2  "
      ]
     },
     "execution_count": 83,
     "metadata": {},
     "output_type": "execute_result"
    }
   ],
   "source": [
    "df_categorical_final.head()\n",
    "\n",
    "# final dataset with categorical features"
   ]
  },
  {
   "attachments": {},
   "cell_type": "markdown",
   "metadata": {},
   "source": [
    "#### Cancatenate the numerical and categorical features and create a final dataset"
   ]
  },
  {
   "cell_type": "code",
   "execution_count": 84,
   "metadata": {},
   "outputs": [],
   "source": [
    "df_final = pd.concat([df_numerical_final, df_categorical_final], axis = 1)\n",
    "\n",
    "# final dataset - 2800x21"
   ]
  },
  {
   "cell_type": "code",
   "execution_count": 85,
   "metadata": {},
   "outputs": [
    {
     "data": {
      "text/html": [
       "<div>\n",
       "<style scoped>\n",
       "    .dataframe tbody tr th:only-of-type {\n",
       "        vertical-align: middle;\n",
       "    }\n",
       "\n",
       "    .dataframe tbody tr th {\n",
       "        vertical-align: top;\n",
       "    }\n",
       "\n",
       "    .dataframe thead th {\n",
       "        text-align: right;\n",
       "    }\n",
       "</style>\n",
       "<table border=\"1\" class=\"dataframe\">\n",
       "  <thead>\n",
       "    <tr style=\"text-align: right;\">\n",
       "      <th></th>\n",
       "      <th>sqrroot_age</th>\n",
       "      <th>log_TSH</th>\n",
       "      <th>sqrroot_T3</th>\n",
       "      <th>log_T4U</th>\n",
       "      <th>sqrroot_FTI</th>\n",
       "      <th>sex_M</th>\n",
       "      <th>on thyroxine_t</th>\n",
       "      <th>query on thyroxine_t</th>\n",
       "      <th>on antithyroid medication_t</th>\n",
       "      <th>sick_t</th>\n",
       "      <th>...</th>\n",
       "      <th>thyroid surgery_t</th>\n",
       "      <th>I131 treatment_t</th>\n",
       "      <th>query hypothyroid_t</th>\n",
       "      <th>query hyperthyroid_t</th>\n",
       "      <th>lithium_t</th>\n",
       "      <th>goitre_t</th>\n",
       "      <th>tumor_t</th>\n",
       "      <th>hypopituitary_t</th>\n",
       "      <th>psych_t</th>\n",
       "      <th>labels</th>\n",
       "    </tr>\n",
       "  </thead>\n",
       "  <tbody>\n",
       "    <tr>\n",
       "      <th>0</th>\n",
       "      <td>6.403124</td>\n",
       "      <td>0.832909</td>\n",
       "      <td>1.581139</td>\n",
       "      <td>0.760806</td>\n",
       "      <td>10.440307</td>\n",
       "      <td>0</td>\n",
       "      <td>0</td>\n",
       "      <td>0</td>\n",
       "      <td>0</td>\n",
       "      <td>0</td>\n",
       "      <td>...</td>\n",
       "      <td>0</td>\n",
       "      <td>0</td>\n",
       "      <td>0</td>\n",
       "      <td>0</td>\n",
       "      <td>0</td>\n",
       "      <td>0</td>\n",
       "      <td>0</td>\n",
       "      <td>0</td>\n",
       "      <td>0</td>\n",
       "      <td>2</td>\n",
       "    </tr>\n",
       "    <tr>\n",
       "      <th>1</th>\n",
       "      <td>4.795832</td>\n",
       "      <td>1.629241</td>\n",
       "      <td>1.414214</td>\n",
       "      <td>0.683097</td>\n",
       "      <td>10.344080</td>\n",
       "      <td>0</td>\n",
       "      <td>0</td>\n",
       "      <td>0</td>\n",
       "      <td>0</td>\n",
       "      <td>0</td>\n",
       "      <td>...</td>\n",
       "      <td>0</td>\n",
       "      <td>0</td>\n",
       "      <td>0</td>\n",
       "      <td>0</td>\n",
       "      <td>0</td>\n",
       "      <td>0</td>\n",
       "      <td>0</td>\n",
       "      <td>0</td>\n",
       "      <td>0</td>\n",
       "      <td>2</td>\n",
       "    </tr>\n",
       "    <tr>\n",
       "      <th>2</th>\n",
       "      <td>6.782330</td>\n",
       "      <td>0.683097</td>\n",
       "      <td>1.414214</td>\n",
       "      <td>0.647103</td>\n",
       "      <td>10.954451</td>\n",
       "      <td>1</td>\n",
       "      <td>0</td>\n",
       "      <td>0</td>\n",
       "      <td>0</td>\n",
       "      <td>0</td>\n",
       "      <td>...</td>\n",
       "      <td>0</td>\n",
       "      <td>0</td>\n",
       "      <td>0</td>\n",
       "      <td>0</td>\n",
       "      <td>0</td>\n",
       "      <td>0</td>\n",
       "      <td>0</td>\n",
       "      <td>0</td>\n",
       "      <td>0</td>\n",
       "      <td>2</td>\n",
       "    </tr>\n",
       "    <tr>\n",
       "      <th>3</th>\n",
       "      <td>8.366600</td>\n",
       "      <td>0.148420</td>\n",
       "      <td>1.378405</td>\n",
       "      <td>0.683097</td>\n",
       "      <td>10.344080</td>\n",
       "      <td>0</td>\n",
       "      <td>1</td>\n",
       "      <td>0</td>\n",
       "      <td>0</td>\n",
       "      <td>0</td>\n",
       "      <td>...</td>\n",
       "      <td>0</td>\n",
       "      <td>0</td>\n",
       "      <td>0</td>\n",
       "      <td>0</td>\n",
       "      <td>0</td>\n",
       "      <td>0</td>\n",
       "      <td>0</td>\n",
       "      <td>0</td>\n",
       "      <td>0</td>\n",
       "      <td>2</td>\n",
       "    </tr>\n",
       "    <tr>\n",
       "      <th>4</th>\n",
       "      <td>8.366600</td>\n",
       "      <td>0.542324</td>\n",
       "      <td>1.095445</td>\n",
       "      <td>0.625938</td>\n",
       "      <td>8.366600</td>\n",
       "      <td>0</td>\n",
       "      <td>0</td>\n",
       "      <td>0</td>\n",
       "      <td>0</td>\n",
       "      <td>0</td>\n",
       "      <td>...</td>\n",
       "      <td>0</td>\n",
       "      <td>0</td>\n",
       "      <td>0</td>\n",
       "      <td>0</td>\n",
       "      <td>0</td>\n",
       "      <td>0</td>\n",
       "      <td>0</td>\n",
       "      <td>0</td>\n",
       "      <td>0</td>\n",
       "      <td>2</td>\n",
       "    </tr>\n",
       "  </tbody>\n",
       "</table>\n",
       "<p>5 rows × 21 columns</p>\n",
       "</div>"
      ],
      "text/plain": [
       "   sqrroot_age   log_TSH  sqrroot_T3   log_T4U  sqrroot_FTI  sex_M  \\\n",
       "0     6.403124  0.832909    1.581139  0.760806    10.440307      0   \n",
       "1     4.795832  1.629241    1.414214  0.683097    10.344080      0   \n",
       "2     6.782330  0.683097    1.414214  0.647103    10.954451      1   \n",
       "3     8.366600  0.148420    1.378405  0.683097    10.344080      0   \n",
       "4     8.366600  0.542324    1.095445  0.625938     8.366600      0   \n",
       "\n",
       "   on thyroxine_t  query on thyroxine_t  on antithyroid medication_t  sick_t  \\\n",
       "0               0                     0                            0       0   \n",
       "1               0                     0                            0       0   \n",
       "2               0                     0                            0       0   \n",
       "3               1                     0                            0       0   \n",
       "4               0                     0                            0       0   \n",
       "\n",
       "   ...  thyroid surgery_t  I131 treatment_t  query hypothyroid_t  \\\n",
       "0  ...                  0                 0                    0   \n",
       "1  ...                  0                 0                    0   \n",
       "2  ...                  0                 0                    0   \n",
       "3  ...                  0                 0                    0   \n",
       "4  ...                  0                 0                    0   \n",
       "\n",
       "   query hyperthyroid_t  lithium_t  goitre_t  tumor_t  hypopituitary_t  \\\n",
       "0                     0          0         0        0                0   \n",
       "1                     0          0         0        0                0   \n",
       "2                     0          0         0        0                0   \n",
       "3                     0          0         0        0                0   \n",
       "4                     0          0         0        0                0   \n",
       "\n",
       "   psych_t  labels  \n",
       "0        0       2  \n",
       "1        0       2  \n",
       "2        0       2  \n",
       "3        0       2  \n",
       "4        0       2  \n",
       "\n",
       "[5 rows x 21 columns]"
      ]
     },
     "execution_count": 85,
     "metadata": {},
     "output_type": "execute_result"
    }
   ],
   "source": [
    "df_final.head()\n"
   ]
  },
  {
   "cell_type": "code",
   "execution_count": 86,
   "metadata": {},
   "outputs": [
    {
     "data": {
      "text/plain": [
       "Index(['sqrroot_age', 'log_TSH', 'sqrroot_T3', 'log_T4U', 'sqrroot_FTI',\n",
       "       'sex_M', 'on thyroxine_t', 'query on thyroxine_t',\n",
       "       'on antithyroid medication_t', 'sick_t', 'pregnant_t',\n",
       "       'thyroid surgery_t', 'I131 treatment_t', 'query hypothyroid_t',\n",
       "       'query hyperthyroid_t', 'lithium_t', 'goitre_t', 'tumor_t',\n",
       "       'hypopituitary_t', 'psych_t', 'labels'],\n",
       "      dtype='object')"
      ]
     },
     "execution_count": 86,
     "metadata": {},
     "output_type": "execute_result"
    }
   ],
   "source": [
    "df_final.columns\n"
   ]
  },
  {
   "cell_type": "code",
   "execution_count": 87,
   "metadata": {},
   "outputs": [
    {
     "data": {
      "text/plain": [
       "2    2503\n",
       "1     220\n",
       "0      77\n",
       "Name: labels, dtype: int64"
      ]
     },
     "execution_count": 87,
     "metadata": {},
     "output_type": "execute_result"
    }
   ],
   "source": [
    "# checking the total value of each target class\n",
    "# negative - 2\n",
    "# hyporthyroid - 1\n",
    "# hyperthyroid - 0\n",
    "\n",
    "df_final.labels.value_counts()\n"
   ]
  },
  {
   "attachments": {},
   "cell_type": "markdown",
   "metadata": {},
   "source": [
    "##### Multi-collinearity END"
   ]
  },
  {
   "cell_type": "code",
   "execution_count": null,
   "metadata": {},
   "outputs": [],
   "source": []
  },
  {
   "cell_type": "code",
   "execution_count": 88,
   "metadata": {},
   "outputs": [
    {
     "data": {
      "text/plain": [
       "Index(['sqrroot_age', 'log_TSH', 'sqrroot_T3', 'log_T4U', 'sqrroot_FTI',\n",
       "       'sex_M', 'on thyroxine_t', 'query on thyroxine_t',\n",
       "       'on antithyroid medication_t', 'sick_t', 'pregnant_t',\n",
       "       'thyroid surgery_t', 'I131 treatment_t', 'query hypothyroid_t',\n",
       "       'query hyperthyroid_t', 'lithium_t', 'goitre_t', 'tumor_t',\n",
       "       'hypopituitary_t', 'psych_t', 'labels'],\n",
       "      dtype='object')"
      ]
     },
     "execution_count": 88,
     "metadata": {},
     "output_type": "execute_result"
    }
   ],
   "source": [
    "df_final.columns\n"
   ]
  },
  {
   "cell_type": "code",
   "execution_count": 89,
   "metadata": {},
   "outputs": [
    {
     "data": {
      "text/plain": [
       "Index(['age', 'sex', 'on thyroxine', 'query on thyroxine',\n",
       "       'on antithyroid medication', 'sick', 'pregnant', 'thyroid surgery',\n",
       "       'I131 treatment', 'query hypothyroid', 'query hyperthyroid', 'lithium',\n",
       "       'goitre', 'tumor', 'hypopituitary', 'psych', 'TSH', 'T3', 'TT4', 'T4U',\n",
       "       'FTI', 'labels'],\n",
       "      dtype='object')"
      ]
     },
     "execution_count": 89,
     "metadata": {},
     "output_type": "execute_result"
    }
   ],
   "source": [
    "df.columns\n"
   ]
  },
  {
   "cell_type": "code",
   "execution_count": 90,
   "metadata": {},
   "outputs": [],
   "source": [
    "# renaming the column name\n",
    "\n",
    "df_final.rename({'sqrroot_age': 'age', 'log_TSH': 'TSH', 'sqrroot_T3': 'T3', \\\n",
    "                 'log_T4U': 'T4U', 'sqrroot_FTI' : 'FTI', 'sex_M' : 'sex', \\\n",
    "                 'on thyroxine_t' : 'onthyroxine', 'query on thyroxine_t' : 'queryonthyroxine', \\\n",
    "                 'on antithyroid medication_t' : 'onantithyroidmedication', \\\n",
    "                 'sick_t' : 'sick', 'pregnant_t' : 'pregnant', 'thyroid surgery_t' : 'thyroidsurgery', \\\n",
    "                 'I131 treatment_t' : 'I131treatment', 'query hypothyroid_t' : 'queryhypothyroid', \\\n",
    "                 'query hyperthyroid_t' : 'queryhyperthyroid', 'lithium_t' : 'lithium', \\\n",
    "                 'goitre_t' : 'goitre', 'tumor_t' : 'tumor', 'hypopituitary_t' : 'hypopituitary', \\\n",
    "                 'psych_t' : 'psych'}, axis = 1, inplace = True)\n",
    "\n"
   ]
  },
  {
   "cell_type": "code",
   "execution_count": 91,
   "metadata": {},
   "outputs": [
    {
     "data": {
      "text/html": [
       "<div>\n",
       "<style scoped>\n",
       "    .dataframe tbody tr th:only-of-type {\n",
       "        vertical-align: middle;\n",
       "    }\n",
       "\n",
       "    .dataframe tbody tr th {\n",
       "        vertical-align: top;\n",
       "    }\n",
       "\n",
       "    .dataframe thead th {\n",
       "        text-align: right;\n",
       "    }\n",
       "</style>\n",
       "<table border=\"1\" class=\"dataframe\">\n",
       "  <thead>\n",
       "    <tr style=\"text-align: right;\">\n",
       "      <th></th>\n",
       "      <th>age</th>\n",
       "      <th>TSH</th>\n",
       "      <th>T3</th>\n",
       "      <th>T4U</th>\n",
       "      <th>FTI</th>\n",
       "      <th>sex</th>\n",
       "      <th>onthyroxine</th>\n",
       "      <th>queryonthyroxine</th>\n",
       "      <th>onantithyroidmedication</th>\n",
       "      <th>sick</th>\n",
       "      <th>...</th>\n",
       "      <th>thyroidsurgery</th>\n",
       "      <th>I131treatment</th>\n",
       "      <th>queryhypothyroid</th>\n",
       "      <th>queryhyperthyroid</th>\n",
       "      <th>lithium</th>\n",
       "      <th>goitre</th>\n",
       "      <th>tumor</th>\n",
       "      <th>hypopituitary</th>\n",
       "      <th>psych</th>\n",
       "      <th>labels</th>\n",
       "    </tr>\n",
       "  </thead>\n",
       "  <tbody>\n",
       "    <tr>\n",
       "      <th>0</th>\n",
       "      <td>6.403124</td>\n",
       "      <td>0.832909</td>\n",
       "      <td>1.581139</td>\n",
       "      <td>0.760806</td>\n",
       "      <td>10.440307</td>\n",
       "      <td>0</td>\n",
       "      <td>0</td>\n",
       "      <td>0</td>\n",
       "      <td>0</td>\n",
       "      <td>0</td>\n",
       "      <td>...</td>\n",
       "      <td>0</td>\n",
       "      <td>0</td>\n",
       "      <td>0</td>\n",
       "      <td>0</td>\n",
       "      <td>0</td>\n",
       "      <td>0</td>\n",
       "      <td>0</td>\n",
       "      <td>0</td>\n",
       "      <td>0</td>\n",
       "      <td>2</td>\n",
       "    </tr>\n",
       "    <tr>\n",
       "      <th>1</th>\n",
       "      <td>4.795832</td>\n",
       "      <td>1.629241</td>\n",
       "      <td>1.414214</td>\n",
       "      <td>0.683097</td>\n",
       "      <td>10.344080</td>\n",
       "      <td>0</td>\n",
       "      <td>0</td>\n",
       "      <td>0</td>\n",
       "      <td>0</td>\n",
       "      <td>0</td>\n",
       "      <td>...</td>\n",
       "      <td>0</td>\n",
       "      <td>0</td>\n",
       "      <td>0</td>\n",
       "      <td>0</td>\n",
       "      <td>0</td>\n",
       "      <td>0</td>\n",
       "      <td>0</td>\n",
       "      <td>0</td>\n",
       "      <td>0</td>\n",
       "      <td>2</td>\n",
       "    </tr>\n",
       "    <tr>\n",
       "      <th>2</th>\n",
       "      <td>6.782330</td>\n",
       "      <td>0.683097</td>\n",
       "      <td>1.414214</td>\n",
       "      <td>0.647103</td>\n",
       "      <td>10.954451</td>\n",
       "      <td>1</td>\n",
       "      <td>0</td>\n",
       "      <td>0</td>\n",
       "      <td>0</td>\n",
       "      <td>0</td>\n",
       "      <td>...</td>\n",
       "      <td>0</td>\n",
       "      <td>0</td>\n",
       "      <td>0</td>\n",
       "      <td>0</td>\n",
       "      <td>0</td>\n",
       "      <td>0</td>\n",
       "      <td>0</td>\n",
       "      <td>0</td>\n",
       "      <td>0</td>\n",
       "      <td>2</td>\n",
       "    </tr>\n",
       "    <tr>\n",
       "      <th>3</th>\n",
       "      <td>8.366600</td>\n",
       "      <td>0.148420</td>\n",
       "      <td>1.378405</td>\n",
       "      <td>0.683097</td>\n",
       "      <td>10.344080</td>\n",
       "      <td>0</td>\n",
       "      <td>1</td>\n",
       "      <td>0</td>\n",
       "      <td>0</td>\n",
       "      <td>0</td>\n",
       "      <td>...</td>\n",
       "      <td>0</td>\n",
       "      <td>0</td>\n",
       "      <td>0</td>\n",
       "      <td>0</td>\n",
       "      <td>0</td>\n",
       "      <td>0</td>\n",
       "      <td>0</td>\n",
       "      <td>0</td>\n",
       "      <td>0</td>\n",
       "      <td>2</td>\n",
       "    </tr>\n",
       "    <tr>\n",
       "      <th>4</th>\n",
       "      <td>8.366600</td>\n",
       "      <td>0.542324</td>\n",
       "      <td>1.095445</td>\n",
       "      <td>0.625938</td>\n",
       "      <td>8.366600</td>\n",
       "      <td>0</td>\n",
       "      <td>0</td>\n",
       "      <td>0</td>\n",
       "      <td>0</td>\n",
       "      <td>0</td>\n",
       "      <td>...</td>\n",
       "      <td>0</td>\n",
       "      <td>0</td>\n",
       "      <td>0</td>\n",
       "      <td>0</td>\n",
       "      <td>0</td>\n",
       "      <td>0</td>\n",
       "      <td>0</td>\n",
       "      <td>0</td>\n",
       "      <td>0</td>\n",
       "      <td>2</td>\n",
       "    </tr>\n",
       "  </tbody>\n",
       "</table>\n",
       "<p>5 rows × 21 columns</p>\n",
       "</div>"
      ],
      "text/plain": [
       "        age       TSH        T3       T4U        FTI  sex  onthyroxine  \\\n",
       "0  6.403124  0.832909  1.581139  0.760806  10.440307    0            0   \n",
       "1  4.795832  1.629241  1.414214  0.683097  10.344080    0            0   \n",
       "2  6.782330  0.683097  1.414214  0.647103  10.954451    1            0   \n",
       "3  8.366600  0.148420  1.378405  0.683097  10.344080    0            1   \n",
       "4  8.366600  0.542324  1.095445  0.625938   8.366600    0            0   \n",
       "\n",
       "   queryonthyroxine  onantithyroidmedication  sick  ...  thyroidsurgery  \\\n",
       "0                 0                        0     0  ...               0   \n",
       "1                 0                        0     0  ...               0   \n",
       "2                 0                        0     0  ...               0   \n",
       "3                 0                        0     0  ...               0   \n",
       "4                 0                        0     0  ...               0   \n",
       "\n",
       "   I131treatment  queryhypothyroid  queryhyperthyroid  lithium  goitre  tumor  \\\n",
       "0              0                 0                  0        0       0      0   \n",
       "1              0                 0                  0        0       0      0   \n",
       "2              0                 0                  0        0       0      0   \n",
       "3              0                 0                  0        0       0      0   \n",
       "4              0                 0                  0        0       0      0   \n",
       "\n",
       "   hypopituitary  psych  labels  \n",
       "0              0      0       2  \n",
       "1              0      0       2  \n",
       "2              0      0       2  \n",
       "3              0      0       2  \n",
       "4              0      0       2  \n",
       "\n",
       "[5 rows x 21 columns]"
      ]
     },
     "execution_count": 91,
     "metadata": {},
     "output_type": "execute_result"
    }
   ],
   "source": [
    "df_final.head()\n"
   ]
  },
  {
   "cell_type": "code",
   "execution_count": 92,
   "metadata": {},
   "outputs": [
    {
     "data": {
      "text/plain": [
       "Index(['age', 'TSH', 'T3', 'T4U', 'FTI', 'sex', 'onthyroxine',\n",
       "       'queryonthyroxine', 'onantithyroidmedication', 'sick', 'pregnant',\n",
       "       'thyroidsurgery', 'I131treatment', 'queryhypothyroid',\n",
       "       'queryhyperthyroid', 'lithium', 'goitre', 'tumor', 'hypopituitary',\n",
       "       'psych', 'labels'],\n",
       "      dtype='object')"
      ]
     },
     "execution_count": 92,
     "metadata": {},
     "output_type": "execute_result"
    }
   ],
   "source": [
    "df_final.columns\n"
   ]
  },
  {
   "cell_type": "code",
   "execution_count": 93,
   "metadata": {},
   "outputs": [],
   "source": [
    "df_temp = df_final.copy(deep = True)\n"
   ]
  },
  {
   "cell_type": "code",
   "execution_count": 94,
   "metadata": {},
   "outputs": [],
   "source": [
    "column_names = [\"age\", \"sex\", \"TSH\", \"T3\", \"T4U\", \"FTI\", \\\n",
    "                \"onthyroxine\", \"queryonthyroxine\", \"onantithyroidmedication\", \\\n",
    "                \"sick\", \"pregnant\", \\\n",
    "                \"thyroidsurgery\", \"I131treatment\", \"queryhypothyroid\", \"queryhyperthyroid\", \\\n",
    "                \"lithium\", \"goitre\", \"tumor\",\"hypopituitary\",\"psych\", \"labels\"]\n"
   ]
  },
  {
   "cell_type": "code",
   "execution_count": 95,
   "metadata": {},
   "outputs": [],
   "source": [
    "# arranging the features in its origin sequence\n",
    "\n",
    "df_final = df_final.reindex(columns = column_names)\n"
   ]
  },
  {
   "cell_type": "code",
   "execution_count": 96,
   "metadata": {},
   "outputs": [
    {
     "data": {
      "text/plain": [
       "Index(['age', 'sex', 'TSH', 'T3', 'T4U', 'FTI', 'onthyroxine',\n",
       "       'queryonthyroxine', 'onantithyroidmedication', 'sick', 'pregnant',\n",
       "       'thyroidsurgery', 'I131treatment', 'queryhypothyroid',\n",
       "       'queryhyperthyroid', 'lithium', 'goitre', 'tumor', 'hypopituitary',\n",
       "       'psych', 'labels'],\n",
       "      dtype='object')"
      ]
     },
     "execution_count": 96,
     "metadata": {},
     "output_type": "execute_result"
    }
   ],
   "source": [
    "df_final.columns\n"
   ]
  },
  {
   "cell_type": "code",
   "execution_count": 97,
   "metadata": {},
   "outputs": [],
   "source": [
    "# from pandas_profiling import ProfileReport\n"
   ]
  },
  {
   "cell_type": "code",
   "execution_count": 98,
   "metadata": {},
   "outputs": [],
   "source": [
    "# profile = ProfileReport(df_final)\n",
    "# profile"
   ]
  },
  {
   "cell_type": "code",
   "execution_count": null,
   "metadata": {},
   "outputs": [],
   "source": []
  },
  {
   "attachments": {},
   "cell_type": "markdown",
   "metadata": {},
   "source": [
    "## ML Model Preparation"
   ]
  },
  {
   "cell_type": "code",
   "execution_count": 99,
   "metadata": {},
   "outputs": [],
   "source": [
    "# first step is to seperate the independent and dependent features\n",
    "\n",
    "# independent features i.e. all columns expect 'labels' are stored in 'X'\n",
    "# dependent features i.e 'labels' column is stored in 'y'\n",
    "\n",
    "X = df_final.drop('labels', axis = 1)\n",
    "y = df_final['labels']\n"
   ]
  },
  {
   "attachments": {},
   "cell_type": "markdown",
   "metadata": {},
   "source": [
    "Now, we need to split our complete dataset into 'training' and 'testing'"
   ]
  },
  {
   "cell_type": "code",
   "execution_count": 100,
   "metadata": {},
   "outputs": [],
   "source": [
    "# spliting the dataset into training and testing\n",
    "\n",
    "X_train, X_test, y_train, y_test = train_test_split(X, y, test_size = 0.30, random_state = 109) \n",
    "\n",
    "# 70% for training and 30% for testing (this is not a hard rule)\n"
   ]
  },
  {
   "attachments": {},
   "cell_type": "markdown",
   "metadata": {},
   "source": [
    "Now before proceedind further we need to check whether our Train dataset is balanced or not.\n",
    "\n",
    "If not balanced, then we should balance it first."
   ]
  },
  {
   "cell_type": "code",
   "execution_count": 101,
   "metadata": {},
   "outputs": [
    {
     "data": {
      "image/png": "[encoded data removed]",
      "text/plain": [
       "<Figure size 600x400 with 1 Axes>"
      ]
     },
     "metadata": {},
     "output_type": "display_data"
    }
   ],
   "source": [
    "# Sets the figure size temporarily but has to be set again the next plot\n",
    "\n",
    "plt.figure(figsize = (6,4))\n",
    "\n",
    "# checking the  label class distribution\n",
    "\n",
    "sns.countplot(y_train)\n",
    "\n",
    "plt.show()\n"
   ]
  },
  {
   "attachments": {},
   "cell_type": "markdown",
   "metadata": {},
   "source": [
    "From the above plot, we can say our dataset is highly imbalanced.\n",
    "\n",
    "Let's balance it first."
   ]
  },
  {
   "attachments": {},
   "cell_type": "markdown",
   "metadata": {},
   "source": [
    "#### So to handle the imbalanced data, we have multiple techniques:\n",
    "\n",
    "URLs:\n",
    "- https://www.analyticsvidhya.com/blog/2020/10/overcoming-class-imbalance-using-smote-techniques/\n",
    "- https://datascience.foundation/sciencewhitepaper/understanding-imbalanced-datasets-and-techniques-for-handling-them\n",
    "- https://towardsdatascience.com/dealing-with-imbalanced-dataset-642a5f6ee297\n",
    "- https://www.topcoder.com/thrive/articles/How%20to%20Handle%20Imbalanced%20Dataset\n",
    "- https://www.kaggle.com/dskagglemt/handling-imbalance-class\n",
    "- https://datascience.foundation/sciencewhitepaper/understanding-imbalanced-datasets-and-techniques-for-handling-them\n",
    "\n",
    "\n",
    "#### Sampling Methods-\n",
    "- SMOTE \n",
    "- Oversampling- Adasyn\n",
    "- Under Sampling"
   ]
  },
  {
   "attachments": {},
   "cell_type": "markdown",
   "metadata": {},
   "source": [
    "NOTE: We should do the train_test_split first and then sampling on TRAIN data only (we already did)."
   ]
  },
  {
   "cell_type": "code",
   "execution_count": 102,
   "metadata": {},
   "outputs": [],
   "source": [
    "# there are multiple sampling_startegy, select according to use-case\n",
    "\n",
    "smote = SMOTE(sampling_strategy = 'auto')\n",
    "\n",
    "X_train_sampled, y_train_sampled = smote.fit_resample(X_train, y_train)\n"
   ]
  },
  {
   "cell_type": "code",
   "execution_count": 103,
   "metadata": {},
   "outputs": [
    {
     "data": {
      "image/png": "[encoded data removed]",
      "text/plain": [
       "<Figure size 600x400 with 1 Axes>"
      ]
     },
     "metadata": {},
     "output_type": "display_data"
    }
   ],
   "source": [
    "# Sets the figure size temporarily but has to be set again the next plot\n",
    "\n",
    "plt.figure(figsize = (6,4))\n",
    "\n",
    "# checking the sampled label class distribution\n",
    "\n",
    "sns.countplot(y_train_sampled)\n",
    "\n",
    "plt.show()\n"
   ]
  },
  {
   "attachments": {},
   "cell_type": "markdown",
   "metadata": {},
   "source": [
    "#### Observation:\n",
    "- Now the dataset is balanced. Hurray :)"
   ]
  },
  {
   "attachments": {},
   "cell_type": "markdown",
   "metadata": {},
   "source": [
    "### Everything looks good, now we apply the machine learning algorithm"
   ]
  },
  {
   "cell_type": "code",
   "execution_count": 104,
   "metadata": {},
   "outputs": [
    {
     "data": {
      "text/plain": [
       "(1960, 20)"
      ]
     },
     "execution_count": 104,
     "metadata": {},
     "output_type": "execute_result"
    }
   ],
   "source": [
    "X_train.shape"
   ]
  },
  {
   "cell_type": "code",
   "execution_count": 105,
   "metadata": {},
   "outputs": [
    {
     "data": {
      "text/plain": [
       "(1960,)"
      ]
     },
     "execution_count": 105,
     "metadata": {},
     "output_type": "execute_result"
    }
   ],
   "source": [
    "y_train.shape"
   ]
  },
  {
   "cell_type": "code",
   "execution_count": 106,
   "metadata": {},
   "outputs": [
    {
     "data": {
      "text/plain": [
       "(5271, 20)"
      ]
     },
     "execution_count": 106,
     "metadata": {},
     "output_type": "execute_result"
    }
   ],
   "source": [
    "X_train_sampled.shape"
   ]
  },
  {
   "cell_type": "code",
   "execution_count": 107,
   "metadata": {},
   "outputs": [
    {
     "data": {
      "text/plain": [
       "(5271,)"
      ]
     },
     "execution_count": 107,
     "metadata": {},
     "output_type": "execute_result"
    }
   ],
   "source": [
    "y_train_sampled.shape"
   ]
  },
  {
   "cell_type": "code",
   "execution_count": 108,
   "metadata": {},
   "outputs": [
    {
     "data": {
      "text/plain": [
       "(840, 20)"
      ]
     },
     "execution_count": 108,
     "metadata": {},
     "output_type": "execute_result"
    }
   ],
   "source": [
    "X_test.shape"
   ]
  },
  {
   "cell_type": "code",
   "execution_count": 109,
   "metadata": {},
   "outputs": [
    {
     "data": {
      "text/plain": [
       "(840,)"
      ]
     },
     "execution_count": 109,
     "metadata": {},
     "output_type": "execute_result"
    }
   ],
   "source": [
    "y_test.shape"
   ]
  },
  {
   "attachments": {},
   "cell_type": "markdown",
   "metadata": {},
   "source": [
    "### Random Forest Classifier"
   ]
  },
  {
   "attachments": {},
   "cell_type": "markdown",
   "metadata": {},
   "source": [
    "#### Fitting the model on Train Data and checking the performance"
   ]
  },
  {
   "cell_type": "code",
   "execution_count": 110,
   "metadata": {},
   "outputs": [],
   "source": [
    "# importing the important libraries\n",
    "from sklearn.ensemble import RandomForestClassifier\n",
    "from sklearn.datasets import make_classification\n",
    "\n",
    "# create an instance of a Random Forest classifier\n",
    "random_forest_model = RandomForestClassifier(n_estimators = 10, criterion = 'entropy', random_state = 42)\n",
    "\n",
    "# training the Random Forest model on the sampled train dataset\n",
    "random_forest_model.fit(np.array(X_train_sampled), y_train_sampled)\n",
    "\n",
    "# pedicting the labels on the test set\n",
    "y_predicted_randomforest = random_forest_model.predict(np.array(X_test))\n",
    "\n"
   ]
  },
  {
   "cell_type": "code",
   "execution_count": 111,
   "metadata": {},
   "outputs": [
    {
     "name": "stdout",
     "output_type": "stream",
     "text": [
      "Accuracy Score on train data:  0.9992411307152343\n",
      "Accuracy Score on test data:  0.975\n"
     ]
    }
   ],
   "source": [
    "# import scikit-learn metrics module for accuracy calculation\n",
    "from sklearn import metrics\n",
    "\n",
    "# calculating the accuracy on train data\n",
    "print('Accuracy Score on train data: ', metrics.accuracy_score(y_true = y_train_sampled,\\\n",
    "                                                               y_pred = random_forest_model.predict(X_train_sampled)))\n",
    "\n",
    "# calculating the accuracy on test data\n",
    "print('Accuracy Score on test data: ', metrics.accuracy_score(y_true = y_test, y_pred = y_predicted_randomforest))\n",
    "\n"
   ]
  },
  {
   "attachments": {},
   "cell_type": "markdown",
   "metadata": {},
   "source": [
    "#### Performance Parameters"
   ]
  },
  {
   "cell_type": "code",
   "execution_count": 112,
   "metadata": {},
   "outputs": [
    {
     "name": "stdout",
     "output_type": "stream",
     "text": [
      "****** Random Forest Model Prediction on Test Data ******\n",
      "*********************************************************\n",
      "\n",
      "--------- Confusion Matrix ---------\n",
      "\n",
      " [[ 24   0   2]\n",
      " [  0  68   0]\n",
      " [ 15   4 727]]\n",
      "\n",
      "------------------------------------\n",
      "Acurracy Score: 0.975\n",
      "------------------------------------\n",
      "\n",
      "------ Classification Report -------\n",
      "\n",
      "               precision    recall  f1-score   support\n",
      "\n",
      "           0       0.62      0.92      0.74        26\n",
      "           1       0.94      1.00      0.97        68\n",
      "           2       1.00      0.97      0.99       746\n",
      "\n",
      "    accuracy                           0.97       840\n",
      "   macro avg       0.85      0.97      0.90       840\n",
      "weighted avg       0.98      0.97      0.98       840\n",
      "\n",
      "--------------------------------------------------------\n"
     ]
    }
   ],
   "source": [
    "print(\"****** Random Forest Model Prediction on Test Data ******\")\n",
    "print(\"*********************************************************\\n\")\n",
    "print(\"--------- Confusion Matrix ---------\\n\\n\", confusion_matrix(y_test, y_predicted_randomforest))\n",
    "print(\"\\n------------------------------------\")\n",
    "print(\"Acurracy Score:\", accuracy_score(y_test, y_predicted_randomforest))\n",
    "print(\"------------------------------------\")\n",
    "print(\"\\n------ Classification Report -------\\n\\n\", classification_report(y_test, y_predicted_randomforest))\n",
    "print(\"--------------------------------------------------------\")"
   ]
  },
  {
   "attachments": {},
   "cell_type": "markdown",
   "metadata": {},
   "source": [
    "#### Observations"
   ]
  },
  {
   "attachments": {},
   "cell_type": "markdown",
   "metadata": {},
   "source": [
    "On Training Dataset, we are getting good accuracy **(99.92%)**, Precision, Recall and F-score.\n",
    "\n",
    "Also, on Testing data, we are getting accuracy: **96.90%**."
   ]
  },
  {
   "attachments": {},
   "cell_type": "markdown",
   "metadata": {},
   "source": [
    "#### Let's save this model into a pickle file format"
   ]
  },
  {
   "cell_type": "code",
   "execution_count": 113,
   "metadata": {},
   "outputs": [],
   "source": [
    "# model saving\n",
    "\n",
    "import pickle\n",
    "\n",
    "pickle.dump(random_forest_model, open(\"random_forest_model.pkl\",\"wb\"))\n"
   ]
  }
 ],
 "metadata": {
  "kernelspec": {
   "display_name": "Python 3 (ipykernel)",
   "language": "python",
   "name": "python3"
  },
  "language_info": {
   "codemirror_mode": {
    "name": "ipython",
    "version": 3
   },
   "file_extension": ".py",
   "mimetype": "text/x-python",
   "name": "python",
   "nbconvert_exporter": "python",
   "pygments_lexer": "ipython3",
   "version": "3.9.13"
  }
 },
 "nbformat": 4,
 "nbformat_minor": 4
}
